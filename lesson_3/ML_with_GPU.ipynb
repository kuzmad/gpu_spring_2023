{
 "cells": [
  {
   "cell_type": "code",
   "execution_count": 1,
   "metadata": {
    "execution": {
     "iopub.execute_input": "2023-06-06T06:19:16.920336Z",
     "iopub.status.busy": "2023-06-06T06:19:16.919703Z",
     "iopub.status.idle": "2023-06-06T06:19:17.401994Z",
     "shell.execute_reply": "2023-06-06T06:19:17.401370Z",
     "shell.execute_reply.started": "2023-06-06T06:19:16.920108Z"
    },
    "tags": []
   },
   "outputs": [],
   "source": [
    "from sklearn.datasets import make_classification\n",
    "from sklearn.model_selection import train_test_split"
   ]
  },
  {
   "cell_type": "code",
   "execution_count": 2,
   "metadata": {
    "execution": {
     "iopub.execute_input": "2023-06-06T06:19:18.084941Z",
     "iopub.status.busy": "2023-06-06T06:19:18.084445Z",
     "iopub.status.idle": "2023-06-06T06:19:18.088492Z",
     "shell.execute_reply": "2023-06-06T06:19:18.087888Z",
     "shell.execute_reply.started": "2023-06-06T06:19:18.084913Z"
    },
    "tags": []
   },
   "outputs": [],
   "source": [
    "# параметры \n",
    "n_samples = 2000000\n",
    "n_features = 40\n",
    "n_classes = 2\n",
    "\n",
    "# random forest depth and size\n",
    "n_estimators = 1000\n",
    "max_depth = 7"
   ]
  },
  {
   "cell_type": "code",
   "execution_count": 3,
   "metadata": {
    "execution": {
     "iopub.execute_input": "2023-06-06T06:19:19.388288Z",
     "iopub.status.busy": "2023-06-06T06:19:19.387890Z",
     "iopub.status.idle": "2023-06-06T06:19:25.638676Z",
     "shell.execute_reply": "2023-06-06T06:19:25.637786Z",
     "shell.execute_reply.started": "2023-06-06T06:19:19.388263Z"
    },
    "tags": []
   },
   "outputs": [],
   "source": [
    "X, y = make_classification(n_classes=n_classes, n_features=n_features, n_samples=n_samples, random_state=0, class_sep=0.7)"
   ]
  },
  {
   "cell_type": "markdown",
   "metadata": {},
   "source": [
    "# Catboost\n",
    "\n",
    "Замечательная библиотека, которая из коробки умеет в GPU и multi-GPU без всяких сторонних бибилиотек. Она умеет также работать с категориальными переменными и по многим экспериментам быстрее XGBoost и LightGBM."
   ]
  },
  {
   "cell_type": "code",
   "execution_count": 4,
   "metadata": {
    "execution": {
     "iopub.execute_input": "2023-06-06T06:19:26.030453Z",
     "iopub.status.busy": "2023-06-06T06:19:26.029923Z",
     "iopub.status.idle": "2023-06-06T06:19:26.322113Z",
     "shell.execute_reply": "2023-06-06T06:19:26.321228Z",
     "shell.execute_reply.started": "2023-06-06T06:19:26.030413Z"
    },
    "tags": []
   },
   "outputs": [],
   "source": [
    "from catboost import CatBoostClassifier, Pool"
   ]
  },
  {
   "cell_type": "markdown",
   "metadata": {},
   "source": [
    "CPU версия catboost на самом деле медленная, но вообще он писался больше для рассчетов на GPU. В Pool лучше данные загнать, но если очень не хочется, то можно и без этого немного в ущерб скорости при первом запуске, так как это все равно произойдет =)"
   ]
  },
  {
   "cell_type": "code",
   "execution_count": 5,
   "metadata": {
    "execution": {
     "iopub.execute_input": "2023-06-06T06:19:28.150411Z",
     "iopub.status.busy": "2023-06-06T06:19:28.149636Z",
     "iopub.status.idle": "2023-06-06T06:19:47.510245Z",
     "shell.execute_reply": "2023-06-06T06:19:47.509097Z",
     "shell.execute_reply.started": "2023-06-06T06:19:28.150360Z"
    },
    "tags": []
   },
   "outputs": [],
   "source": [
    "X_cat = Pool(X, y)"
   ]
  },
  {
   "cell_type": "code",
   "execution_count": 6,
   "metadata": {
    "execution": {
     "iopub.execute_input": "2023-06-06T06:20:25.063775Z",
     "iopub.status.busy": "2023-06-06T06:20:25.063364Z",
     "iopub.status.idle": "2023-06-06T06:22:35.996544Z",
     "shell.execute_reply": "2023-06-06T06:22:35.994904Z",
     "shell.execute_reply.started": "2023-06-06T06:20:25.063748Z"
    },
    "tags": []
   },
   "outputs": [
    {
     "name": "stdout",
     "output_type": "stream",
     "text": [
      "CPU times: user 13min 41s, sys: 28 s, total: 14min 9s\n",
      "Wall time: 2min 10s\n"
     ]
    }
   ],
   "source": [
    "%%time \n",
    "cpu_catboost = CatBoostClassifier(iterations=1000, max_depth=7, task_type='CPU',\n",
    "                                        boosting_type='Plain', verbose=0,\n",
    "                                        thread_count=-1).fit(X, y)"
   ]
  },
  {
   "cell_type": "code",
   "execution_count": 7,
   "metadata": {
    "execution": {
     "iopub.execute_input": "2023-06-06T06:24:32.889500Z",
     "iopub.status.busy": "2023-06-06T06:24:32.888834Z",
     "iopub.status.idle": "2023-06-06T06:26:18.203779Z",
     "shell.execute_reply": "2023-06-06T06:26:18.201651Z",
     "shell.execute_reply.started": "2023-06-06T06:24:32.889465Z"
    },
    "tags": []
   },
   "outputs": [
    {
     "name": "stdout",
     "output_type": "stream",
     "text": [
      "CPU times: user 12min 50s, sys: 25.8 s, total: 13min 16s\n",
      "Wall time: 1min 45s\n"
     ]
    }
   ],
   "source": [
    "%%time \n",
    "cpu_catboost = CatBoostClassifier(iterations=1000, max_depth=7, task_type='CPU',\n",
    "                                        boosting_type='Plain', verbose=0,\n",
    "                                        thread_count=-1).fit(X_cat)"
   ]
  },
  {
   "cell_type": "markdown",
   "metadata": {},
   "source": [
    "По умолчанию Catboost возьмет все доступные гпу и 50% памяти, не берите все, если не нужно =)"
   ]
  },
  {
   "cell_type": "code",
   "execution_count": 8,
   "metadata": {
    "execution": {
     "iopub.execute_input": "2023-06-06T06:26:18.207622Z",
     "iopub.status.busy": "2023-06-06T06:26:18.207153Z",
     "iopub.status.idle": "2023-06-06T06:26:49.193795Z",
     "shell.execute_reply": "2023-06-06T06:26:49.192562Z",
     "shell.execute_reply.started": "2023-06-06T06:26:18.207589Z"
    },
    "tags": []
   },
   "outputs": [
    {
     "name": "stdout",
     "output_type": "stream",
     "text": [
      "CPU times: user 34.9 s, sys: 9.95 s, total: 44.9 s\n",
      "Wall time: 31 s\n"
     ]
    }
   ],
   "source": [
    "%%time \n",
    "gpu_catboost = CatBoostClassifier(iterations=1000, task_type='GPU',  boosting_type='Plain',\n",
    "                                  verbose=0, devices='0', gpu_ram_part=0.5).fit(X, y, verbose=False)"
   ]
  },
  {
   "cell_type": "code",
   "execution_count": 9,
   "metadata": {
    "execution": {
     "iopub.execute_input": "2023-06-06T06:26:49.195740Z",
     "iopub.status.busy": "2023-06-06T06:26:49.195358Z",
     "iopub.status.idle": "2023-06-06T06:26:59.985634Z",
     "shell.execute_reply": "2023-06-06T06:26:59.984418Z",
     "shell.execute_reply.started": "2023-06-06T06:26:49.195715Z"
    },
    "tags": []
   },
   "outputs": [
    {
     "name": "stdout",
     "output_type": "stream",
     "text": [
      "CPU times: user 14.7 s, sys: 8.43 s, total: 23.2 s\n",
      "Wall time: 10.8 s\n"
     ]
    }
   ],
   "source": [
    "%%time \n",
    "gpu_catboost = CatBoostClassifier(iterations=1000, task_type='GPU',  boosting_type='Plain',\n",
    "                                  verbose=0, devices='0', gpu_ram_part=0.5).fit(X_cat, verbose=False)"
   ]
  },
  {
   "cell_type": "code",
   "execution_count": 10,
   "metadata": {
    "execution": {
     "iopub.execute_input": "2023-06-06T06:26:59.988530Z",
     "iopub.status.busy": "2023-06-06T06:26:59.987784Z",
     "iopub.status.idle": "2023-06-06T06:27:09.797250Z",
     "shell.execute_reply": "2023-06-06T06:27:09.796042Z",
     "shell.execute_reply.started": "2023-06-06T06:26:59.988503Z"
    },
    "tags": []
   },
   "outputs": [
    {
     "name": "stdout",
     "output_type": "stream",
     "text": [
      "CPU times: user 23 s, sys: 9.3 s, total: 32.3 s\n",
      "Wall time: 9.8 s\n"
     ]
    }
   ],
   "source": [
    "%%time \n",
    "gpu_catboost = CatBoostClassifier(iterations=1000, task_type='GPU',  boosting_type='Plain',\n",
    "                                  verbose=0, devices='0:1', gpu_ram_part=0.5).fit(X_cat, verbose=False)"
   ]
  },
  {
   "cell_type": "markdown",
   "metadata": {},
   "source": [
    "По умолчанию берутся все GPU"
   ]
  },
  {
   "cell_type": "code",
   "execution_count": 11,
   "metadata": {
    "execution": {
     "iopub.execute_input": "2023-06-06T06:27:09.799166Z",
     "iopub.status.busy": "2023-06-06T06:27:09.798777Z",
     "iopub.status.idle": "2023-06-06T06:27:19.454400Z",
     "shell.execute_reply": "2023-06-06T06:27:19.453352Z",
     "shell.execute_reply.started": "2023-06-06T06:27:09.799140Z"
    },
    "tags": []
   },
   "outputs": [
    {
     "name": "stdout",
     "output_type": "stream",
     "text": [
      "CPU times: user 23 s, sys: 9.42 s, total: 32.5 s\n",
      "Wall time: 9.65 s\n"
     ]
    }
   ],
   "source": [
    "%%time \n",
    "gpu_catboost = CatBoostClassifier(iterations=1000, task_type='GPU',  boosting_type='Plain',\n",
    "                                  verbose=0, gpu_ram_part=0.5).fit(X_cat, verbose=False)"
   ]
  }
 ],
 "metadata": {
  "kernelspec": {
   "display_name": "Python 3",
   "language": "python",
   "name": "python3"
  },
  "language_info": {
   "codemirror_mode": {
    "name": "ipython",
    "version": 3
   },
   "file_extension": ".py",
   "mimetype": "text/x-python",
   "name": "python",
   "nbconvert_exporter": "python",
   "pygments_lexer": "ipython3",
   "version": "3.8.15"
  }
 },
 "nbformat": 4,
 "nbformat_minor": 4
}
