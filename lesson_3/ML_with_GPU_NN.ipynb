{
 "cells": [
  {
   "cell_type": "code",
   "execution_count": 1,
   "metadata": {
    "execution": {
     "iopub.execute_input": "2023-06-05T12:12:39.793631Z",
     "iopub.status.busy": "2023-06-05T12:12:39.793109Z",
     "iopub.status.idle": "2023-06-05T12:12:42.690278Z",
     "shell.execute_reply": "2023-06-05T12:12:42.689238Z",
     "shell.execute_reply.started": "2023-06-05T12:12:39.793581Z"
    },
    "tags": []
   },
   "outputs": [],
   "source": [
    "import torch\n",
    "from torch.nn import functional as F\n",
    "from torch import nn\n",
    "import torch.optim as optim\n",
    "from torch.utils.data import Dataset, DataLoader, DistributedSampler\n",
    "import pytorch_lightning as pl\n",
    "import numpy as np\n",
    "from torchvision import datasets, transforms\n",
    "import os\n",
    "from tqdm import tqdm"
   ]
  },
  {
   "cell_type": "markdown",
   "metadata": {},
   "source": [
    "# Pytorch"
   ]
  },
  {
   "cell_type": "code",
   "execution_count": 2,
   "metadata": {
    "execution": {
     "iopub.execute_input": "2023-06-05T12:12:42.725232Z",
     "iopub.status.busy": "2023-06-05T12:12:42.724740Z",
     "iopub.status.idle": "2023-06-05T12:12:42.729354Z",
     "shell.execute_reply": "2023-06-05T12:12:42.728475Z",
     "shell.execute_reply.started": "2023-06-05T12:12:42.725192Z"
    },
    "tags": []
   },
   "outputs": [],
   "source": [
    "BATCH_SIZE = 512\n",
    "N_EPOCHS = 5\n",
    "LEARNING_RATE = 1e-3"
   ]
  },
  {
   "cell_type": "markdown",
   "metadata": {},
   "source": [
    "Давайте загрузм данные и передадим в dataset пайплайн предобработки"
   ]
  },
  {
   "cell_type": "code",
   "execution_count": 3,
   "metadata": {
    "execution": {
     "iopub.execute_input": "2023-06-05T12:12:42.732310Z",
     "iopub.status.busy": "2023-06-05T12:12:42.731526Z",
     "iopub.status.idle": "2023-06-05T12:12:42.781223Z",
     "shell.execute_reply": "2023-06-05T12:12:42.780436Z",
     "shell.execute_reply.started": "2023-06-05T12:12:42.732264Z"
    },
    "tags": []
   },
   "outputs": [],
   "source": [
    "transform=transforms.Compose([\n",
    "        transforms.ToTensor(),\n",
    "        transforms.Normalize((0.1307,), (0.3081,))\n",
    "    ])\n",
    "\n",
    "train_dataset = datasets.FashionMNIST(os.getcwd(), train=True, download=False,\n",
    "                   transform=transform)\n",
    "train_loader = DataLoader(train_dataset, batch_size=BATCH_SIZE, shuffle=False, num_workers=10)"
   ]
  },
  {
   "cell_type": "code",
   "execution_count": 4,
   "metadata": {
    "execution": {
     "iopub.execute_input": "2023-06-05T12:12:42.782949Z",
     "iopub.status.busy": "2023-06-05T12:12:42.782282Z",
     "iopub.status.idle": "2023-06-05T12:12:42.794452Z",
     "shell.execute_reply": "2023-06-05T12:12:42.793342Z",
     "shell.execute_reply.started": "2023-06-05T12:12:42.782922Z"
    },
    "tags": []
   },
   "outputs": [],
   "source": [
    "def accuracy(true, pred):\n",
    "    return sum(pred == true) / len(pred)\n",
    "\n",
    "class Flatten(nn.Module):\n",
    "    def forward(self, x):\n",
    "        return x.view(x.size(0), -1)\n",
    "    \n",
    "class PytorchModel(torch.nn.Module):\n",
    "    def __init__(self):\n",
    "        super(PytorchModel, self).__init__()\n",
    "        self.sequential_module = nn.Sequential(\n",
    "            nn.Conv2d(in_channels=1, out_channels=16, kernel_size=3, padding=1),\n",
    "            nn.BatchNorm2d(16),\n",
    "            nn.ReLU(inplace=False),\n",
    "            nn.Conv2d(in_channels=16, out_channels=32, kernel_size=3, padding=1),\n",
    "            nn.ReLU(inplace=False),\n",
    "            nn.MaxPool2d(kernel_size=2, stride=2),\n",
    "\n",
    "            nn.Conv2d(in_channels=32, out_channels=64, kernel_size=3, padding=1),\n",
    "            nn.BatchNorm2d(64),\n",
    "            nn.ReLU(inplace=False),\n",
    "            nn.Conv2d(in_channels=64, out_channels=64, kernel_size=3, padding=1),\n",
    "            nn.ReLU(inplace=False),\n",
    "            nn.MaxPool2d(kernel_size=2, stride=2),\n",
    "\n",
    "            nn.Conv2d(in_channels=64, out_channels=128, kernel_size=3, padding=1),\n",
    "            nn.BatchNorm2d(128),\n",
    "            nn.ReLU(inplace=False),\n",
    "            nn.Conv2d(in_channels=128, out_channels=128, kernel_size=3, padding=1),\n",
    "            nn.ReLU(inplace=False),\n",
    "            nn.MaxPool2d(kernel_size=2, stride=2),\n",
    "\n",
    "            Flatten(),\n",
    "\n",
    "            nn.Linear(1152, 64),\n",
    "            nn.ReLU(inplace=False),\n",
    "            nn.Linear(64, 32),\n",
    "            nn.ReLU(inplace=False),\n",
    "            nn.Dropout(p=0.5),\n",
    "            nn.Linear(32, 10)\n",
    "        )\n",
    "\n",
    "    def forward(self, x):\n",
    "        x = self.sequential_module(x)\n",
    "        x = F.log_softmax(x, dim=-1)\n",
    "        return x"
   ]
  },
  {
   "cell_type": "code",
   "execution_count": 5,
   "metadata": {
    "execution": {
     "iopub.execute_input": "2023-06-05T11:13:36.796940Z",
     "iopub.status.busy": "2023-06-05T11:13:36.796502Z",
     "iopub.status.idle": "2023-06-05T11:13:36.805156Z",
     "shell.execute_reply": "2023-06-05T11:13:36.804426Z",
     "shell.execute_reply.started": "2023-06-05T11:13:36.796914Z"
    },
    "tags": []
   },
   "outputs": [],
   "source": [
    "class TrainModel():\n",
    "    \n",
    "    def __init__(self, device='cpu', dp=False):\n",
    "        self.learning_rate = LEARNING_RATE\n",
    "        self.n_epochs = N_EPOCHS\n",
    "        self.device = device\n",
    "        self.model = PytorchModel()\n",
    "        if self.device != 'cpu':\n",
    "            self.model.to(self.device)\n",
    "            if dp:\n",
    "                self.model = nn.DataParallel(self.model)\n",
    "        self.optimizer = torch.optim.Adam(self.model.parameters(), lr=self.learning_rate)\n",
    "        \n",
    "    def run_train(self, train_loader):\n",
    "        all_preds = []\n",
    "        all_facts = []\n",
    "        \n",
    "        self.criterion = nn.NLLLoss()\n",
    "        for epoch in range(self.n_epochs):\n",
    "            self.model.train()\n",
    "            for x, y in tqdm(train_loader):\n",
    "                \n",
    "                if self.device != 'cpu':\n",
    "                    x = x.to(self.device)\n",
    "                    y = y.to(self.device)\n",
    "                \n",
    "                self.model.zero_grad()\n",
    "                y_pred = self.model(x)\n",
    "                \n",
    "                loss = self.criterion(y_pred, y)\n",
    "                loss.backward()\n",
    "                \n",
    "                y_pred = y_pred.argmax(dim=1, keepdim=True)\n",
    "                y_pred = torch.squeeze(y_pred)\n",
    "                \n",
    "                all_preds.extend(y_pred.cpu().detach().numpy())\n",
    "                all_facts.extend(y.cpu().detach().numpy())\n",
    "                \n",
    "                self.optimizer.step()\n",
    "                \n",
    "            print(f'epoch = {epoch}, accuracy = {accuracy(np.array(all_preds), np.array(all_facts))}')\n",
    "        return self"
   ]
  },
  {
   "cell_type": "markdown",
   "metadata": {},
   "source": [
    "### cpu"
   ]
  },
  {
   "cell_type": "code",
   "execution_count": 6,
   "metadata": {
    "execution": {
     "iopub.execute_input": "2023-06-05T11:13:41.522115Z",
     "iopub.status.busy": "2023-06-05T11:13:41.521706Z",
     "iopub.status.idle": "2023-06-05T11:22:23.717005Z",
     "shell.execute_reply": "2023-06-05T11:22:23.715402Z",
     "shell.execute_reply.started": "2023-06-05T11:13:41.522090Z"
    },
    "tags": []
   },
   "outputs": [
    {
     "name": "stderr",
     "output_type": "stream",
     "text": [
      "100%|██████████| 118/118 [01:44<00:00,  1.13it/s]\n"
     ]
    },
    {
     "name": "stdout",
     "output_type": "stream",
     "text": [
      "epoch = 0, accuracy = 0.7737833333333334\n"
     ]
    },
    {
     "name": "stderr",
     "output_type": "stream",
     "text": [
      "100%|██████████| 118/118 [01:39<00:00,  1.18it/s]\n"
     ]
    },
    {
     "name": "stdout",
     "output_type": "stream",
     "text": [
      "epoch = 1, accuracy = 0.8589416666666667\n"
     ]
    },
    {
     "name": "stderr",
     "output_type": "stream",
     "text": [
      "100%|██████████| 118/118 [01:45<00:00,  1.12it/s]\n"
     ]
    },
    {
     "name": "stdout",
     "output_type": "stream",
     "text": [
      "epoch = 2, accuracy = 0.8919777777777778\n"
     ]
    },
    {
     "name": "stderr",
     "output_type": "stream",
     "text": [
      "100%|██████████| 118/118 [01:44<00:00,  1.13it/s]\n"
     ]
    },
    {
     "name": "stdout",
     "output_type": "stream",
     "text": [
      "epoch = 3, accuracy = 0.910025\n"
     ]
    },
    {
     "name": "stderr",
     "output_type": "stream",
     "text": [
      "100%|██████████| 118/118 [01:46<00:00,  1.11it/s]\n"
     ]
    },
    {
     "name": "stdout",
     "output_type": "stream",
     "text": [
      "epoch = 4, accuracy = 0.9215733333333334\n",
      "CPU times: user 58min 17s, sys: 4min 59s, total: 1h 3min 16s\n",
      "Wall time: 8min 42s\n"
     ]
    }
   ],
   "source": [
    "%%time\n",
    "\n",
    "pytorch_model = TrainModel()\n",
    "pytorch_model = pytorch_model.run_train(train_loader)"
   ]
  },
  {
   "cell_type": "markdown",
   "metadata": {},
   "source": [
    "### 1 gpu"
   ]
  },
  {
   "cell_type": "code",
   "execution_count": 7,
   "metadata": {
    "execution": {
     "iopub.execute_input": "2023-06-05T11:25:11.945061Z",
     "iopub.status.busy": "2023-06-05T11:25:11.944520Z",
     "iopub.status.idle": "2023-06-05T11:25:34.746942Z",
     "shell.execute_reply": "2023-06-05T11:25:34.745565Z",
     "shell.execute_reply.started": "2023-06-05T11:25:11.945025Z"
    },
    "tags": []
   },
   "outputs": [
    {
     "name": "stderr",
     "output_type": "stream",
     "text": [
      "100%|██████████| 118/118 [00:05<00:00, 20.15it/s]\n"
     ]
    },
    {
     "name": "stdout",
     "output_type": "stream",
     "text": [
      "epoch = 0, accuracy = 0.8025666666666667\n"
     ]
    },
    {
     "name": "stderr",
     "output_type": "stream",
     "text": [
      "100%|██████████| 118/118 [00:03<00:00, 34.61it/s]\n"
     ]
    },
    {
     "name": "stdout",
     "output_type": "stream",
     "text": [
      "epoch = 1, accuracy = 0.8743583333333333\n"
     ]
    },
    {
     "name": "stderr",
     "output_type": "stream",
     "text": [
      "100%|██████████| 118/118 [00:03<00:00, 34.78it/s]\n"
     ]
    },
    {
     "name": "stdout",
     "output_type": "stream",
     "text": [
      "epoch = 2, accuracy = 0.9037277777777778\n"
     ]
    },
    {
     "name": "stderr",
     "output_type": "stream",
     "text": [
      "100%|██████████| 118/118 [00:03<00:00, 34.85it/s]\n"
     ]
    },
    {
     "name": "stdout",
     "output_type": "stream",
     "text": [
      "epoch = 3, accuracy = 0.9204208333333334\n"
     ]
    },
    {
     "name": "stderr",
     "output_type": "stream",
     "text": [
      "100%|██████████| 118/118 [00:03<00:00, 34.72it/s]\n"
     ]
    },
    {
     "name": "stdout",
     "output_type": "stream",
     "text": [
      "epoch = 4, accuracy = 0.9311066666666666\n",
      "CPU times: user 9.27 s, sys: 5.84 s, total: 15.1 s\n",
      "Wall time: 22.8 s\n"
     ]
    }
   ],
   "source": [
    "%%time\n",
    "\n",
    "pytorch_model = TrainModel(device='cuda:0')\n",
    "pytorch_model = pytorch_model.run_train(train_loader)"
   ]
  },
  {
   "cell_type": "markdown",
   "metadata": {},
   "source": [
    "### multi-gpu"
   ]
  },
  {
   "cell_type": "code",
   "execution_count": 8,
   "metadata": {
    "execution": {
     "iopub.execute_input": "2023-06-05T11:31:22.885882Z",
     "iopub.status.busy": "2023-06-05T11:31:22.885332Z",
     "iopub.status.idle": "2023-06-05T11:31:47.899969Z",
     "shell.execute_reply": "2023-06-05T11:31:47.898770Z",
     "shell.execute_reply.started": "2023-06-05T11:31:22.885831Z"
    },
    "tags": []
   },
   "outputs": [
    {
     "name": "stderr",
     "output_type": "stream",
     "text": [
      "100%|██████████| 118/118 [00:08<00:00, 14.61it/s]\n"
     ]
    },
    {
     "name": "stdout",
     "output_type": "stream",
     "text": [
      "epoch = 0, accuracy = 0.779\n"
     ]
    },
    {
     "name": "stderr",
     "output_type": "stream",
     "text": [
      "100%|██████████| 118/118 [00:03<00:00, 30.36it/s]\n"
     ]
    },
    {
     "name": "stdout",
     "output_type": "stream",
     "text": [
      "epoch = 1, accuracy = 0.85905\n"
     ]
    },
    {
     "name": "stderr",
     "output_type": "stream",
     "text": [
      "100%|██████████| 118/118 [00:03<00:00, 31.75it/s]\n"
     ]
    },
    {
     "name": "stdout",
     "output_type": "stream",
     "text": [
      "epoch = 2, accuracy = 0.8908611111111111\n"
     ]
    },
    {
     "name": "stderr",
     "output_type": "stream",
     "text": [
      "100%|██████████| 118/118 [00:03<00:00, 32.16it/s]\n"
     ]
    },
    {
     "name": "stdout",
     "output_type": "stream",
     "text": [
      "epoch = 3, accuracy = 0.90885\n"
     ]
    },
    {
     "name": "stderr",
     "output_type": "stream",
     "text": [
      "100%|██████████| 118/118 [00:03<00:00, 32.45it/s]\n"
     ]
    },
    {
     "name": "stdout",
     "output_type": "stream",
     "text": [
      "epoch = 4, accuracy = 0.9202933333333333\n",
      "CPU times: user 15.7 s, sys: 6.49 s, total: 22.2 s\n",
      "Wall time: 25 s\n"
     ]
    }
   ],
   "source": [
    "%%time\n",
    "\n",
    "pytorch_model = TrainModel(device='cuda:0', dp=True)\n",
    "pytorch_model = pytorch_model.run_train(train_loader)"
   ]
  },
  {
   "cell_type": "markdown",
   "metadata": {},
   "source": [
    "### torch.nn.DataParallel(module, device_ids=None, output_device=None, dim=0)\n",
    "\n",
    "device_ids = [0, 1]"
   ]
  },
  {
   "cell_type": "markdown",
   "metadata": {},
   "source": [
    "Создадим модель при помощи pytorch-lightening. У него много возможностей, в том числе легкое логирование всего в tensorboard, уже готовый конструктор для обучения моделей"
   ]
  },
  {
   "cell_type": "code",
   "execution_count": 5,
   "metadata": {
    "execution": {
     "iopub.execute_input": "2023-06-05T12:12:45.687136Z",
     "iopub.status.busy": "2023-06-05T12:12:45.686357Z",
     "iopub.status.idle": "2023-06-05T12:12:45.699350Z",
     "shell.execute_reply": "2023-06-05T12:12:45.698126Z",
     "shell.execute_reply.started": "2023-06-05T12:12:45.687105Z"
    },
    "tags": []
   },
   "outputs": [],
   "source": [
    "def accuracy(true, pred):\n",
    "    return sum(pred == true) / len(pred)\n",
    "\n",
    "class Flatten(nn.Module):\n",
    "    def forward(self, x):\n",
    "        return x.view(x.size(0), -1)\n",
    "\n",
    "class LightModel(pl.LightningModule):\n",
    "    def __init__(self, learning_rate):\n",
    "        super(LightModel, self).__init__()\n",
    "        self.sequential_module = nn.Sequential(\n",
    "            nn.Conv2d(in_channels=1, out_channels=16, kernel_size=3, padding=1),\n",
    "            nn.BatchNorm2d(16),\n",
    "            nn.ReLU(inplace=False),\n",
    "            nn.Conv2d(in_channels=16, out_channels=32, kernel_size=3, padding=1),\n",
    "            nn.ReLU(inplace=False),\n",
    "            nn.MaxPool2d(kernel_size=2, stride=2),\n",
    "\n",
    "            nn.Conv2d(in_channels=32, out_channels=64, kernel_size=3, padding=1),\n",
    "            nn.BatchNorm2d(64),\n",
    "            nn.ReLU(inplace=False),\n",
    "            nn.Conv2d(in_channels=64, out_channels=64, kernel_size=3, padding=1),\n",
    "            nn.ReLU(inplace=False),\n",
    "            nn.MaxPool2d(kernel_size=2, stride=2),\n",
    "\n",
    "            nn.Conv2d(in_channels=64, out_channels=128, kernel_size=3, padding=1),\n",
    "            nn.BatchNorm2d(128),\n",
    "            nn.ReLU(inplace=False),\n",
    "            nn.Conv2d(in_channels=128, out_channels=128, kernel_size=3, padding=1),\n",
    "            nn.ReLU(inplace=False),\n",
    "            nn.MaxPool2d(kernel_size=2, stride=2),\n",
    "\n",
    "            Flatten(),\n",
    "\n",
    "            nn.Linear(1152, 64),\n",
    "            nn.ReLU(inplace=False),\n",
    "            nn.Linear(64, 32),\n",
    "            nn.ReLU(inplace=False),\n",
    "            nn.Dropout(p=0.5),\n",
    "            nn.Linear(32, 10)\n",
    "        )\n",
    "        self.criterion = nn.NLLLoss()\n",
    "        self.learning_rate = learning_rate\n",
    "\n",
    "    def forward(self, x):\n",
    "        x = self.sequential_module(x)\n",
    "        x = F.log_softmax(x, dim=-1)\n",
    "        return x\n",
    "    \n",
    "    def training_step(self, batch, batch_idx):\n",
    "        x, y = batch\n",
    "        y_hat = self(x)\n",
    "        loss = self.criterion(y_hat, y)\n",
    "        pred = y_hat.argmax(dim=1, keepdim=True)\n",
    "        pred = torch.squeeze(pred)\n",
    "        self.log(\"train_loss\", loss, on_step=True, on_epoch=True, prog_bar=True, logger=True)\n",
    "        return {'loss': loss, 'accuracy': accuracy(pred, y)}\n",
    "    \n",
    "    def configure_optimizers(self):\n",
    "        optimizer = torch.optim.Adam(self.parameters(), lr=self.learning_rate)\n",
    "        return optimizer"
   ]
  },
  {
   "cell_type": "markdown",
   "metadata": {},
   "source": [
    "Trainer чем-то похож на обучение моделей в keras. gpus=None говорит о том, что обучать мы будем все на CPU"
   ]
  },
  {
   "cell_type": "code",
   "execution_count": 17,
   "metadata": {
    "execution": {
     "iopub.execute_input": "2023-06-05T11:59:58.153867Z",
     "iopub.status.busy": "2023-06-05T11:59:58.153514Z",
     "iopub.status.idle": "2023-06-05T11:59:58.179650Z",
     "shell.execute_reply": "2023-06-05T11:59:58.179174Z",
     "shell.execute_reply.started": "2023-06-05T11:59:58.153837Z"
    },
    "tags": []
   },
   "outputs": [
    {
     "name": "stderr",
     "output_type": "stream",
     "text": [
      "GPU available: True (cuda), used: False\n",
      "TPU available: False, using: 0 TPU cores\n",
      "IPU available: False, using: 0 IPUs\n",
      "HPU available: False, using: 0 HPUs\n",
      "/opt/app-root/lib/python3.8/site-packages/pytorch_lightning/trainer/setup.py:176: PossibleUserWarning: GPU available but not used. Set `accelerator` and `devices` using `Trainer(accelerator='gpu', devices=2)`.\n",
      "  rank_zero_warn(\n"
     ]
    }
   ],
   "source": [
    "trainer_cpu = pl.Trainer(accelerator='cpu', max_epochs=N_EPOCHS)\n",
    "nn_model = LightModel(LEARNING_RATE)"
   ]
  },
  {
   "cell_type": "code",
   "execution_count": 18,
   "metadata": {
    "execution": {
     "iopub.execute_input": "2023-06-05T11:59:58.792674Z",
     "iopub.status.busy": "2023-06-05T11:59:58.792250Z",
     "iopub.status.idle": "2023-06-05T12:11:01.703382Z",
     "shell.execute_reply": "2023-06-05T12:11:01.702350Z",
     "shell.execute_reply.started": "2023-06-05T11:59:58.792647Z"
    },
    "tags": []
   },
   "outputs": [
    {
     "name": "stderr",
     "output_type": "stream",
     "text": [
      "\n",
      "  | Name              | Type       | Params\n",
      "-------------------------------------------------\n",
      "0 | sequential_module | Sequential | 358 K \n",
      "1 | criterion         | NLLLoss    | 0     \n",
      "-------------------------------------------------\n",
      "358 K     Trainable params\n",
      "0         Non-trainable params\n",
      "358 K     Total params\n",
      "1.433     Total estimated model params size (MB)\n"
     ]
    },
    {
     "data": {
      "application/vnd.jupyter.widget-view+json": {
       "model_id": "9873e22479d24f0386b08ea5353253b5",
       "version_major": 2,
       "version_minor": 0
      },
      "text/plain": [
       "Training: 0it [00:00, ?it/s]"
      ]
     },
     "metadata": {},
     "output_type": "display_data"
    },
    {
     "name": "stderr",
     "output_type": "stream",
     "text": [
      "`Trainer.fit` stopped: `max_epochs=5` reached.\n"
     ]
    },
    {
     "name": "stdout",
     "output_type": "stream",
     "text": [
      "CPU times: user 1h 8min 35s, sys: 13min 53s, total: 1h 22min 29s\n",
      "Wall time: 11min 2s\n"
     ]
    }
   ],
   "source": [
    "%time trainer_cpu.fit(nn_model, train_loader)"
   ]
  },
  {
   "cell_type": "markdown",
   "metadata": {},
   "source": [
    "Предыдущий вариант был долгим...Давайте возьмем 1 гпу (если написать devices = [0], то выберется с индексом 0)."
   ]
  },
  {
   "cell_type": "code",
   "execution_count": 19,
   "metadata": {
    "execution": {
     "iopub.execute_input": "2023-06-05T12:11:41.223439Z",
     "iopub.status.busy": "2023-06-05T12:11:41.222967Z",
     "iopub.status.idle": "2023-06-05T12:11:41.258699Z",
     "shell.execute_reply": "2023-06-05T12:11:41.257938Z",
     "shell.execute_reply.started": "2023-06-05T12:11:41.223404Z"
    },
    "tags": []
   },
   "outputs": [
    {
     "name": "stderr",
     "output_type": "stream",
     "text": [
      "GPU available: True (cuda), used: True\n",
      "TPU available: False, using: 0 TPU cores\n",
      "IPU available: False, using: 0 IPUs\n",
      "HPU available: False, using: 0 HPUs\n"
     ]
    }
   ],
   "source": [
    "trainer_gpu = pl.Trainer(accelerator='gpu', max_epochs=N_EPOCHS, devices=1)\n",
    "nn_model = LightModel(LEARNING_RATE)"
   ]
  },
  {
   "cell_type": "code",
   "execution_count": 20,
   "metadata": {
    "execution": {
     "iopub.execute_input": "2023-06-05T12:11:43.991161Z",
     "iopub.status.busy": "2023-06-05T12:11:43.990763Z",
     "iopub.status.idle": "2023-06-05T12:12:06.360029Z",
     "shell.execute_reply": "2023-06-05T12:12:06.358483Z",
     "shell.execute_reply.started": "2023-06-05T12:11:43.991134Z"
    },
    "tags": []
   },
   "outputs": [
    {
     "name": "stderr",
     "output_type": "stream",
     "text": [
      "You are using a CUDA device ('NVIDIA A100-PCIE-40GB') that has Tensor Cores. To properly utilize them, you should set `torch.set_float32_matmul_precision('medium' | 'high')` which will trade-off precision for performance. For more details, read https://pytorch.org/docs/stable/generated/torch.set_float32_matmul_precision.html#torch.set_float32_matmul_precision\n",
      "LOCAL_RANK: 0 - CUDA_VISIBLE_DEVICES: [0,1]\n",
      "\n",
      "  | Name              | Type       | Params\n",
      "-------------------------------------------------\n",
      "0 | sequential_module | Sequential | 358 K \n",
      "1 | criterion         | NLLLoss    | 0     \n",
      "-------------------------------------------------\n",
      "358 K     Trainable params\n",
      "0         Non-trainable params\n",
      "358 K     Total params\n",
      "1.433     Total estimated model params size (MB)\n"
     ]
    },
    {
     "data": {
      "application/vnd.jupyter.widget-view+json": {
       "model_id": "488ab593531549d58a48a728402e0c72",
       "version_major": 2,
       "version_minor": 0
      },
      "text/plain": [
       "Training: 0it [00:00, ?it/s]"
      ]
     },
     "metadata": {},
     "output_type": "display_data"
    },
    {
     "name": "stderr",
     "output_type": "stream",
     "text": [
      "`Trainer.fit` stopped: `max_epochs=5` reached.\n"
     ]
    },
    {
     "name": "stdout",
     "output_type": "stream",
     "text": [
      "CPU times: user 10.5 s, sys: 6.1 s, total: 16.6 s\n",
      "Wall time: 22.4 s\n"
     ]
    }
   ],
   "source": [
    "%time trainer_gpu.fit(nn_model, train_loader)"
   ]
  },
  {
   "cell_type": "markdown",
   "metadata": {},
   "source": [
    "Намного лучше. А что если взять 2 гпу? Для этого нужно немного переписать код, так как мы будем использовать стратегию dp - батч делится на равные части между всеми задействованными gpu"
   ]
  },
  {
   "cell_type": "markdown",
   "metadata": {},
   "source": [
    "GPU можно выбирать, либо сказать сколько хотим взять и будут выбраны наименее загруженные"
   ]
  },
  {
   "cell_type": "code",
   "execution_count": 6,
   "metadata": {
    "execution": {
     "iopub.execute_input": "2023-06-05T12:12:51.412031Z",
     "iopub.status.busy": "2023-06-05T12:12:51.411551Z",
     "iopub.status.idle": "2023-06-05T12:12:51.578534Z",
     "shell.execute_reply": "2023-06-05T12:12:51.577381Z",
     "shell.execute_reply.started": "2023-06-05T12:12:51.412005Z"
    },
    "tags": []
   },
   "outputs": [
    {
     "name": "stderr",
     "output_type": "stream",
     "text": [
      "GPU available: True (cuda), used: True\n",
      "TPU available: False, using: 0 TPU cores\n",
      "IPU available: False, using: 0 IPUs\n",
      "HPU available: False, using: 0 HPUs\n"
     ]
    }
   ],
   "source": [
    "trainer_gpu = pl.Trainer(accelerator='auto', max_epochs=5, devices=2,\n",
    "                         log_every_n_steps=10, use_distributed_sampler=False)#gpus=[0, 1]\n",
    "nn_model = LightModel(LEARNING_RATE)"
   ]
  },
  {
   "cell_type": "code",
   "execution_count": 7,
   "metadata": {
    "execution": {
     "iopub.execute_input": "2023-06-05T12:12:52.968597Z",
     "iopub.status.busy": "2023-06-05T12:12:52.968055Z",
     "iopub.status.idle": "2023-06-05T12:13:43.610777Z",
     "shell.execute_reply": "2023-06-05T12:13:43.609340Z",
     "shell.execute_reply.started": "2023-06-05T12:12:52.968570Z"
    },
    "tags": []
   },
   "outputs": [
    {
     "name": "stderr",
     "output_type": "stream",
     "text": [
      "Initializing distributed: GLOBAL_RANK: 0, MEMBER: 1/2\n",
      "Initializing distributed: GLOBAL_RANK: 1, MEMBER: 2/2\n",
      "[W socket.cpp:426] [c10d] The server socket cannot be initialized on [::]:41665 (errno: 97 - Address family not supported by protocol).\n",
      "[W socket.cpp:601] [c10d] The client socket cannot be initialized to connect to [localhost]:41665 (errno: 97 - Address family not supported by protocol).\n",
      "[W socket.cpp:601] [c10d] The client socket cannot be initialized to connect to [localhost]:41665 (errno: 97 - Address family not supported by protocol).\n",
      "[W socket.cpp:601] [c10d] The client socket cannot be initialized to connect to [localhost]:41665 (errno: 97 - Address family not supported by protocol).\n",
      "[W socket.cpp:601] [c10d] The client socket cannot be initialized to connect to [localhost]:41665 (errno: 97 - Address family not supported by protocol).\n",
      "----------------------------------------------------------------------------------------------------\n",
      "distributed_backend=nccl\n",
      "All distributed processes registered. Starting with 2 processes\n",
      "----------------------------------------------------------------------------------------------------\n",
      "\n",
      "You are using a CUDA device ('NVIDIA A100-PCIE-40GB') that has Tensor Cores. To properly utilize them, you should set `torch.set_float32_matmul_precision('medium' | 'high')` which will trade-off precision for performance. For more details, read https://pytorch.org/docs/stable/generated/torch.set_float32_matmul_precision.html#torch.set_float32_matmul_precision\n",
      "LOCAL_RANK: 1 - CUDA_VISIBLE_DEVICES: [0,1]\n",
      "LOCAL_RANK: 0 - CUDA_VISIBLE_DEVICES: [0,1]\n",
      "\n",
      "  | Name              | Type       | Params\n",
      "-------------------------------------------------\n",
      "0 | sequential_module | Sequential | 358 K \n",
      "1 | criterion         | NLLLoss    | 0     \n",
      "-------------------------------------------------\n",
      "358 K     Trainable params\n",
      "0         Non-trainable params\n",
      "358 K     Total params\n",
      "1.433     Total estimated model params size (MB)\n",
      "2023-06-05 12:12:56.486338: I tensorflow/stream_executor/platform/default/dso_loader.cc:49] Successfully opened dynamic library libcudart.so.11.0\n"
     ]
    },
    {
     "data": {
      "application/vnd.jupyter.widget-view+json": {
       "model_id": "d98bea2f2ac44b2fa85d41387a672c81",
       "version_major": 2,
       "version_minor": 0
      },
      "text/plain": [
       "Training: 0it [00:00, ?it/s]"
      ]
     },
     "metadata": {},
     "output_type": "display_data"
    },
    {
     "name": "stderr",
     "output_type": "stream",
     "text": [
      "/opt/app-root/lib/python3.8/site-packages/pytorch_lightning/trainer/connectors/logger_connector/result.py:432: PossibleUserWarning: It is recommended to use `self.log('train_loss', ..., sync_dist=True)` when logging on epoch level in distributed setting to accumulate the metric across devices.\n",
      "  warning_cache.warn(\n",
      "`Trainer.fit` stopped: `max_epochs=5` reached.\n"
     ]
    },
    {
     "name": "stdout",
     "output_type": "stream",
     "text": [
      "CPU times: user 1.39 s, sys: 785 ms, total: 2.18 s\n",
      "Wall time: 50.6 s\n"
     ]
    }
   ],
   "source": [
    "%time trainer_gpu.fit(nn_model, train_loader)"
   ]
  },
  {
   "cell_type": "code",
   "execution_count": 9,
   "metadata": {
    "execution": {
     "iopub.execute_input": "2023-06-06T06:16:46.640385Z",
     "iopub.status.busy": "2023-06-06T06:16:46.639812Z",
     "iopub.status.idle": "2023-06-06T06:16:46.644521Z",
     "shell.execute_reply": "2023-06-06T06:16:46.643567Z",
     "shell.execute_reply.started": "2023-06-06T06:16:46.640354Z"
    },
    "tags": []
   },
   "outputs": [],
   "source": [
    "torch.cuda.empty_cache()"
   ]
  },
  {
   "cell_type": "markdown",
   "metadata": {},
   "source": [
    "# Домашнее задание \\ проект"
   ]
  },
  {
   "cell_type": "markdown",
   "metadata": {},
   "source": [
    "В данном проекте вам нужно будет провести стандартную работу - загрузить данные, поисследовать их, сделать модельку. Сразу оговорюсь, что подбор параметров, интересные архитектуры...на это я внимания обращать не буду, у нас курс не про ML. Главное - это использования GPU. Что нужно?\n",
    "\n",
    "    1) Загрузить данны при помощи cudf\\dask-cudf\n",
    "    2) Произвести базовый анализ данных (распределение классов, средние значения фичей по классам и вот это вот все). Любые преобразования данных на ваше усмотрение (только комментируйте=) )\n",
    "    3) Попробуйте в ходе анализа \\ обработки найти применение cuda.jit и cupy (достаточно по 1 примеру, даже искуственному)\n",
    "    4) Взять два метода снижения размерности из cuml (на лекции был UMAP, еще есть tSNE, tSVD, PCA...), обучить их и визуализировать наши классы в пространстве размерности 2 (раскрасить классы будет хорошей идеей)\n",
    "    5) Обучите нейронку на GPU\\Multi-GPU, а также какую-нибудь еще модельку на GPU\\Multi-GPU.\n",
    "\n",
    "Если в пункте 5 будет Multi-GPU - это дополнительные баллы, а также если еще добавите, например, метод кластеризации просто для сравнения =)\n",
    "\n",
    "P.S. прошу в коде давать комментарии того, что делаете. Пункты 4 и 5 также зачту за домашку 3 занятия.\n",
    "\n",
    "Данные находятся в файле Train_Set_90621.csv\n",
    "Amount Defaulted - эту переменную нужно удалить=)\n",
    "\n",
    "И все на GPU, никаких любимых pandas, numpy и прочего)) Думаю, из описания понятно, как я буду оценивать работу)\n",
    "\n",
    "Цель всего этого - чтобы вы побольше потыкали GPU"
   ]
  }
 ],
 "metadata": {
  "kernelspec": {
   "display_name": "Python 3",
   "language": "python",
   "name": "python3"
  },
  "language_info": {
   "codemirror_mode": {
    "name": "ipython",
    "version": 3
   },
   "file_extension": ".py",
   "mimetype": "text/x-python",
   "name": "python",
   "nbconvert_exporter": "python",
   "pygments_lexer": "ipython3",
   "version": "3.8.15"
  }
 },
 "nbformat": 4,
 "nbformat_minor": 4
}
