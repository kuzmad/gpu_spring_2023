{
 "cells": [
  {
   "cell_type": "code",
   "execution_count": null,
   "metadata": {
    "execution": {
     "iopub.execute_input": "2023-05-10T09:06:26.775028Z",
     "iopub.status.busy": "2023-05-10T09:06:26.774589Z",
     "iopub.status.idle": "2023-05-10T09:06:27.007244Z",
     "shell.execute_reply": "2023-05-10T09:06:27.006376Z",
     "shell.execute_reply.started": "2023-05-10T09:06:26.774954Z"
    },
    "tags": []
   },
   "outputs": [],
   "source": [
    "import cupy as cp\n",
    "import numpy as np"
   ]
  },
  {
   "cell_type": "markdown",
   "metadata": {},
   "source": [
    "user - время, затраченное на сами вычисления\n",
    "\n",
    "sys - время, затраченное всеми процессорами на выполнение связанных с системой задач, таких как выделение памяти, например."
   ]
  },
  {
   "cell_type": "code",
   "execution_count": null,
   "metadata": {
    "execution": {
     "iopub.execute_input": "2023-05-10T09:06:28.506743Z",
     "iopub.status.busy": "2023-05-10T09:06:28.506166Z",
     "iopub.status.idle": "2023-05-10T09:06:29.332673Z",
     "shell.execute_reply": "2023-05-10T09:06:29.331707Z",
     "shell.execute_reply.started": "2023-05-10T09:06:28.506711Z"
    },
    "tags": []
   },
   "outputs": [],
   "source": [
    "np_array = np.random.random_sample(5000000)\n",
    "cp_array = cp.random.random_sample(5000000)"
   ]
  },
  {
   "cell_type": "code",
   "execution_count": null,
   "metadata": {
    "execution": {
     "iopub.execute_input": "2023-05-10T09:06:29.359492Z",
     "iopub.status.busy": "2023-05-10T09:06:29.359102Z",
     "iopub.status.idle": "2023-05-10T09:06:29.383203Z",
     "shell.execute_reply": "2023-05-10T09:06:29.382617Z",
     "shell.execute_reply.started": "2023-05-10T09:06:29.359465Z"
    },
    "tags": []
   },
   "outputs": [],
   "source": [
    "%time np_array.mean()"
   ]
  },
  {
   "cell_type": "code",
   "execution_count": null,
   "metadata": {
    "execution": {
     "iopub.execute_input": "2023-05-10T09:06:30.088798Z",
     "iopub.status.busy": "2023-05-10T09:06:30.088419Z",
     "iopub.status.idle": "2023-05-10T09:06:30.097381Z",
     "shell.execute_reply": "2023-05-10T09:06:30.096604Z",
     "shell.execute_reply.started": "2023-05-10T09:06:30.088772Z"
    },
    "tags": []
   },
   "outputs": [],
   "source": [
    "%time np_array.sum()"
   ]
  },
  {
   "cell_type": "code",
   "execution_count": null,
   "metadata": {
    "execution": {
     "iopub.execute_input": "2023-05-10T09:07:08.214299Z",
     "iopub.status.busy": "2023-05-10T09:07:08.213924Z",
     "iopub.status.idle": "2023-05-10T09:07:08.223061Z",
     "shell.execute_reply": "2023-05-10T09:07:08.222518Z",
     "shell.execute_reply.started": "2023-05-10T09:07:08.214275Z"
    },
    "tags": []
   },
   "outputs": [],
   "source": [
    "%time cp_array.mean()"
   ]
  },
  {
   "cell_type": "code",
   "execution_count": null,
   "metadata": {
    "execution": {
     "iopub.execute_input": "2023-05-10T09:07:08.851099Z",
     "iopub.status.busy": "2023-05-10T09:07:08.850710Z",
     "iopub.status.idle": "2023-05-10T09:07:08.859971Z",
     "shell.execute_reply": "2023-05-10T09:07:08.859456Z",
     "shell.execute_reply.started": "2023-05-10T09:07:08.851074Z"
    },
    "tags": []
   },
   "outputs": [],
   "source": [
    "%time cp_array.sum()"
   ]
  },
  {
   "cell_type": "code",
   "execution_count": null,
   "metadata": {
    "execution": {
     "iopub.execute_input": "2023-05-10T09:07:10.763263Z",
     "iopub.status.busy": "2023-05-10T09:07:10.762677Z",
     "iopub.status.idle": "2023-05-10T09:07:10.766570Z",
     "shell.execute_reply": "2023-05-10T09:07:10.765987Z",
     "shell.execute_reply.started": "2023-05-10T09:07:10.763239Z"
    },
    "tags": []
   },
   "outputs": [],
   "source": [
    "def logistic_numpy(y):\n",
    "    return 1 / (1 + np.exp(-y))\n",
    "\n",
    "def logistic_cupy(y):\n",
    "    return 1 / (1 + cp.exp(-y))"
   ]
  },
  {
   "cell_type": "code",
   "execution_count": null,
   "metadata": {
    "execution": {
     "iopub.execute_input": "2023-05-10T09:07:13.857504Z",
     "iopub.status.busy": "2023-05-10T09:07:13.857131Z",
     "iopub.status.idle": "2023-05-10T09:07:13.916328Z",
     "shell.execute_reply": "2023-05-10T09:07:13.915722Z",
     "shell.execute_reply.started": "2023-05-10T09:07:13.857480Z"
    },
    "tags": []
   },
   "outputs": [],
   "source": [
    "%time logistic_numpy(np_array)"
   ]
  },
  {
   "cell_type": "code",
   "execution_count": null,
   "metadata": {
    "execution": {
     "iopub.execute_input": "2023-05-10T09:07:18.621969Z",
     "iopub.status.busy": "2023-05-10T09:07:18.621394Z",
     "iopub.status.idle": "2023-05-10T09:07:18.876160Z",
     "shell.execute_reply": "2023-05-10T09:07:18.875565Z",
     "shell.execute_reply.started": "2023-05-10T09:07:18.621929Z"
    },
    "tags": []
   },
   "outputs": [],
   "source": [
    "%time logistic_cupy(cp_array)"
   ]
  },
  {
   "cell_type": "markdown",
   "metadata": {},
   "source": [
    "А можно ли написать такую функцию, чтобы она при наличии numpy массива использовала CPU, а при наличии cupy GPU?"
   ]
  },
  {
   "cell_type": "code",
   "execution_count": null,
   "metadata": {
    "execution": {
     "iopub.execute_input": "2023-05-10T09:07:24.620897Z",
     "iopub.status.busy": "2023-05-10T09:07:24.620492Z",
     "iopub.status.idle": "2023-05-10T09:07:24.625039Z",
     "shell.execute_reply": "2023-05-10T09:07:24.624370Z",
     "shell.execute_reply.started": "2023-05-10T09:07:24.620869Z"
    },
    "tags": []
   },
   "outputs": [],
   "source": [
    "def univers_logistic(y):\n",
    "    yp = cp.get_array_module(y)\n",
    "    return 1 / (1 + yp.exp(y)) \n",
    "\n",
    "def universe_dot(x, y):\n",
    "    xp = cp.get_array_module(y)\n",
    "    return xp.dot(x, y)"
   ]
  },
  {
   "cell_type": "code",
   "execution_count": null,
   "metadata": {
    "execution": {
     "iopub.execute_input": "2023-05-10T09:07:25.912967Z",
     "iopub.status.busy": "2023-05-10T09:07:25.912258Z",
     "iopub.status.idle": "2023-05-10T09:07:25.958278Z",
     "shell.execute_reply": "2023-05-10T09:07:25.957724Z",
     "shell.execute_reply.started": "2023-05-10T09:07:25.912925Z"
    },
    "tags": []
   },
   "outputs": [],
   "source": [
    "%time univers_logistic(np_array)"
   ]
  },
  {
   "cell_type": "code",
   "execution_count": null,
   "metadata": {
    "execution": {
     "iopub.execute_input": "2023-05-10T09:07:28.855816Z",
     "iopub.status.busy": "2023-05-10T09:07:28.855431Z",
     "iopub.status.idle": "2023-05-10T09:07:28.877244Z",
     "shell.execute_reply": "2023-05-10T09:07:28.876716Z",
     "shell.execute_reply.started": "2023-05-10T09:07:28.855791Z"
    },
    "tags": []
   },
   "outputs": [],
   "source": [
    "%time univers_logistic(cp_array)"
   ]
  },
  {
   "cell_type": "markdown",
   "metadata": {},
   "source": [
    "# Как переключать видеокарты?"
   ]
  },
  {
   "cell_type": "markdown",
   "metadata": {},
   "source": [
    "Глобальное переключение"
   ]
  },
  {
   "cell_type": "code",
   "execution_count": null,
   "metadata": {
    "execution": {
     "iopub.execute_input": "2023-05-10T09:07:33.328752Z",
     "iopub.status.busy": "2023-05-10T09:07:33.328374Z",
     "iopub.status.idle": "2023-05-10T09:07:33.332182Z",
     "shell.execute_reply": "2023-05-10T09:07:33.331492Z",
     "shell.execute_reply.started": "2023-05-10T09:07:33.328729Z"
    },
    "tags": []
   },
   "outputs": [],
   "source": [
    "cp.cuda.Device(0).use()"
   ]
  },
  {
   "cell_type": "markdown",
   "metadata": {},
   "source": [
    "Переключение в рамках контекстного менеджера"
   ]
  },
  {
   "cell_type": "code",
   "execution_count": null,
   "metadata": {
    "execution": {
     "iopub.execute_input": "2023-05-10T09:07:35.180381Z",
     "iopub.status.busy": "2023-05-10T09:07:35.180002Z",
     "iopub.status.idle": "2023-05-10T09:07:35.730406Z",
     "shell.execute_reply": "2023-05-10T09:07:35.729572Z",
     "shell.execute_reply.started": "2023-05-10T09:07:35.180357Z"
    },
    "tags": []
   },
   "outputs": [],
   "source": [
    "with cp.cuda.Device(0):\n",
    "    gpu_0 = cp.array([1, 2, 3, 4, 5])\n",
    "with cp.cuda.Device(1):\n",
    "    gpu_1 = cp.array([1, 2, 3, 4, 5])\n",
    "    \n",
    "print(f'gpu_0 device - {gpu_0.device}, gpu_1 device - {gpu_1.device}')"
   ]
  },
  {
   "cell_type": "markdown",
   "metadata": {},
   "source": [
    "Проводить операции с массивами на разных видеокартах напрямую нельзя"
   ]
  },
  {
   "cell_type": "code",
   "execution_count": null,
   "metadata": {
    "execution": {
     "iopub.execute_input": "2023-05-10T09:07:38.548710Z",
     "iopub.status.busy": "2023-05-10T09:07:38.548284Z",
     "iopub.status.idle": "2023-05-10T09:07:38.735747Z",
     "shell.execute_reply": "2023-05-10T09:07:38.735057Z",
     "shell.execute_reply.started": "2023-05-10T09:07:38.548684Z"
    },
    "tags": []
   },
   "outputs": [],
   "source": [
    "gpu_0 + gpu_1"
   ]
  },
  {
   "cell_type": "code",
   "execution_count": null,
   "metadata": {
    "execution": {
     "iopub.execute_input": "2023-05-10T09:07:41.149824Z",
     "iopub.status.busy": "2023-05-10T09:07:41.149436Z",
     "iopub.status.idle": "2023-05-10T09:07:41.154136Z",
     "shell.execute_reply": "2023-05-10T09:07:41.153588Z",
     "shell.execute_reply.started": "2023-05-10T09:07:41.149799Z"
    },
    "tags": []
   },
   "outputs": [],
   "source": [
    "gpu_1.device"
   ]
  },
  {
   "cell_type": "code",
   "execution_count": null,
   "metadata": {
    "execution": {
     "iopub.execute_input": "2023-05-10T09:07:42.131668Z",
     "iopub.status.busy": "2023-05-10T09:07:42.131124Z",
     "iopub.status.idle": "2023-05-10T09:07:42.343830Z",
     "shell.execute_reply": "2023-05-10T09:07:42.343288Z",
     "shell.execute_reply.started": "2023-05-10T09:07:42.131628Z"
    },
    "tags": []
   },
   "outputs": [],
   "source": [
    "with cp.cuda.Device(0):\n",
    "    gpu_1 = cp.asarray(gpu_1)\n",
    "print(f'gpu_1 device - {gpu_1.device}')\n",
    "gpu_0 + gpu_1"
   ]
  },
  {
   "cell_type": "markdown",
   "metadata": {},
   "source": [
    "# Передать массив между CPU и GPU"
   ]
  },
  {
   "cell_type": "code",
   "execution_count": null,
   "metadata": {
    "execution": {
     "iopub.execute_input": "2023-05-10T09:07:45.533494Z",
     "iopub.status.busy": "2023-05-10T09:07:45.533115Z",
     "iopub.status.idle": "2023-05-10T09:07:45.536971Z",
     "shell.execute_reply": "2023-05-10T09:07:45.536261Z",
     "shell.execute_reply.started": "2023-05-10T09:07:45.533471Z"
    },
    "tags": []
   },
   "outputs": [],
   "source": [
    "#первый способ\n",
    "x_cpu = cp.asnumpy(gpu_0)"
   ]
  },
  {
   "cell_type": "code",
   "execution_count": null,
   "metadata": {
    "execution": {
     "iopub.execute_input": "2023-05-10T09:07:46.215326Z",
     "iopub.status.busy": "2023-05-10T09:07:46.214929Z",
     "iopub.status.idle": "2023-05-10T09:07:46.219799Z",
     "shell.execute_reply": "2023-05-10T09:07:46.219183Z",
     "shell.execute_reply.started": "2023-05-10T09:07:46.215301Z"
    },
    "tags": []
   },
   "outputs": [],
   "source": [
    "x_cpu"
   ]
  },
  {
   "cell_type": "code",
   "execution_count": null,
   "metadata": {
    "execution": {
     "iopub.execute_input": "2023-05-10T09:07:46.880537Z",
     "iopub.status.busy": "2023-05-10T09:07:46.880151Z",
     "iopub.status.idle": "2023-05-10T09:07:46.883843Z",
     "shell.execute_reply": "2023-05-10T09:07:46.883225Z",
     "shell.execute_reply.started": "2023-05-10T09:07:46.880513Z"
    },
    "tags": []
   },
   "outputs": [],
   "source": [
    "#второй способ\n",
    "x_cpu = gpu_0.get()"
   ]
  },
  {
   "cell_type": "code",
   "execution_count": null,
   "metadata": {
    "execution": {
     "iopub.execute_input": "2023-05-10T09:07:47.404547Z",
     "iopub.status.busy": "2023-05-10T09:07:47.404157Z",
     "iopub.status.idle": "2023-05-10T09:07:47.409111Z",
     "shell.execute_reply": "2023-05-10T09:07:47.408529Z",
     "shell.execute_reply.started": "2023-05-10T09:07:47.404522Z"
    },
    "tags": []
   },
   "outputs": [],
   "source": [
    "x_cpu"
   ]
  },
  {
   "cell_type": "markdown",
   "metadata": {},
   "source": [
    "# Собственные kernel"
   ]
  },
  {
   "cell_type": "markdown",
   "metadata": {},
   "source": [
    "Тип можно указать явно, но если все типы одинаковы и могут меняться, то указывается тип T, который будет определен компилятором"
   ]
  },
  {
   "cell_type": "code",
   "execution_count": null,
   "metadata": {
    "execution": {
     "iopub.execute_input": "2023-04-13T11:31:22.841042Z",
     "iopub.status.busy": "2023-04-13T11:31:22.840681Z",
     "iopub.status.idle": "2023-04-13T11:31:22.855283Z",
     "shell.execute_reply": "2023-04-13T11:31:22.854473Z",
     "shell.execute_reply.started": "2023-04-13T11:31:22.841019Z"
    },
    "tags": []
   },
   "outputs": [],
   "source": [
    "cupy.ElementwiseKernel(in_params, # входные параметры\n",
    "                       out_params, # выходные параметры\n",
    "                       operation, # тело цикла, напианное на CUDA-C/C++\n",
    "                       name=u'kernel', # имя функции ядра\n",
    "                       reduce_dims=True, # если False, то формы массивов сохраняются. Иначе размерности уменьшаются до минимума\n",
    "                                         # и это позволяет ускорять функции\n",
    "                       preamble=u'', # фрагмент кода CUDA-C / C++, вставляемый в верхнюю часть файла cu\n",
    "                       no_return=False, # метод __call__ ничего не возвращает если True\n",
    "                       return_tuple=False, # если True, то всегда возвращается tuple, даже если 1 елемент\n",
    "                       **kwargs)"
   ]
  },
  {
   "cell_type": "code",
   "execution_count": null,
   "metadata": {
    "execution": {
     "iopub.execute_input": "2023-05-10T09:07:50.621432Z",
     "iopub.status.busy": "2023-05-10T09:07:50.621077Z",
     "iopub.status.idle": "2023-05-10T09:07:50.624848Z",
     "shell.execute_reply": "2023-05-10T09:07:50.624270Z",
     "shell.execute_reply.started": "2023-05-10T09:07:50.621411Z"
    },
    "tags": []
   },
   "outputs": [],
   "source": [
    "squared_diff = cp.ElementwiseKernel(\n",
    "    in_params='float32 x, float32 y',\n",
    "    out_params='float32 z',\n",
    "    operation='z = (x - y) * (x - y)',\n",
    "    name='squared_diff')"
   ]
  },
  {
   "cell_type": "code",
   "execution_count": null,
   "metadata": {
    "execution": {
     "iopub.execute_input": "2023-05-10T09:07:51.243603Z",
     "iopub.status.busy": "2023-05-10T09:07:51.243217Z",
     "iopub.status.idle": "2023-05-10T09:07:51.665002Z",
     "shell.execute_reply": "2023-05-10T09:07:51.664422Z",
     "shell.execute_reply.started": "2023-05-10T09:07:51.243579Z"
    },
    "tags": []
   },
   "outputs": [],
   "source": [
    "x = cp.arange(10, dtype=np.float32).reshape(2, 5)\n",
    "squared_diff(x, 5)"
   ]
  },
  {
   "cell_type": "code",
   "execution_count": null,
   "metadata": {
    "execution": {
     "iopub.execute_input": "2023-05-10T09:07:54.169229Z",
     "iopub.status.busy": "2023-05-10T09:07:54.168823Z",
     "iopub.status.idle": "2023-05-10T09:07:54.174699Z",
     "shell.execute_reply": "2023-05-10T09:07:54.174135Z",
     "shell.execute_reply.started": "2023-05-10T09:07:54.169205Z"
    },
    "tags": []
   },
   "outputs": [],
   "source": [
    "#Можно передать массив, в который записывается результат\n",
    "z = cp.empty((2, 5), dtype=np.float32)\n",
    "squared_diff(x, 5, z)"
   ]
  },
  {
   "cell_type": "code",
   "execution_count": null,
   "metadata": {
    "execution": {
     "iopub.execute_input": "2023-04-18T12:12:47.861357Z",
     "iopub.status.busy": "2023-04-18T12:12:47.861015Z",
     "iopub.status.idle": "2023-04-18T12:12:47.873847Z",
     "shell.execute_reply": "2023-04-18T12:12:47.873259Z",
     "shell.execute_reply.started": "2023-04-18T12:12:47.861339Z"
    },
    "tags": []
   },
   "outputs": [],
   "source": [
    "cupy.ReductionKernel(in_params, # входные параметры\n",
    "                     out_params, # выходные параметры\n",
    "                     map_expr, # map операция для входных значений\n",
    "                     reduce_expr, # reduce операция для входных значений\n",
    "                     post_map_expr, # map операция для взначений после reduce операции\n",
    "                     identity, #значение идентификатора для начала reduce операций\n",
    "                     name=u'reduce_kernel',\n",
    "                     reduce_type=None,\n",
    "                     reduce_dims=True,\n",
    "                     preamble=u'',\n",
    "                     options=() # дополнительные опции для компиляции\n",
    "                    )"
   ]
  },
  {
   "cell_type": "code",
   "execution_count": null,
   "metadata": {
    "execution": {
     "iopub.execute_input": "2023-05-10T09:07:59.456700Z",
     "iopub.status.busy": "2023-05-10T09:07:59.456315Z",
     "iopub.status.idle": "2023-05-10T09:07:59.676444Z",
     "shell.execute_reply": "2023-05-10T09:07:59.675859Z",
     "shell.execute_reply.started": "2023-05-10T09:07:59.456676Z"
    },
    "tags": []
   },
   "outputs": [],
   "source": [
    "l2norm_kernel = cp.ReductionKernel(\n",
    "    'T x',  # input params\n",
    "    'T y',  # output params\n",
    "    'x * x',  # map\n",
    "    'a + b',  # reduce\n",
    "    'y = sqrt(a)',  # post-reduction map\n",
    "    '0',  # identity value\n",
    "    'l2norm'  # kernel name\n",
    ")\n",
    "x = cp.arange(10, dtype=np.float32).reshape(2, 5)\n",
    "l2norm_kernel(x, axis=1)"
   ]
  },
  {
   "cell_type": "markdown",
   "metadata": {},
   "source": [
    "cp.RawKernel для кода на CUDA source code"
   ]
  },
  {
   "cell_type": "markdown",
   "metadata": {},
   "source": [
    "ElementwiseKernel и ReductionKernel могут быть написаны проще через декоратор @cp.fuse()"
   ]
  },
  {
   "cell_type": "code",
   "execution_count": null,
   "metadata": {
    "execution": {
     "iopub.execute_input": "2023-05-10T09:08:01.892013Z",
     "iopub.status.busy": "2023-05-10T09:08:01.891588Z",
     "iopub.status.idle": "2023-05-10T09:08:02.113959Z",
     "shell.execute_reply": "2023-05-10T09:08:02.113425Z",
     "shell.execute_reply.started": "2023-05-10T09:08:01.891986Z"
    },
    "tags": []
   },
   "outputs": [],
   "source": [
    "@cp.fuse()\n",
    "def squared_diff_dec(x, y):\n",
    "    return (x - y) * (x - y)\n",
    "\n",
    "squared_diff_dec(x, 5)"
   ]
  },
  {
   "cell_type": "code",
   "execution_count": null,
   "metadata": {
    "execution": {
     "iopub.execute_input": "2023-05-10T09:08:04.061687Z",
     "iopub.status.busy": "2023-05-10T09:08:04.061310Z",
     "iopub.status.idle": "2023-05-10T09:08:04.335638Z",
     "shell.execute_reply": "2023-05-10T09:08:04.335046Z",
     "shell.execute_reply.started": "2023-05-10T09:08:04.061664Z"
    },
    "tags": []
   },
   "outputs": [],
   "source": [
    "@cp.fuse()\n",
    "def l2norm_dec(x):\n",
    "    return cp.sqrt(cp.sum(cp.power(x, 2), axis=1))\n",
    "\n",
    "l2norm_dec(x)"
   ]
  },
  {
   "cell_type": "code",
   "execution_count": null,
   "metadata": {
    "execution": {
     "iopub.execute_input": "2023-05-10T09:08:06.219519Z",
     "iopub.status.busy": "2023-05-10T09:08:06.219142Z",
     "iopub.status.idle": "2023-05-10T09:08:13.345735Z",
     "shell.execute_reply": "2023-05-10T09:08:13.344836Z",
     "shell.execute_reply.started": "2023-05-10T09:08:06.219497Z"
    },
    "tags": []
   },
   "outputs": [],
   "source": [
    "%timeit squared_diff(x, 5)"
   ]
  },
  {
   "cell_type": "markdown",
   "metadata": {},
   "source": [
    "Помним, что данные уже на GPU и это сравнение с cupy без оптимизации!"
   ]
  },
  {
   "cell_type": "code",
   "execution_count": null,
   "metadata": {
    "execution": {
     "iopub.execute_input": "2023-05-10T09:08:21.591060Z",
     "iopub.status.busy": "2023-05-10T09:08:21.590622Z",
     "iopub.status.idle": "2023-05-10T09:08:21.991867Z",
     "shell.execute_reply": "2023-05-10T09:08:21.991172Z",
     "shell.execute_reply.started": "2023-05-10T09:08:21.591034Z"
    },
    "tags": []
   },
   "outputs": [],
   "source": [
    "%timeit (x - 5) * (x - 5)"
   ]
  },
  {
   "cell_type": "code",
   "execution_count": null,
   "metadata": {
    "execution": {
     "iopub.execute_input": "2023-05-10T09:08:34.197696Z",
     "iopub.status.busy": "2023-05-10T09:08:34.197330Z",
     "iopub.status.idle": "2023-05-10T09:08:42.329915Z",
     "shell.execute_reply": "2023-05-10T09:08:42.329222Z",
     "shell.execute_reply.started": "2023-05-10T09:08:34.197673Z"
    },
    "tags": []
   },
   "outputs": [],
   "source": [
    "%timeit squared_diff_dec(x, 5)"
   ]
  },
  {
   "cell_type": "code",
   "execution_count": null,
   "metadata": {
    "execution": {
     "iopub.execute_input": "2023-05-10T09:08:45.205271Z",
     "iopub.status.busy": "2023-05-10T09:08:45.204832Z",
     "iopub.status.idle": "2023-05-10T09:08:55.598652Z",
     "shell.execute_reply": "2023-05-10T09:08:55.597968Z",
     "shell.execute_reply.started": "2023-05-10T09:08:45.205245Z"
    },
    "tags": []
   },
   "outputs": [],
   "source": [
    "%timeit l2norm_kernel(x, axis=1)"
   ]
  },
  {
   "cell_type": "markdown",
   "metadata": {},
   "source": [
    "Помним, что данные уже на GPU и это сравнение с cupy без оптимизации!"
   ]
  },
  {
   "cell_type": "code",
   "execution_count": null,
   "metadata": {
    "execution": {
     "iopub.execute_input": "2023-05-10T09:09:00.529169Z",
     "iopub.status.busy": "2023-05-10T09:09:00.528767Z",
     "iopub.status.idle": "2023-05-10T09:09:01.129143Z",
     "shell.execute_reply": "2023-05-10T09:09:01.128489Z",
     "shell.execute_reply.started": "2023-05-10T09:09:00.529146Z"
    },
    "tags": []
   },
   "outputs": [],
   "source": [
    "%timeit cp.sqrt(cp.sum(cp.power(x, 2), axis=1))"
   ]
  },
  {
   "cell_type": "code",
   "execution_count": null,
   "metadata": {
    "execution": {
     "iopub.execute_input": "2023-05-10T09:09:01.552905Z",
     "iopub.status.busy": "2023-05-10T09:09:01.552526Z",
     "iopub.status.idle": "2023-05-10T09:09:12.900963Z",
     "shell.execute_reply": "2023-05-10T09:09:12.900381Z",
     "shell.execute_reply.started": "2023-05-10T09:09:01.552881Z"
    },
    "tags": []
   },
   "outputs": [],
   "source": [
    "%timeit l2norm_dec(x)"
   ]
  },
  {
   "cell_type": "markdown",
   "metadata": {},
   "source": [
    "# Домашнее задание"
   ]
  },
  {
   "cell_type": "markdown",
   "metadata": {},
   "source": [
    "Так как синтаксис очень похож на numpy, то ничего сложного в cupy нет. \n",
    "Придумайте какую-нибудь функцию только с использованием numpy и не в одну операцию, чтобы она несла какой-то смылс. Что-то аналогичное функции из занятия l2norm_dec:\n",
    "\n",
    "    def l2norm_dec(x):\n",
    "        return cp.sqrt(cp.sum(cp.power(x, 2), axis=1))\n",
    "        \n",
    "Запишите эту же функцию при помощи cupy\n",
    "\n",
    "Третья функция - cupy + декоратор @cp.fuse()\n",
    "\n",
    "Сравните время выполнения=)"
   ]
  }
 ],
 "metadata": {
  "kernelspec": {
   "display_name": "Python 3",
   "language": "python",
   "name": "python3"
  },
  "language_info": {
   "codemirror_mode": {
    "name": "ipython",
    "version": 3
   },
   "file_extension": ".py",
   "mimetype": "text/x-python",
   "name": "python",
   "nbconvert_exporter": "python",
   "pygments_lexer": "ipython3",
   "version": "3.8.8"
  }
 },
 "nbformat": 4,
 "nbformat_minor": 4
}
