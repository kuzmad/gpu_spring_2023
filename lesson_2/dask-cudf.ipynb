{
 "cells": [
  {
   "cell_type": "code",
   "execution_count": null,
   "metadata": {
    "execution": {
     "iopub.execute_input": "2023-05-10T10:33:36.483319Z",
     "iopub.status.busy": "2023-05-10T10:33:36.482868Z",
     "iopub.status.idle": "2023-05-10T10:33:38.425189Z",
     "shell.execute_reply": "2023-05-10T10:33:38.424254Z",
     "shell.execute_reply.started": "2023-05-10T10:33:36.483240Z"
    },
    "tags": []
   },
   "outputs": [],
   "source": [
    "import subprocess\n",
    "from dask_cuda import LocalCUDACluster\n",
    "from dask.distributed import Client, progress\n",
    "import dask_cudf\n",
    "import cudf\n",
    "import dask.dataframe as dd"
   ]
  },
  {
   "cell_type": "code",
   "execution_count": null,
   "metadata": {
    "execution": {
     "iopub.execute_input": "2023-05-10T10:33:38.427339Z",
     "iopub.status.busy": "2023-05-10T10:33:38.426647Z",
     "iopub.status.idle": "2023-05-10T10:33:38.430969Z",
     "shell.execute_reply": "2023-05-10T10:33:38.430422Z",
     "shell.execute_reply.started": "2023-05-10T10:33:38.427309Z"
    },
    "tags": []
   },
   "outputs": [],
   "source": [
    "import os\n",
    "os.environ[\"PATH\"] += os.pathsep + '/usr/bin/dot '"
   ]
  },
  {
   "cell_type": "code",
   "execution_count": null,
   "metadata": {
    "execution": {
     "iopub.execute_input": "2023-05-10T10:33:38.432088Z",
     "iopub.status.busy": "2023-05-10T10:33:38.431748Z",
     "iopub.status.idle": "2023-05-10T10:33:41.378045Z",
     "shell.execute_reply": "2023-05-10T10:33:41.377305Z",
     "shell.execute_reply.started": "2023-05-10T10:33:38.432067Z"
    },
    "tags": []
   },
   "outputs": [],
   "source": [
    "cluster = LocalCUDACluster(dashboard_address=':8902')\n",
    "client = Client(cluster)\n",
    "client"
   ]
  },
  {
   "cell_type": "code",
   "execution_count": null,
   "metadata": {
    "execution": {
     "iopub.execute_input": "2023-05-10T10:33:41.379936Z",
     "iopub.status.busy": "2023-05-10T10:33:41.379609Z",
     "iopub.status.idle": "2023-05-10T10:33:42.720966Z",
     "shell.execute_reply": "2023-05-10T10:33:42.720338Z",
     "shell.execute_reply.started": "2023-05-10T10:33:41.379911Z"
    },
    "tags": []
   },
   "outputs": [],
   "source": [
    "%%time\n",
    "df = cudf.read_parquet('covid.gzip')\n",
    "df = df.dropna()\n",
    "df.loc[df['sex']=='Male']"
   ]
  },
  {
   "cell_type": "markdown",
   "metadata": {},
   "source": [
    "В dask-cudf применяются ленивые вычисления. То есть мы что-то делаем только тогда, когда это необходимо, например, если вы просите вернуть какой-то ответ."
   ]
  },
  {
   "cell_type": "code",
   "execution_count": null,
   "metadata": {
    "execution": {
     "iopub.execute_input": "2023-05-10T10:33:46.714127Z",
     "iopub.status.busy": "2023-05-10T10:33:46.713553Z",
     "iopub.status.idle": "2023-05-10T10:33:46.731071Z",
     "shell.execute_reply": "2023-05-10T10:33:46.730430Z",
     "shell.execute_reply.started": "2023-05-10T10:33:46.714097Z"
    },
    "tags": []
   },
   "outputs": [],
   "source": [
    "%time ddf = dask_cudf.read_parquet('covid.gzip')"
   ]
  },
  {
   "cell_type": "code",
   "execution_count": null,
   "metadata": {
    "execution": {
     "iopub.execute_input": "2023-05-10T10:33:47.618694Z",
     "iopub.status.busy": "2023-05-10T10:33:47.618197Z",
     "iopub.status.idle": "2023-05-10T10:33:47.632390Z",
     "shell.execute_reply": "2023-05-10T10:33:47.631822Z",
     "shell.execute_reply.started": "2023-05-10T10:33:47.618666Z"
    },
    "tags": []
   },
   "outputs": [],
   "source": [
    "ddf"
   ]
  },
  {
   "cell_type": "code",
   "execution_count": null,
   "metadata": {
    "execution": {
     "iopub.execute_input": "2023-05-10T10:33:52.678292Z",
     "iopub.status.busy": "2023-05-10T10:33:52.677817Z",
     "iopub.status.idle": "2023-05-10T10:33:52.688632Z",
     "shell.execute_reply": "2023-05-10T10:33:52.688006Z",
     "shell.execute_reply.started": "2023-05-10T10:33:52.678267Z"
    },
    "tags": []
   },
   "outputs": [],
   "source": [
    "gdf = ddf.dropna()"
   ]
  },
  {
   "cell_type": "markdown",
   "metadata": {},
   "source": [
    "Можно визуализировать граф, котоырй будет исполняться"
   ]
  },
  {
   "cell_type": "code",
   "execution_count": null,
   "metadata": {
    "execution": {
     "iopub.execute_input": "2023-05-10T10:33:54.268100Z",
     "iopub.status.busy": "2023-05-10T10:33:54.267637Z",
     "iopub.status.idle": "2023-05-10T10:33:54.514574Z",
     "shell.execute_reply": "2023-05-10T10:33:54.513834Z",
     "shell.execute_reply.started": "2023-05-10T10:33:54.268072Z"
    },
    "tags": []
   },
   "outputs": [],
   "source": [
    "gdf.visualize(format='svg')"
   ]
  },
  {
   "cell_type": "code",
   "execution_count": null,
   "metadata": {
    "execution": {
     "iopub.execute_input": "2023-05-10T10:33:57.263598Z",
     "iopub.status.busy": "2023-05-10T10:33:57.262967Z",
     "iopub.status.idle": "2023-05-10T10:33:57.357121Z",
     "shell.execute_reply": "2023-05-10T10:33:57.356415Z",
     "shell.execute_reply.started": "2023-05-10T10:33:57.263567Z"
    },
    "tags": []
   },
   "outputs": [],
   "source": [
    "male_gdf = gdf.loc[gdf['sex']=='Male']\n",
    "male_gdf.visualize(format='svg')"
   ]
  },
  {
   "cell_type": "markdown",
   "metadata": {},
   "source": [
    "А что если я хочу, чтобы уже что-то посчиталось предварительно, пока я буду дальше код писать?"
   ]
  },
  {
   "cell_type": "code",
   "execution_count": null,
   "metadata": {
    "execution": {
     "iopub.execute_input": "2023-05-10T10:33:58.633260Z",
     "iopub.status.busy": "2023-05-10T10:33:58.632720Z",
     "iopub.status.idle": "2023-05-10T10:33:58.715337Z",
     "shell.execute_reply": "2023-05-10T10:33:58.714232Z",
     "shell.execute_reply.started": "2023-05-10T10:33:58.633230Z"
    },
    "tags": []
   },
   "outputs": [],
   "source": [
    "copy_male_gdf = male_gdf.copy()\n",
    "copy_male_gdf.visualize(format='svg')"
   ]
  },
  {
   "cell_type": "markdown",
   "metadata": {},
   "source": [
    "Строчкой ниже мы попросили посчитать все и положить это в память. Действие особенно полезно при использовании распределенных систем,\n",
    "поскольку результаты будут храниться в распределенной памяти, а не возвращаться в один локальный процесс"
   ]
  },
  {
   "cell_type": "code",
   "execution_count": null,
   "metadata": {
    "execution": {
     "iopub.execute_input": "2023-05-10T10:34:02.446274Z",
     "iopub.status.busy": "2023-05-10T10:34:02.445766Z",
     "iopub.status.idle": "2023-05-10T10:34:02.717518Z",
     "shell.execute_reply": "2023-05-10T10:34:02.716754Z",
     "shell.execute_reply.started": "2023-05-10T10:34:02.446242Z"
    },
    "tags": []
   },
   "outputs": [],
   "source": [
    "copy_male_gdf = copy_male_gdf.persist()\n",
    "copy_male_gdf.visualize(format='svg')"
   ]
  },
  {
   "cell_type": "markdown",
   "metadata": {},
   "source": [
    "Выполнили compute = сложили данные на одну видеокарту и тип данных уже cudf"
   ]
  },
  {
   "cell_type": "code",
   "execution_count": null,
   "metadata": {
    "execution": {
     "iopub.execute_input": "2023-05-10T10:34:04.561477Z",
     "iopub.status.busy": "2023-05-10T10:34:04.561012Z",
     "iopub.status.idle": "2023-05-10T10:34:05.537716Z",
     "shell.execute_reply": "2023-05-10T10:34:05.537114Z",
     "shell.execute_reply.started": "2023-05-10T10:34:04.561445Z"
    },
    "tags": []
   },
   "outputs": [],
   "source": [
    "%time male_gdf.compute()"
   ]
  },
  {
   "cell_type": "code",
   "execution_count": null,
   "metadata": {
    "execution": {
     "iopub.execute_input": "2023-05-10T10:34:07.939218Z",
     "iopub.status.busy": "2023-05-10T10:34:07.938709Z",
     "iopub.status.idle": "2023-05-10T10:34:08.852604Z",
     "shell.execute_reply": "2023-05-10T10:34:08.851902Z",
     "shell.execute_reply.started": "2023-05-10T10:34:07.939190Z"
    },
    "tags": []
   },
   "outputs": [],
   "source": [
    "male_gdf = male_gdf.compute()"
   ]
  },
  {
   "cell_type": "code",
   "execution_count": null,
   "metadata": {
    "execution": {
     "iopub.execute_input": "2023-05-10T10:34:17.805916Z",
     "iopub.status.busy": "2023-05-10T10:34:17.804918Z",
     "iopub.status.idle": "2023-05-10T10:34:17.945559Z",
     "shell.execute_reply": "2023-05-10T10:34:17.944938Z",
     "shell.execute_reply.started": "2023-05-10T10:34:17.805877Z"
    },
    "tags": []
   },
   "outputs": [],
   "source": [
    "male_gdf['age_group'].value_counts() / male_gdf.shape[0]"
   ]
  },
  {
   "cell_type": "markdown",
   "metadata": {},
   "source": [
    "### В целом все очень похоже на cudf. Но еще пара моментов"
   ]
  },
  {
   "cell_type": "code",
   "execution_count": null,
   "metadata": {
    "execution": {
     "iopub.execute_input": "2023-05-10T10:34:19.431241Z",
     "iopub.status.busy": "2023-05-10T10:34:19.430758Z",
     "iopub.status.idle": "2023-05-10T10:34:19.446387Z",
     "shell.execute_reply": "2023-05-10T10:34:19.445712Z",
     "shell.execute_reply.started": "2023-05-10T10:34:19.431217Z"
    },
    "tags": []
   },
   "outputs": [],
   "source": [
    "from cudf.datasets import randomdata\n",
    "\n",
    "df = randomdata(nrows=10, dtypes={'a':float, 'b':float}, seed=12)\n",
    "df.mean()"
   ]
  },
  {
   "cell_type": "markdown",
   "metadata": {},
   "source": [
    "Перевод из cudf в dask-cudf"
   ]
  },
  {
   "cell_type": "code",
   "execution_count": null,
   "metadata": {
    "execution": {
     "iopub.execute_input": "2023-05-10T10:34:20.845507Z",
     "iopub.status.busy": "2023-05-10T10:34:20.844833Z",
     "iopub.status.idle": "2023-05-10T10:34:20.852082Z",
     "shell.execute_reply": "2023-05-10T10:34:20.851475Z",
     "shell.execute_reply.started": "2023-05-10T10:34:20.845474Z"
    },
    "tags": []
   },
   "outputs": [],
   "source": [
    "ddf = dask_cudf.from_cudf(df, npartitions=2)"
   ]
  },
  {
   "cell_type": "code",
   "execution_count": null,
   "metadata": {
    "execution": {
     "iopub.execute_input": "2023-05-10T10:34:23.055923Z",
     "iopub.status.busy": "2023-05-10T10:34:23.055470Z",
     "iopub.status.idle": "2023-05-10T10:34:23.060435Z",
     "shell.execute_reply": "2023-05-10T10:34:23.059881Z",
     "shell.execute_reply.started": "2023-05-10T10:34:23.055896Z"
    },
    "tags": []
   },
   "outputs": [],
   "source": [
    "type(ddf)"
   ]
  },
  {
   "cell_type": "code",
   "execution_count": null,
   "metadata": {
    "execution": {
     "iopub.execute_input": "2023-05-10T10:34:23.966314Z",
     "iopub.status.busy": "2023-05-10T10:34:23.965871Z",
     "iopub.status.idle": "2023-05-10T10:34:25.374763Z",
     "shell.execute_reply": "2023-05-10T10:34:25.374076Z",
     "shell.execute_reply.started": "2023-05-10T10:34:23.966288Z"
    },
    "tags": []
   },
   "outputs": [],
   "source": [
    "ddf.mean().compute()"
   ]
  },
  {
   "cell_type": "markdown",
   "metadata": {},
   "source": [
    "В dask-cudf пока нельзя применять метод applymap к отдельному столбцу напрямую, можно только к каждой партиции через map_partitions."
   ]
  },
  {
   "cell_type": "code",
   "execution_count": null,
   "metadata": {
    "execution": {
     "iopub.execute_input": "2023-05-10T10:34:25.643670Z",
     "iopub.status.busy": "2023-05-10T10:34:25.643236Z",
     "iopub.status.idle": "2023-05-10T10:34:25.647091Z",
     "shell.execute_reply": "2023-05-10T10:34:25.646488Z",
     "shell.execute_reply.started": "2023-05-10T10:34:25.643643Z"
    },
    "tags": []
   },
   "outputs": [],
   "source": [
    "def add_ten(num):\n",
    "    return num + 10"
   ]
  },
  {
   "cell_type": "markdown",
   "metadata": {},
   "source": [
    "было"
   ]
  },
  {
   "cell_type": "code",
   "execution_count": null,
   "metadata": {
    "execution": {
     "iopub.execute_input": "2023-05-10T10:34:28.754159Z",
     "iopub.status.busy": "2023-05-10T10:34:28.753696Z",
     "iopub.status.idle": "2023-05-10T10:34:28.761709Z",
     "shell.execute_reply": "2023-05-10T10:34:28.761076Z",
     "shell.execute_reply.started": "2023-05-10T10:34:28.754132Z"
    },
    "tags": []
   },
   "outputs": [],
   "source": [
    "df['a'].applymap(add_ten)"
   ]
  },
  {
   "cell_type": "markdown",
   "metadata": {},
   "source": [
    "стало"
   ]
  },
  {
   "cell_type": "code",
   "execution_count": null,
   "metadata": {
    "execution": {
     "iopub.execute_input": "2023-05-10T10:34:29.952469Z",
     "iopub.status.busy": "2023-05-10T10:34:29.952032Z",
     "iopub.status.idle": "2023-05-10T10:34:29.997543Z",
     "shell.execute_reply": "2023-05-10T10:34:29.996981Z",
     "shell.execute_reply.started": "2023-05-10T10:34:29.952442Z"
    },
    "tags": []
   },
   "outputs": [],
   "source": [
    "ddf['a'].map_partitions(add_ten).compute()"
   ]
  },
  {
   "cell_type": "markdown",
   "metadata": {},
   "source": [
    "Транспонировать партицированные данные пока тоже нельзя, придется сначала выполнить медот compute(), но если в одну видеокарту не влезет, то не выйдет (( А еще если есть переменные типа string, то также не выйдет транспонировать"
   ]
  },
  {
   "cell_type": "code",
   "execution_count": null,
   "metadata": {
    "execution": {
     "iopub.execute_input": "2023-05-10T10:34:31.593882Z",
     "iopub.status.busy": "2023-05-10T10:34:31.593440Z",
     "iopub.status.idle": "2023-05-10T10:34:32.106313Z",
     "shell.execute_reply": "2023-05-10T10:34:32.105213Z",
     "shell.execute_reply.started": "2023-05-10T10:34:31.593846Z"
    },
    "tags": []
   },
   "outputs": [],
   "source": [
    "ddf.T"
   ]
  },
  {
   "cell_type": "code",
   "execution_count": null,
   "metadata": {
    "execution": {
     "iopub.execute_input": "2023-05-10T10:34:32.376828Z",
     "iopub.status.busy": "2023-05-10T10:34:32.376406Z",
     "iopub.status.idle": "2023-05-10T10:34:32.424078Z",
     "shell.execute_reply": "2023-05-10T10:34:32.423518Z",
     "shell.execute_reply.started": "2023-05-10T10:34:32.376802Z"
    },
    "tags": []
   },
   "outputs": [],
   "source": [
    "ddf.compute().T"
   ]
  },
  {
   "cell_type": "code",
   "execution_count": null,
   "metadata": {
    "execution": {
     "iopub.execute_input": "2023-05-10T10:34:33.803150Z",
     "iopub.status.busy": "2023-05-10T10:34:33.802704Z",
     "iopub.status.idle": "2023-05-10T10:34:33.911226Z",
     "shell.execute_reply": "2023-05-10T10:34:33.910643Z",
     "shell.execute_reply.started": "2023-05-10T10:34:33.803122Z"
    },
    "tags": []
   },
   "outputs": [],
   "source": [
    "type(ddf.compute())"
   ]
  },
  {
   "cell_type": "markdown",
   "metadata": {},
   "source": [
    "# Домашнее задание\n",
    "\n",
    "Сравните среднюю вероятность смерти мужчин и женщин по группам возростов на основе столбца death_ind. Тоже самое проделайте для вероятности госпитализации, преобразовав переменную hosp_yn, как мы сделали с переменной death_yn. Используйте cudf и сохраните результат на диск.\n",
    "Как и в ноутбуке с cudf, только теперь с несколькими GPU=)"
   ]
  }
 ],
 "metadata": {
  "kernelspec": {
   "display_name": "Python 3",
   "language": "python",
   "name": "python3"
  },
  "language_info": {
   "codemirror_mode": {
    "name": "ipython",
    "version": 3
   },
   "file_extension": ".py",
   "mimetype": "text/x-python",
   "name": "python",
   "nbconvert_exporter": "python",
   "pygments_lexer": "ipython3",
   "version": "3.8.8"
  }
 },
 "nbformat": 4,
 "nbformat_minor": 4
}
