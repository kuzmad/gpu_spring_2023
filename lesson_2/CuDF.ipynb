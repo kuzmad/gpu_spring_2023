{
 "cells": [
  {
   "cell_type": "code",
   "execution_count": null,
   "metadata": {
    "execution": {
     "iopub.execute_input": "2023-05-10T09:09:44.503901Z",
     "iopub.status.busy": "2023-05-10T09:09:44.503385Z",
     "iopub.status.idle": "2023-05-10T09:09:45.818502Z",
     "shell.execute_reply": "2023-05-10T09:09:45.817392Z",
     "shell.execute_reply.started": "2023-05-10T09:09:44.503810Z"
    },
    "tags": []
   },
   "outputs": [],
   "source": [
    "import cudf\n",
    "import cupy as cp\n",
    "\n",
    "import pandas as pd\n",
    "import numpy as np"
   ]
  },
  {
   "cell_type": "markdown",
   "metadata": {},
   "source": [
    "user - время, затраченное на сами вычисления\n",
    "\n",
    "sys - время, затраченное всеми процессорами на выполнение связанных с системой задач, таких как выделение памяти, например."
   ]
  },
  {
   "cell_type": "markdown",
   "metadata": {},
   "source": [
    "О датасете:\n",
    "    \n",
    "База данных системы эпиднадзора за случаями заболевания COVID-19 включает данные, сообщаемые штатами США и автономными отчетными органами, включая Нью-Йорк и округ Колумбия (округ Колумбия).\n",
    "\n",
    "https://www.kaggle.com/arashnic/covid19-case-surveillance-public-use-dataset\n",
    "\n",
    "current_status - текущий статус человека, sex - пол, age_group - возростная группа, Race and ethnicity (combined) - демографическая группа, hosp_yn - был ли пациент госпитализирован, icu_yn - был ли пациент госпитализирован в отделение интенсивной терапии,\n",
    "death_yn - умер ли пациент от болезни, medcond_yn - были ли какие-то сопутствующие заболевания или риск-факторы?"
   ]
  },
  {
   "cell_type": "code",
   "execution_count": null,
   "metadata": {
    "execution": {
     "iopub.execute_input": "2023-05-10T09:09:48.011226Z",
     "iopub.status.busy": "2023-05-10T09:09:48.010586Z",
     "iopub.status.idle": "2023-05-10T09:09:49.621506Z",
     "shell.execute_reply": "2023-05-10T09:09:49.620827Z",
     "shell.execute_reply.started": "2023-05-10T09:09:48.011195Z"
    },
    "tags": []
   },
   "outputs": [],
   "source": [
    "%time df = pd.read_parquet('covid.gzip')"
   ]
  },
  {
   "cell_type": "code",
   "execution_count": null,
   "metadata": {
    "execution": {
     "iopub.execute_input": "2023-05-10T09:24:36.822523Z",
     "iopub.status.busy": "2023-05-10T09:24:36.822131Z",
     "iopub.status.idle": "2023-05-10T09:24:36.842006Z",
     "shell.execute_reply": "2023-05-10T09:24:36.841399Z",
     "shell.execute_reply.started": "2023-05-10T09:24:36.822497Z"
    },
    "tags": []
   },
   "outputs": [],
   "source": [
    "df"
   ]
  },
  {
   "cell_type": "code",
   "execution_count": null,
   "metadata": {
    "execution": {
     "iopub.execute_input": "2023-05-10T10:24:19.158418Z",
     "iopub.status.busy": "2023-05-10T10:24:19.157993Z",
     "iopub.status.idle": "2023-05-10T10:24:21.592217Z",
     "shell.execute_reply": "2023-05-10T10:24:21.591468Z",
     "shell.execute_reply.started": "2023-05-10T10:24:19.158389Z"
    },
    "tags": []
   },
   "outputs": [],
   "source": [
    "%time df.isna().sum()"
   ]
  },
  {
   "cell_type": "code",
   "execution_count": null,
   "metadata": {
    "execution": {
     "iopub.execute_input": "2023-05-10T10:24:23.232919Z",
     "iopub.status.busy": "2023-05-10T10:24:23.232261Z",
     "iopub.status.idle": "2023-05-10T10:24:26.323440Z",
     "shell.execute_reply": "2023-05-10T10:24:26.322800Z",
     "shell.execute_reply.started": "2023-05-10T10:24:23.232888Z"
    },
    "tags": []
   },
   "outputs": [],
   "source": [
    "%time df = df.dropna()"
   ]
  },
  {
   "cell_type": "markdown",
   "metadata": {},
   "source": [
    "Из-за сложного управления памятью GPU в cuDF первая загрузка данных в новую среду памяти RAPIDS иногда значительно медленнее, чем последующие загрузки. Диспетчер памяти RAPIDS готовит дополнительную память для размещения массивов, которые вы можете использовать с данными, вместо того чтобы многократно выделять и освобождать память на протяжении всего рабочего процесса.\n",
    "Другими словами, как и в большинсвте случаев, память надо \"прогреть\"."
   ]
  },
  {
   "cell_type": "code",
   "execution_count": null,
   "metadata": {
    "execution": {
     "iopub.execute_input": "2023-05-10T10:24:31.880217Z",
     "iopub.status.busy": "2023-05-10T10:24:31.879791Z",
     "iopub.status.idle": "2023-05-10T10:24:32.201555Z",
     "shell.execute_reply": "2023-05-10T10:24:32.200657Z",
     "shell.execute_reply.started": "2023-05-10T10:24:31.880189Z"
    },
    "tags": []
   },
   "outputs": [],
   "source": [
    "%time gdf = cudf.read_parquet('covid.gzip')"
   ]
  },
  {
   "cell_type": "code",
   "execution_count": null,
   "metadata": {
    "execution": {
     "iopub.execute_input": "2023-05-10T10:24:36.372127Z",
     "iopub.status.busy": "2023-05-10T10:24:36.371708Z",
     "iopub.status.idle": "2023-05-10T10:24:36.383446Z",
     "shell.execute_reply": "2023-05-10T10:24:36.382877Z",
     "shell.execute_reply.started": "2023-05-10T10:24:36.372098Z"
    },
    "tags": []
   },
   "outputs": [],
   "source": [
    "%time gdf.isna().sum()"
   ]
  },
  {
   "cell_type": "code",
   "execution_count": null,
   "metadata": {
    "execution": {
     "iopub.execute_input": "2023-05-10T10:24:39.830381Z",
     "iopub.status.busy": "2023-05-10T10:24:39.829959Z",
     "iopub.status.idle": "2023-05-10T10:24:39.841923Z",
     "shell.execute_reply": "2023-05-10T10:24:39.841300Z",
     "shell.execute_reply.started": "2023-05-10T10:24:39.830353Z"
    },
    "tags": []
   },
   "outputs": [],
   "source": [
    "%time gdf = gdf.dropna()"
   ]
  },
  {
   "cell_type": "code",
   "execution_count": null,
   "metadata": {
    "execution": {
     "iopub.execute_input": "2023-05-10T10:24:42.964087Z",
     "iopub.status.busy": "2023-05-10T10:24:42.963624Z",
     "iopub.status.idle": "2023-05-10T10:24:43.033975Z",
     "shell.execute_reply": "2023-05-10T10:24:43.033358Z",
     "shell.execute_reply.started": "2023-05-10T10:24:42.964057Z"
    },
    "tags": []
   },
   "outputs": [],
   "source": [
    "gdf"
   ]
  },
  {
   "cell_type": "markdown",
   "metadata": {},
   "source": [
    "Давайте измерим время фильтрации датасета. Большая часть времени тратится на выполнение системных операций, таких как выделение памяти, например. А вот само время, затраченное на вычисления очень мало."
   ]
  },
  {
   "cell_type": "code",
   "execution_count": null,
   "metadata": {
    "execution": {
     "iopub.execute_input": "2023-05-10T10:24:45.897185Z",
     "iopub.status.busy": "2023-05-10T10:24:45.896741Z",
     "iopub.status.idle": "2023-05-10T10:24:46.590508Z",
     "shell.execute_reply": "2023-05-10T10:24:46.589883Z",
     "shell.execute_reply.started": "2023-05-10T10:24:45.897155Z"
    },
    "tags": []
   },
   "outputs": [],
   "source": [
    "%time male_df = df.loc[df['sex']=='Male']"
   ]
  },
  {
   "cell_type": "code",
   "execution_count": null,
   "metadata": {
    "execution": {
     "iopub.execute_input": "2023-05-10T10:24:49.924727Z",
     "iopub.status.busy": "2023-05-10T10:24:49.924275Z",
     "iopub.status.idle": "2023-05-10T10:24:49.949744Z",
     "shell.execute_reply": "2023-05-10T10:24:49.949084Z",
     "shell.execute_reply.started": "2023-05-10T10:24:49.924699Z"
    },
    "tags": []
   },
   "outputs": [],
   "source": [
    "%time male_gdf = gdf.loc[gdf['sex']=='Male']"
   ]
  },
  {
   "cell_type": "markdown",
   "metadata": {},
   "source": [
    "А теперь давайте посмотрим на то, как распределены данные по возрастам"
   ]
  },
  {
   "cell_type": "code",
   "execution_count": null,
   "metadata": {
    "execution": {
     "iopub.execute_input": "2023-05-10T10:24:53.268670Z",
     "iopub.status.busy": "2023-05-10T10:24:53.268248Z",
     "iopub.status.idle": "2023-05-10T10:24:53.582257Z",
     "shell.execute_reply": "2023-05-10T10:24:53.581698Z",
     "shell.execute_reply.started": "2023-05-10T10:24:53.268641Z"
    },
    "tags": []
   },
   "outputs": [],
   "source": [
    "%time df['age_group'].value_counts(normalize=True)"
   ]
  },
  {
   "cell_type": "code",
   "execution_count": null,
   "metadata": {
    "execution": {
     "iopub.execute_input": "2023-05-10T10:25:02.627457Z",
     "iopub.status.busy": "2023-05-10T10:25:02.626982Z",
     "iopub.status.idle": "2023-05-10T10:25:02.653970Z",
     "shell.execute_reply": "2023-05-10T10:25:02.653432Z",
     "shell.execute_reply.started": "2023-05-10T10:25:02.627426Z"
    },
    "tags": []
   },
   "outputs": [],
   "source": [
    "%time gdf['age_group'].value_counts(normalize=True)"
   ]
  },
  {
   "cell_type": "markdown",
   "metadata": {},
   "source": [
    "А как сочетать в себе cupy и cudf?"
   ]
  },
  {
   "cell_type": "code",
   "execution_count": null,
   "metadata": {
    "execution": {
     "iopub.execute_input": "2023-05-10T10:25:04.687097Z",
     "iopub.status.busy": "2023-05-10T10:25:04.686671Z",
     "iopub.status.idle": "2023-05-10T10:25:09.588508Z",
     "shell.execute_reply": "2023-05-10T10:25:09.587845Z",
     "shell.execute_reply.started": "2023-05-10T10:25:04.687066Z"
    },
    "tags": []
   },
   "outputs": [],
   "source": [
    "%time non_hisp_30_df = df.loc[np.logical_and(df['Race and ethnicity (combined)'].str.endswith('Non-Hispanic'),\\\n",
    "                                             df['age_group'].str.startswith('30'))]"
   ]
  },
  {
   "cell_type": "code",
   "execution_count": null,
   "metadata": {
    "execution": {
     "iopub.execute_input": "2023-05-10T10:25:21.904606Z",
     "iopub.status.busy": "2023-05-10T10:25:21.904186Z",
     "iopub.status.idle": "2023-05-10T10:25:21.920771Z",
     "shell.execute_reply": "2023-05-10T10:25:21.919970Z",
     "shell.execute_reply.started": "2023-05-10T10:25:21.904578Z"
    },
    "tags": []
   },
   "outputs": [],
   "source": [
    "%time non_hisp_30_gdf = gdf.loc[cp.logical_and(gdf['Race and ethnicity (combined)'].str.endswith('Non-Hispanic'),\\\n",
    "                                               gdf['age_group'].str.startswith('30'))]"
   ]
  },
  {
   "cell_type": "markdown",
   "metadata": {},
   "source": [
    "Группировка данных"
   ]
  },
  {
   "cell_type": "code",
   "execution_count": null,
   "metadata": {
    "execution": {
     "iopub.execute_input": "2023-05-10T10:25:24.223212Z",
     "iopub.status.busy": "2023-05-10T10:25:24.222754Z",
     "iopub.status.idle": "2023-05-10T10:25:24.236352Z",
     "shell.execute_reply": "2023-05-10T10:25:24.235658Z",
     "shell.execute_reply.started": "2023-05-10T10:25:24.223185Z"
    },
    "tags": []
   },
   "outputs": [],
   "source": [
    "df"
   ]
  },
  {
   "cell_type": "code",
   "execution_count": null,
   "metadata": {
    "execution": {
     "iopub.execute_input": "2023-05-10T10:25:27.374615Z",
     "iopub.status.busy": "2023-05-10T10:25:27.374179Z",
     "iopub.status.idle": "2023-05-10T10:25:27.686035Z",
     "shell.execute_reply": "2023-05-10T10:25:27.685451Z",
     "shell.execute_reply.started": "2023-05-10T10:25:27.374590Z"
    },
    "tags": []
   },
   "outputs": [],
   "source": [
    "df['death_yn'].value_counts()"
   ]
  },
  {
   "cell_type": "markdown",
   "metadata": {},
   "source": [
    "Давайте создадим новую переменную, которая ставит индикатор выздоровления всегда, даже когда информации нет\n",
    "\n",
    "Плохая новость - udf в cudf нельзя использовать для типов str и category"
   ]
  },
  {
   "cell_type": "code",
   "execution_count": null,
   "metadata": {
    "execution": {
     "iopub.execute_input": "2023-05-10T10:25:31.480784Z",
     "iopub.status.busy": "2023-05-10T10:25:31.480368Z",
     "iopub.status.idle": "2023-05-10T10:25:33.642884Z",
     "shell.execute_reply": "2023-05-10T10:25:33.641770Z",
     "shell.execute_reply.started": "2023-05-10T10:25:31.480755Z"
    },
    "tags": []
   },
   "outputs": [],
   "source": [
    "df['death_ind'] = df['death_yn'].apply(lambda x: 1 if x=='Yes' else 0)"
   ]
  },
  {
   "cell_type": "code",
   "execution_count": null,
   "metadata": {
    "execution": {
     "iopub.execute_input": "2023-05-10T10:25:44.642870Z",
     "iopub.status.busy": "2023-05-10T10:25:44.642068Z",
     "iopub.status.idle": "2023-05-10T10:25:45.470440Z",
     "shell.execute_reply": "2023-05-10T10:25:45.469242Z",
     "shell.execute_reply.started": "2023-05-10T10:25:44.642827Z"
    },
    "tags": []
   },
   "outputs": [],
   "source": [
    "gdf['death_ind'] = gdf['death_yn'].applymap(lambda x: 1 if x=='Yes' else 0)"
   ]
  },
  {
   "cell_type": "code",
   "execution_count": null,
   "metadata": {
    "execution": {
     "iopub.execute_input": "2023-05-10T10:26:05.776890Z",
     "iopub.status.busy": "2023-05-10T10:26:05.776423Z",
     "iopub.status.idle": "2023-05-10T10:26:05.791609Z",
     "shell.execute_reply": "2023-05-10T10:26:05.790717Z",
     "shell.execute_reply.started": "2023-05-10T10:26:05.776863Z"
    },
    "tags": []
   },
   "outputs": [],
   "source": [
    "gdf['death_ind'] = (gdf['death_yn']=='Yes') * 1"
   ]
  },
  {
   "cell_type": "markdown",
   "metadata": {},
   "source": [
    "Давайте посмотрим, есть ли различие в вероятности смерти, если есть осложения"
   ]
  },
  {
   "cell_type": "code",
   "execution_count": null,
   "metadata": {
    "execution": {
     "iopub.execute_input": "2023-05-10T10:26:07.017104Z",
     "iopub.status.busy": "2023-05-10T10:26:07.016636Z",
     "iopub.status.idle": "2023-05-10T10:26:07.023904Z",
     "shell.execute_reply": "2023-05-10T10:26:07.023051Z",
     "shell.execute_reply.started": "2023-05-10T10:26:07.017073Z"
    },
    "tags": []
   },
   "outputs": [],
   "source": [
    "gdf['death_ind'].mean()"
   ]
  },
  {
   "cell_type": "code",
   "execution_count": null,
   "metadata": {
    "execution": {
     "iopub.execute_input": "2023-05-10T10:26:09.803576Z",
     "iopub.status.busy": "2023-05-10T10:26:09.802803Z",
     "iopub.status.idle": "2023-05-10T10:26:10.462739Z",
     "shell.execute_reply": "2023-05-10T10:26:10.461724Z",
     "shell.execute_reply.started": "2023-05-10T10:26:09.803537Z"
    },
    "tags": []
   },
   "outputs": [],
   "source": [
    "%time df[['medcond_yn', 'death_ind']].groupby(['medcond_yn']).mean()"
   ]
  },
  {
   "cell_type": "code",
   "execution_count": null,
   "metadata": {
    "execution": {
     "iopub.execute_input": "2023-05-10T10:26:14.686350Z",
     "iopub.status.busy": "2023-05-10T10:26:14.685945Z",
     "iopub.status.idle": "2023-05-10T10:26:14.722439Z",
     "shell.execute_reply": "2023-05-10T10:26:14.721879Z",
     "shell.execute_reply.started": "2023-05-10T10:26:14.686322Z"
    },
    "tags": []
   },
   "outputs": [],
   "source": [
    "%time gdf[['medcond_yn', 'death_ind']].groupby(['medcond_yn']).mean()"
   ]
  },
  {
   "cell_type": "markdown",
   "metadata": {},
   "source": [
    "# Домашнее задание\n",
    "\n",
    "Сравните среднюю вероятность смерти мужчин и женщин по группам возростов на основе столбца death_ind. Тоже самое проделайте для вероятности госпитализации, преобразовав переменную hosp_yn, как мы сделали с переменной death_yn. Используйте cudf и сохраните результат на диск."
   ]
  },
  {
   "cell_type": "markdown",
   "metadata": {},
   "source": [
    "## Кстати\n",
    "\n",
    "Можно писать собственные udf через numba"
   ]
  },
  {
   "cell_type": "code",
   "execution_count": null,
   "metadata": {
    "execution": {
     "iopub.execute_input": "2023-05-10T10:26:21.668455Z",
     "iopub.status.busy": "2023-05-10T10:26:21.668059Z",
     "iopub.status.idle": "2023-05-10T10:26:21.688200Z",
     "shell.execute_reply": "2023-05-10T10:26:21.687630Z",
     "shell.execute_reply.started": "2023-05-10T10:26:21.668430Z"
    },
    "tags": []
   },
   "outputs": [],
   "source": [
    "from cudf.datasets import randomdata\n",
    "\n",
    "df = randomdata(nrows=10, dtypes={'a':float, 'b':float, 'c':str}, seed=12)\n",
    "df.head()"
   ]
  },
  {
   "cell_type": "code",
   "execution_count": null,
   "metadata": {
    "execution": {
     "iopub.execute_input": "2023-05-10T10:26:22.740314Z",
     "iopub.status.busy": "2023-05-10T10:26:22.739914Z",
     "iopub.status.idle": "2023-05-10T10:26:22.744961Z",
     "shell.execute_reply": "2023-05-10T10:26:22.744316Z",
     "shell.execute_reply.started": "2023-05-10T10:26:22.740288Z"
    },
    "tags": []
   },
   "outputs": [],
   "source": [
    "from numba import cuda\n",
    "\n",
    "@cuda.jit\n",
    "def multiply(in_col, out_col, multiplier):\n",
    "    i = cuda.grid(1)\n",
    "    if i < in_col.size:\n",
    "        out_col[i] = in_col[i] * multiplier"
   ]
  },
  {
   "cell_type": "code",
   "execution_count": null,
   "metadata": {
    "execution": {
     "iopub.execute_input": "2023-05-10T10:26:25.393645Z",
     "iopub.status.busy": "2023-05-10T10:26:25.393244Z",
     "iopub.status.idle": "2023-05-10T10:26:25.947456Z",
     "shell.execute_reply": "2023-05-10T10:26:25.946544Z",
     "shell.execute_reply.started": "2023-05-10T10:26:25.393618Z"
    },
    "tags": []
   },
   "outputs": [],
   "source": [
    "size = len(df['a'])\n",
    "df['e'] = 0.0\n",
    "multiply.forall(size)(df['a'], df['e'], 3.0)"
   ]
  },
  {
   "cell_type": "code",
   "execution_count": null,
   "metadata": {
    "execution": {
     "iopub.execute_input": "2023-05-10T10:26:26.404975Z",
     "iopub.status.busy": "2023-05-10T10:26:26.404565Z",
     "iopub.status.idle": "2023-05-10T10:26:26.423747Z",
     "shell.execute_reply": "2023-05-10T10:26:26.423175Z",
     "shell.execute_reply.started": "2023-05-10T10:26:26.404945Z"
    },
    "tags": []
   },
   "outputs": [],
   "source": [
    "df"
   ]
  },
  {
   "cell_type": "markdown",
   "metadata": {},
   "source": [
    "В сuDF есть хорший метод apply_rows, который позволяет писать udf на python и применять к нескольким столбцам"
   ]
  },
  {
   "cell_type": "code",
   "execution_count": null,
   "metadata": {
    "execution": {
     "iopub.execute_input": "2023-05-10T10:26:27.876328Z",
     "iopub.status.busy": "2023-05-10T10:26:27.875920Z",
     "iopub.status.idle": "2023-05-10T10:26:27.880299Z",
     "shell.execute_reply": "2023-05-10T10:26:27.879709Z",
     "shell.execute_reply.started": "2023-05-10T10:26:27.876303Z"
    },
    "tags": []
   },
   "outputs": [],
   "source": [
    "def conditional_add(x, y, out):\n",
    "    for i, (a, e) in enumerate(zip(x, y)):\n",
    "        if a > 0:\n",
    "            out[i] = a + e\n",
    "        else:\n",
    "            out[i] = a"
   ]
  },
  {
   "cell_type": "code",
   "execution_count": null,
   "metadata": {
    "execution": {
     "iopub.execute_input": "2023-05-10T10:26:30.031650Z",
     "iopub.status.busy": "2023-05-10T10:26:30.031085Z",
     "iopub.status.idle": "2023-05-10T10:26:30.210006Z",
     "shell.execute_reply": "2023-05-10T10:26:30.209467Z",
     "shell.execute_reply.started": "2023-05-10T10:26:30.031627Z"
    },
    "tags": []
   },
   "outputs": [],
   "source": [
    "df = df.apply_rows(conditional_add,\n",
    "                   incols={'a':'x', 'b':'y'},\n",
    "                   outcols={'out': np.float64},\n",
    "                   kwargs={}\n",
    "                  )\n",
    "df"
   ]
  }
 ],
 "metadata": {
  "kernelspec": {
   "display_name": "Python 3",
   "language": "python",
   "name": "python3"
  },
  "language_info": {
   "codemirror_mode": {
    "name": "ipython",
    "version": 3
   },
   "file_extension": ".py",
   "mimetype": "text/x-python",
   "name": "python",
   "nbconvert_exporter": "python",
   "pygments_lexer": "ipython3",
   "version": "3.8.8"
  }
 },
 "nbformat": 4,
 "nbformat_minor": 4
}
