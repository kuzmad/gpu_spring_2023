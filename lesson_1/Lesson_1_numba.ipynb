{
 "cells": [
  {
   "cell_type": "markdown",
   "metadata": {},
   "source": [
    "# Numba\n",
    "\n",
    "Numba-это компилятор для массивов Python и числовых функций, который дает вам возможность ускорить ваши приложения с помощью высокопроизводительных функций, написанных непосредственно на Python.\n",
    "\n",
    "Numba генерирует оптимизированный машинный код из чистого кода Python с использованием инфраструктуры компилятора LLVM. С помощью numba тяжелый код Python может быть оптимизирован до производительности, аналогичной C, C++ и Fortran, без необходимости переключения языков или интерпретаторов Python.\n",
    "\n",
    "Оптимизация происходит при помощи использования различных декораторов.\n",
    "\n",
    "### @jit\n",
    "Самый базовый декоратор, который использует Numba JIT компилятор для оптимизации. Numba сама анализирует код и решает, какие его части можно оптимизировать. Внутри генерируется код, обрабатывающий все значения как объекты Python и использующий Python C API для выполнения всех операций с этими объектами. Чаще всего он будет не быстрее, чем оригинальный код на Python за исключением оптимизации циклов в nopython режиме.\n",
    "\n",
    "### @njit\n",
    "\n",
    "Режим компиляции Numba, который генерирует код, не имеющий доступа к Python C API. Этот режим компиляции создает код с наивысшей производительностью, но может взаимодействовать только с определенными типами объектов.\n",
    "\n",
    "http://numba.pydata.org/numba-doc/latest/reference/pysupported.html#pysupported-builtin-types\n",
    "\n",
    "Параметры:\n",
    "\n",
    "nogil - отключает GIL для nopython mode и позволяет использовать многопоточность, но в таком режиме не стоит забывать про подводные камни многопоточности: согласованность, синхронизация, условия конкурренции.\n",
    "\n",
    "parallel - позволяет автоматически распараллеливать код там, где это возможно (https://numba.readthedocs.io/en/stable/user/parallel.html#numba-parallel)\n",
    "\n",
    "cache - кеширует результат работы функции\n",
    "\n",
    "### @vectorize\n",
    "\n",
    "Данный декоратор позволяет создавать универсальный функции ufuncs оперируя синтаксисом numpy, достигая производительности, как на ufuncs написанных на языке C. Функция работает с данными не как с массивами, а отдельно с каждым скаляром, создавая оптимальные циклы для итерирования. Данный вариант не всегда будет быстрее, чем njit, но он позволяет работать с GPU.\n",
    "ПО умолчанию параметр target='cpu', но можно выставить 'parallel' и 'cuda'.\n",
    "\n",
    "### @guvectorize\n",
    "\n",
    "В то время как vectorize() позволяет писать ufuncs, которые работают с одним элементом за один раз, декоратор guvectorize() делает еще один шаг вперед и позволяет писать ufuncs, которые будут работать с произвольным числом элементов входных массивов, а также принимать и возвращать массивы различных размеров. Например, он полезен при расчете скользящего среднего.\n",
    "http://numba.pydata.org/numba-doc/latest/cuda/cudapysupported.html"
   ]
  },
  {
   "cell_type": "code",
   "execution_count": null,
   "metadata": {
    "execution": {
     "iopub.execute_input": "2023-05-10T08:46:35.403901Z",
     "iopub.status.busy": "2023-05-10T08:46:35.403419Z",
     "iopub.status.idle": "2023-05-10T08:46:35.640632Z",
     "shell.execute_reply": "2023-05-10T08:46:35.639460Z",
     "shell.execute_reply.started": "2023-05-10T08:46:35.403823Z"
    },
    "tags": []
   },
   "outputs": [],
   "source": [
    "from numba import jit, njit, cuda, vectorize, float64, float32, cuda, guvectorize, int32\n",
    "import numpy as np\n",
    "from numpy import testing\n",
    "import math"
   ]
  },
  {
   "cell_type": "markdown",
   "metadata": {},
   "source": [
    "Операции с 1 числом"
   ]
  },
  {
   "cell_type": "code",
   "execution_count": null,
   "metadata": {
    "execution": {
     "iopub.execute_input": "2023-05-10T08:46:39.783889Z",
     "iopub.status.busy": "2023-05-10T08:46:39.783139Z",
     "iopub.status.idle": "2023-05-10T08:46:39.813793Z",
     "shell.execute_reply": "2023-05-10T08:46:39.813190Z",
     "shell.execute_reply.started": "2023-05-10T08:46:39.783846Z"
    },
    "tags": []
   },
   "outputs": [],
   "source": [
    "def compute_logit(y):\n",
    "    logit = 1 / (1 + math.exp(-y))\n",
    "    return logit\n",
    "\n",
    "@jit\n",
    "def compute_logit_numba(y):\n",
    "    logit = 1 / (1 + math.exp(-y))\n",
    "    return logit\n",
    "\n",
    "@njit\n",
    "def compute_logit_numba_2(y):\n",
    "    logit = 1 / (1 + math.exp(-y))\n",
    "    return logit"
   ]
  },
  {
   "cell_type": "markdown",
   "metadata": {},
   "source": [
    "Давайте посмотрим, есть ли какая-то оптимизация, когда у на соперация с одним числом и нет циклов"
   ]
  },
  {
   "cell_type": "code",
   "execution_count": null,
   "metadata": {
    "execution": {
     "iopub.execute_input": "2023-05-10T08:46:42.636315Z",
     "iopub.status.busy": "2023-05-10T08:46:42.635887Z",
     "iopub.status.idle": "2023-05-10T08:46:44.228756Z",
     "shell.execute_reply": "2023-05-10T08:46:44.227896Z",
     "shell.execute_reply.started": "2023-05-10T08:46:42.636285Z"
    },
    "tags": []
   },
   "outputs": [],
   "source": [
    "%timeit compute_logit(3.5)"
   ]
  },
  {
   "cell_type": "code",
   "execution_count": null,
   "metadata": {
    "execution": {
     "iopub.execute_input": "2023-05-10T08:47:08.916201Z",
     "iopub.status.busy": "2023-05-10T08:47:08.915643Z",
     "iopub.status.idle": "2023-05-10T08:47:23.069727Z",
     "shell.execute_reply": "2023-05-10T08:47:23.068370Z",
     "shell.execute_reply.started": "2023-05-10T08:47:08.916172Z"
    },
    "tags": []
   },
   "outputs": [],
   "source": [
    "%timeit compute_logit_numba(3.5)"
   ]
  },
  {
   "cell_type": "code",
   "execution_count": null,
   "metadata": {
    "execution": {
     "iopub.execute_input": "2023-05-10T08:46:44.457092Z",
     "iopub.status.busy": "2023-05-10T08:46:44.456754Z",
     "iopub.status.idle": "2023-05-10T08:46:58.566341Z",
     "shell.execute_reply": "2023-05-10T08:46:58.565030Z",
     "shell.execute_reply.started": "2023-05-10T08:46:44.457069Z"
    },
    "tags": []
   },
   "outputs": [],
   "source": [
    "%timeit compute_logit_numba_2(3.5)"
   ]
  },
  {
   "cell_type": "markdown",
   "metadata": {},
   "source": [
    "Вектора"
   ]
  },
  {
   "cell_type": "markdown",
   "metadata": {},
   "source": [
    "Создадим вектор размерности 10 000 000 чисел float64"
   ]
  },
  {
   "cell_type": "code",
   "execution_count": null,
   "metadata": {
    "execution": {
     "iopub.execute_input": "2023-05-10T08:47:28.831342Z",
     "iopub.status.busy": "2023-05-10T08:47:28.830801Z",
     "iopub.status.idle": "2023-05-10T08:47:28.917037Z",
     "shell.execute_reply": "2023-05-10T08:47:28.916231Z",
     "shell.execute_reply.started": "2023-05-10T08:47:28.831301Z"
    },
    "tags": []
   },
   "outputs": [],
   "source": [
    "x = np.random.random_sample(10000000)"
   ]
  },
  {
   "cell_type": "code",
   "execution_count": null,
   "metadata": {
    "execution": {
     "iopub.execute_input": "2023-05-10T08:47:44.947183Z",
     "iopub.status.busy": "2023-05-10T08:47:44.946730Z",
     "iopub.status.idle": "2023-05-10T08:47:44.953095Z",
     "shell.execute_reply": "2023-05-10T08:47:44.952194Z",
     "shell.execute_reply.started": "2023-05-10T08:47:44.947158Z"
    },
    "tags": []
   },
   "outputs": [],
   "source": [
    "def logistic(y):\n",
    "    result = [1 / (1 + math.exp(-val)) for val in y]\n",
    "    return result\n",
    "\n",
    "@njit\n",
    "def logistic_simple_numba(y):\n",
    "    result = [1 / (1 + math.exp(-val)) for val in y]\n",
    "    return result\n",
    "\n",
    "@njit(nogil=True)\n",
    "def logistic_simple_numba_ng(y):\n",
    "    result = [1 / (1 + math.exp(-val)) for val in y]\n",
    "    return result\n",
    "\n",
    "def logistic_numpy(y):\n",
    "    return 1 / (1 + np.exp(-y))"
   ]
  },
  {
   "cell_type": "code",
   "execution_count": null,
   "metadata": {
    "execution": {
     "iopub.execute_input": "2023-05-10T08:47:48.257783Z",
     "iopub.status.busy": "2023-05-10T08:47:48.257355Z",
     "iopub.status.idle": "2023-05-10T08:48:06.908632Z",
     "shell.execute_reply": "2023-05-10T08:48:06.907421Z",
     "shell.execute_reply.started": "2023-05-10T08:47:48.257760Z"
    },
    "tags": []
   },
   "outputs": [],
   "source": [
    "%timeit logistic(x)"
   ]
  },
  {
   "cell_type": "code",
   "execution_count": null,
   "metadata": {
    "execution": {
     "iopub.execute_input": "2023-05-10T08:48:06.911412Z",
     "iopub.status.busy": "2023-05-10T08:48:06.910955Z",
     "iopub.status.idle": "2023-05-10T08:48:11.051605Z",
     "shell.execute_reply": "2023-05-10T08:48:11.050443Z",
     "shell.execute_reply.started": "2023-05-10T08:48:06.911375Z"
    },
    "tags": []
   },
   "outputs": [],
   "source": [
    "%timeit logistic_simple_numba(x)"
   ]
  },
  {
   "cell_type": "code",
   "execution_count": null,
   "metadata": {
    "execution": {
     "iopub.execute_input": "2023-05-10T08:48:11.053438Z",
     "iopub.status.busy": "2023-05-10T08:48:11.053019Z",
     "iopub.status.idle": "2023-05-10T08:48:15.234332Z",
     "shell.execute_reply": "2023-05-10T08:48:15.233413Z",
     "shell.execute_reply.started": "2023-05-10T08:48:11.053412Z"
    },
    "tags": []
   },
   "outputs": [],
   "source": [
    "%timeit logistic_simple_numba_ng(x)"
   ]
  },
  {
   "cell_type": "code",
   "execution_count": null,
   "metadata": {
    "execution": {
     "iopub.execute_input": "2023-05-10T08:48:15.236255Z",
     "iopub.status.busy": "2023-05-10T08:48:15.235886Z",
     "iopub.status.idle": "2023-05-10T08:48:23.652081Z",
     "shell.execute_reply": "2023-05-10T08:48:23.651105Z",
     "shell.execute_reply.started": "2023-05-10T08:48:15.236233Z"
    },
    "tags": []
   },
   "outputs": [],
   "source": [
    "%timeit logistic_numpy(x)"
   ]
  },
  {
   "cell_type": "markdown",
   "metadata": {},
   "source": [
    "А что если numpy код обернуть декоратором?"
   ]
  },
  {
   "cell_type": "code",
   "execution_count": null,
   "metadata": {
    "execution": {
     "iopub.execute_input": "2023-05-10T08:48:38.425044Z",
     "iopub.status.busy": "2023-05-10T08:48:38.424258Z",
     "iopub.status.idle": "2023-05-10T08:48:38.431894Z",
     "shell.execute_reply": "2023-05-10T08:48:38.430995Z",
     "shell.execute_reply.started": "2023-05-10T08:48:38.425003Z"
    },
    "tags": []
   },
   "outputs": [],
   "source": [
    "@njit\n",
    "def logistic_numba(y):\n",
    "    return 1 / (1 + np.exp(-y))\n",
    "\n",
    "@njit(parallel=True)\n",
    "def logistic_numba_parallel(y):\n",
    "    return 1 / (1 + np.exp(-y))"
   ]
  },
  {
   "cell_type": "code",
   "execution_count": null,
   "metadata": {
    "execution": {
     "iopub.execute_input": "2023-05-10T08:49:38.122608Z",
     "iopub.status.busy": "2023-05-10T08:49:38.122148Z",
     "iopub.status.idle": "2023-05-10T08:49:47.284401Z",
     "shell.execute_reply": "2023-05-10T08:49:47.283547Z",
     "shell.execute_reply.started": "2023-05-10T08:49:38.122582Z"
    },
    "tags": []
   },
   "outputs": [],
   "source": [
    "%timeit logistic_numba(x)"
   ]
  },
  {
   "cell_type": "code",
   "execution_count": null,
   "metadata": {
    "execution": {
     "iopub.execute_input": "2023-05-10T08:49:50.724799Z",
     "iopub.status.busy": "2023-05-10T08:49:50.724388Z",
     "iopub.status.idle": "2023-05-10T08:49:57.196534Z",
     "shell.execute_reply": "2023-05-10T08:49:57.195206Z",
     "shell.execute_reply.started": "2023-05-10T08:49:50.724773Z"
    },
    "tags": []
   },
   "outputs": [],
   "source": [
    "%timeit logistic_numba_parallel(x)"
   ]
  },
  {
   "cell_type": "markdown",
   "metadata": {},
   "source": [
    "Есть декоратор для работы с веткорами, давайте попробуем и его!"
   ]
  },
  {
   "cell_type": "code",
   "execution_count": null,
   "metadata": {
    "execution": {
     "iopub.execute_input": "2023-05-10T08:50:08.510695Z",
     "iopub.status.busy": "2023-05-10T08:50:08.510284Z",
     "iopub.status.idle": "2023-05-10T08:50:08.739925Z",
     "shell.execute_reply": "2023-05-10T08:50:08.739304Z",
     "shell.execute_reply.started": "2023-05-10T08:50:08.510669Z"
    },
    "tags": []
   },
   "outputs": [],
   "source": [
    "@vectorize([float64(float64)], nopython=True)\n",
    "def logistic_numba_v(y):\n",
    "    return 1 / (1 + np.exp(-y))\n",
    "\n",
    "@vectorize([float64(float64)], target='cuda')\n",
    "def logistic_numba_v_cuda(y):\n",
    "    return 1 / (1 + math.exp(-y))"
   ]
  },
  {
   "cell_type": "code",
   "execution_count": null,
   "metadata": {
    "execution": {
     "iopub.execute_input": "2023-05-10T08:50:13.866340Z",
     "iopub.status.busy": "2023-05-10T08:50:13.865964Z",
     "iopub.status.idle": "2023-05-10T08:50:22.748421Z",
     "shell.execute_reply": "2023-05-10T08:50:22.747671Z",
     "shell.execute_reply.started": "2023-05-10T08:50:13.866316Z"
    },
    "tags": []
   },
   "outputs": [],
   "source": [
    "%timeit logistic_numba_v(x)"
   ]
  },
  {
   "cell_type": "code",
   "execution_count": null,
   "metadata": {
    "execution": {
     "iopub.execute_input": "2023-05-10T08:50:28.487378Z",
     "iopub.status.busy": "2023-05-10T08:50:28.486973Z",
     "iopub.status.idle": "2023-05-10T08:50:29.425995Z",
     "shell.execute_reply": "2023-05-10T08:50:29.425347Z",
     "shell.execute_reply.started": "2023-05-10T08:50:28.487353Z"
    },
    "tags": []
   },
   "outputs": [],
   "source": [
    "%timeit logistic_numba_v_cuda(x)"
   ]
  },
  {
   "cell_type": "markdown",
   "metadata": {},
   "source": [
    "Что-то GPU не впечатлило...а что можно сделать? Первое - это перейти на float32, сильно ничего не потеряем, но взамен преобретем скорость=)"
   ]
  },
  {
   "cell_type": "code",
   "execution_count": null,
   "metadata": {
    "execution": {
     "iopub.execute_input": "2023-05-10T08:50:37.619991Z",
     "iopub.status.busy": "2023-05-10T08:50:37.619249Z",
     "iopub.status.idle": "2023-05-10T08:50:37.747904Z",
     "shell.execute_reply": "2023-05-10T08:50:37.747247Z",
     "shell.execute_reply.started": "2023-05-10T08:50:37.619949Z"
    },
    "tags": []
   },
   "outputs": [],
   "source": [
    "x_32 = np.float32(np.random.random_sample(10000000))\n",
    "\n",
    "\n",
    "@vectorize([float32(float32)], target='cuda')\n",
    "def logistic_numba_v_cuda(y):\n",
    "    return 1 / (1 + math.exp(y))"
   ]
  },
  {
   "cell_type": "code",
   "execution_count": null,
   "metadata": {
    "execution": {
     "iopub.execute_input": "2023-05-10T08:50:39.735973Z",
     "iopub.status.busy": "2023-05-10T08:50:39.735575Z",
     "iopub.status.idle": "2023-05-10T08:50:43.063446Z",
     "shell.execute_reply": "2023-05-10T08:50:43.062796Z",
     "shell.execute_reply.started": "2023-05-10T08:50:39.735948Z"
    },
    "tags": []
   },
   "outputs": [],
   "source": [
    "%timeit logistic_numba_v_cuda(x_32)"
   ]
  },
  {
   "cell_type": "markdown",
   "metadata": {},
   "source": [
    "Так, все равно что-то не так...Давайте вспомним о том, что есть расходы на передачу данных от оперативной памяти на GPU и попробуем сделать это заранее. А также заранее заразервируем на GPU место для результата"
   ]
  },
  {
   "cell_type": "code",
   "execution_count": null,
   "metadata": {
    "execution": {
     "iopub.execute_input": "2023-05-10T08:50:55.049899Z",
     "iopub.status.busy": "2023-05-10T08:50:55.049500Z",
     "iopub.status.idle": "2023-05-10T08:50:55.059783Z",
     "shell.execute_reply": "2023-05-10T08:50:55.058665Z",
     "shell.execute_reply.started": "2023-05-10T08:50:55.049875Z"
    },
    "tags": []
   },
   "outputs": [],
   "source": [
    "x_device = cuda.to_device(x_32)\n",
    "out_device = cuda.device_array(shape=(len(x_32),), dtype=np.float32) "
   ]
  },
  {
   "cell_type": "code",
   "execution_count": null,
   "metadata": {
    "execution": {
     "iopub.execute_input": "2023-05-10T08:50:56.297499Z",
     "iopub.status.busy": "2023-05-10T08:50:56.297136Z",
     "iopub.status.idle": "2023-05-10T08:51:08.543473Z",
     "shell.execute_reply": "2023-05-10T08:51:08.542710Z",
     "shell.execute_reply.started": "2023-05-10T08:50:56.297476Z"
    },
    "tags": []
   },
   "outputs": [],
   "source": [
    "%timeit logistic_numba_v_cuda(x_device, out=out_device)"
   ]
  },
  {
   "cell_type": "markdown",
   "metadata": {},
   "source": [
    "А теперь давайте напишем функцию через cuda.jit"
   ]
  },
  {
   "cell_type": "code",
   "execution_count": null,
   "metadata": {
    "execution": {
     "iopub.execute_input": "2023-05-10T08:51:15.346156Z",
     "iopub.status.busy": "2023-05-10T08:51:15.345750Z",
     "iopub.status.idle": "2023-05-10T08:51:15.350890Z",
     "shell.execute_reply": "2023-05-10T08:51:15.350245Z",
     "shell.execute_reply.started": "2023-05-10T08:51:15.346128Z"
    },
    "tags": []
   },
   "outputs": [],
   "source": [
    "@cuda.jit\n",
    "def logistic_cuda_jit(x, y):\n",
    "    pos = cuda.grid(1)\n",
    "    if pos < x.size:\n",
    "        y[pos] = 1 / (1 + 1 + math.exp(-x[pos]))"
   ]
  },
  {
   "cell_type": "code",
   "execution_count": null,
   "metadata": {
    "execution": {
     "iopub.execute_input": "2023-05-10T08:51:18.095899Z",
     "iopub.status.busy": "2023-05-10T08:51:18.095517Z",
     "iopub.status.idle": "2023-05-10T08:51:18.114474Z",
     "shell.execute_reply": "2023-05-10T08:51:18.113828Z",
     "shell.execute_reply.started": "2023-05-10T08:51:18.095875Z"
    },
    "tags": []
   },
   "outputs": [],
   "source": [
    "threadsperblock = 64\n",
    "blockspergrid = int(math.ceil(x.shape[0] / threadsperblock))\n",
    "\n",
    "d_x = cuda.to_device(x_32)\n",
    "y = np.zeros(x.shape[0])\n",
    "d_y = cuda.to_device(y)"
   ]
  },
  {
   "cell_type": "code",
   "execution_count": null,
   "metadata": {
    "execution": {
     "iopub.execute_input": "2023-05-10T08:51:20.620775Z",
     "iopub.status.busy": "2023-05-10T08:51:20.620397Z",
     "iopub.status.idle": "2023-05-10T08:52:24.762536Z",
     "shell.execute_reply": "2023-05-10T08:52:24.761628Z",
     "shell.execute_reply.started": "2023-05-10T08:51:20.620751Z"
    },
    "tags": []
   },
   "outputs": [],
   "source": [
    "for threadsperblock in [16, 32, 64, 128, 256, 512]:\n",
    "    blockspergrid = int(math.ceil(x.shape[0] / threadsperblock))\n",
    "    res = %timeit -o logistic_cuda_jit[blockspergrid, threadsperblock](d_x, d_y)\n",
    "    print(f'Number of threads - {threadsperblock}, time - {res.average}')"
   ]
  },
  {
   "cell_type": "markdown",
   "metadata": {},
   "source": [
    "Самим писать бывает полезно, можно найти вариант, когда реализация быстрее готовых решений, но нужно подбирать параметры"
   ]
  },
  {
   "cell_type": "markdown",
   "metadata": {},
   "source": [
    "guvectorize"
   ]
  },
  {
   "cell_type": "code",
   "execution_count": null,
   "metadata": {
    "execution": {
     "iopub.execute_input": "2023-05-10T08:52:44.012560Z",
     "iopub.status.busy": "2023-05-10T08:52:44.012158Z",
     "iopub.status.idle": "2023-05-10T08:52:44.016580Z",
     "shell.execute_reply": "2023-05-10T08:52:44.015984Z",
     "shell.execute_reply.started": "2023-05-10T08:52:44.012533Z"
    },
    "tags": []
   },
   "outputs": [],
   "source": [
    "x = np.random.random_sample(100000)"
   ]
  },
  {
   "cell_type": "code",
   "execution_count": null,
   "metadata": {
    "execution": {
     "iopub.execute_input": "2023-05-10T08:52:45.786790Z",
     "iopub.status.busy": "2023-05-10T08:52:45.786434Z",
     "iopub.status.idle": "2023-05-10T08:52:46.111047Z",
     "shell.execute_reply": "2023-05-10T08:52:46.110363Z",
     "shell.execute_reply.started": "2023-05-10T08:52:45.786766Z"
    },
    "tags": []
   },
   "outputs": [],
   "source": [
    "def moving_average(vector, window):\n",
    "    avg = [vector[i:i+window].mean() for i in range(len(vector))]\n",
    "    return np.array(avg)\n",
    "\n",
    "@guvectorize(['void(float64[:], int32, float64[:])'],\n",
    "             '(n),()->(n)', nopython=True)\n",
    "def moving_average_g(vector, window, out):\n",
    "    for i in range(len(vector)):\n",
    "        acc = 0.\n",
    "        values = vector[i:i+window]\n",
    "        for val in values:\n",
    "            acc += val\n",
    "        out[i] = acc / len(values)\n",
    "        \n",
    "@guvectorize(['void(float64[:], int64, float64[:])'],\n",
    "             '(n),()->(n)', target='cuda')\n",
    "def moving_average_cuda(vector, window, out):\n",
    "    for i in range(len(vector)):\n",
    "        acc = 0.\n",
    "        values = vector[i:i+window]\n",
    "        for val in values:\n",
    "            acc += val\n",
    "        out[i] = acc / len(values)"
   ]
  },
  {
   "cell_type": "code",
   "execution_count": null,
   "metadata": {
    "execution": {
     "iopub.execute_input": "2023-05-10T08:52:51.525075Z",
     "iopub.status.busy": "2023-05-10T08:52:51.524734Z",
     "iopub.status.idle": "2023-05-10T08:52:55.278309Z",
     "shell.execute_reply": "2023-05-10T08:52:55.277724Z",
     "shell.execute_reply.started": "2023-05-10T08:52:51.525049Z"
    },
    "tags": []
   },
   "outputs": [],
   "source": [
    "%timeit moving_average(x, 10)"
   ]
  },
  {
   "cell_type": "code",
   "execution_count": null,
   "metadata": {
    "execution": {
     "iopub.execute_input": "2023-05-10T08:52:59.175205Z",
     "iopub.status.busy": "2023-05-10T08:52:59.174786Z",
     "iopub.status.idle": "2023-05-10T08:53:05.393265Z",
     "shell.execute_reply": "2023-05-10T08:53:05.392614Z",
     "shell.execute_reply.started": "2023-05-10T08:52:59.175182Z"
    },
    "tags": []
   },
   "outputs": [],
   "source": [
    "%timeit moving_average_g(x, 10)"
   ]
  },
  {
   "cell_type": "code",
   "execution_count": null,
   "metadata": {
    "execution": {
     "iopub.execute_input": "2023-05-10T08:53:06.730343Z",
     "iopub.status.busy": "2023-05-10T08:53:06.729941Z",
     "iopub.status.idle": "2023-05-10T08:53:06.735897Z",
     "shell.execute_reply": "2023-05-10T08:53:06.735114Z",
     "shell.execute_reply.started": "2023-05-10T08:53:06.730317Z"
    },
    "tags": []
   },
   "outputs": [],
   "source": [
    "x_device = cuda.to_device(x)\n",
    "window = cuda.to_device(10)"
   ]
  },
  {
   "cell_type": "code",
   "execution_count": null,
   "metadata": {
    "execution": {
     "iopub.execute_input": "2023-05-10T08:53:08.209134Z",
     "iopub.status.busy": "2023-05-10T08:53:08.208765Z",
     "iopub.status.idle": "2023-05-10T08:53:08.222502Z",
     "shell.execute_reply": "2023-05-10T08:53:08.221487Z",
     "shell.execute_reply.started": "2023-05-10T08:53:08.209110Z"
    },
    "tags": []
   },
   "outputs": [],
   "source": [
    "%time moving_average_cuda(x_device, window)"
   ]
  },
  {
   "cell_type": "markdown",
   "metadata": {},
   "source": [
    "Матрицы"
   ]
  },
  {
   "cell_type": "code",
   "execution_count": null,
   "metadata": {
    "execution": {
     "iopub.execute_input": "2023-05-10T08:53:20.880734Z",
     "iopub.status.busy": "2023-05-10T08:53:20.880369Z",
     "iopub.status.idle": "2023-05-10T08:53:20.885351Z",
     "shell.execute_reply": "2023-05-10T08:53:20.884751Z",
     "shell.execute_reply.started": "2023-05-10T08:53:20.880711Z"
    },
    "tags": []
   },
   "outputs": [],
   "source": [
    "x = np.random.random_sample(90000).reshape(300, 300)\n",
    "y = np.random.random_sample(90000).reshape(300, 300)"
   ]
  },
  {
   "cell_type": "code",
   "execution_count": null,
   "metadata": {
    "execution": {
     "iopub.execute_input": "2023-05-10T08:53:28.078741Z",
     "iopub.status.busy": "2023-05-10T08:53:28.078432Z",
     "iopub.status.idle": "2023-05-10T08:53:28.088523Z",
     "shell.execute_reply": "2023-05-10T08:53:28.087865Z",
     "shell.execute_reply.started": "2023-05-10T08:53:28.078719Z"
    },
    "tags": []
   },
   "outputs": [],
   "source": [
    "def mm(x, y):\n",
    "    x_rows, x_cols = x.shape\n",
    "    y_rows, y_cols = y.shape\n",
    "    z = np.zeros(x_rows * y_cols).reshape(x_rows, y_cols)\n",
    "    for i in range(x_rows):\n",
    "        for j in range(x_cols):\n",
    "            for k in range(y_cols):\n",
    "                z[i][k] += x[i][j] * y[j][k]\n",
    "    return z\n",
    "\n",
    "def mm_numpy(x, y):\n",
    "    return np.dot(x, y)\n",
    "\n",
    "@njit\n",
    "def nn_numba(x, y):\n",
    "    x_rows, x_cols = x.shape\n",
    "    y_rows, y_cols = y.shape\n",
    "    z = np.zeros(x_rows * y_cols).reshape(x_rows, y_cols)\n",
    "    for i in range(x_rows):\n",
    "        for j in range(x_cols):\n",
    "            for k in range(y_cols):\n",
    "                z[i][k] += x[i][j] * y[j][k]\n",
    "    return z\n",
    "\n",
    "@njit(parallel=True)\n",
    "def mm_numpy_numba(x, y):\n",
    "    return np.dot(x, y)\n",
    "\n",
    "\n",
    "@cuda.jit\n",
    "def mm_cuda(x, y, z):\n",
    "    i, j = cuda.grid(2)\n",
    "    tmp = 0.\n",
    "    for k in range(x.shape[1]):\n",
    "        tmp += x[i, k] * y[k, j]\n",
    "    z[i, j] = tmp"
   ]
  },
  {
   "cell_type": "code",
   "execution_count": null,
   "metadata": {
    "execution": {
     "iopub.execute_input": "2023-05-10T08:53:32.364213Z",
     "iopub.status.busy": "2023-05-10T08:53:32.363821Z",
     "iopub.status.idle": "2023-05-10T08:53:52.051315Z",
     "shell.execute_reply": "2023-05-10T08:53:52.050725Z",
     "shell.execute_reply.started": "2023-05-10T08:53:32.364189Z"
    },
    "tags": []
   },
   "outputs": [],
   "source": [
    "testing.assert_almost_equal(mm(x, y), mm_numpy(x, y), decimal=2)"
   ]
  },
  {
   "cell_type": "code",
   "execution_count": null,
   "metadata": {
    "execution": {
     "iopub.execute_input": "2023-05-10T08:54:20.790478Z",
     "iopub.status.busy": "2023-05-10T08:54:20.790110Z",
     "iopub.status.idle": "2023-05-10T08:54:40.643391Z",
     "shell.execute_reply": "2023-05-10T08:54:40.642781Z",
     "shell.execute_reply.started": "2023-05-10T08:54:20.790455Z"
    },
    "tags": []
   },
   "outputs": [],
   "source": [
    "%time mm(x, y)"
   ]
  },
  {
   "cell_type": "code",
   "execution_count": null,
   "metadata": {
    "execution": {
     "iopub.execute_input": "2023-05-10T08:54:44.953518Z",
     "iopub.status.busy": "2023-05-10T08:54:44.953116Z",
     "iopub.status.idle": "2023-05-10T08:54:58.205789Z",
     "shell.execute_reply": "2023-05-10T08:54:58.204990Z",
     "shell.execute_reply.started": "2023-05-10T08:54:44.953493Z"
    },
    "tags": []
   },
   "outputs": [],
   "source": [
    "%timeit mm_numpy(x, y)"
   ]
  },
  {
   "cell_type": "code",
   "execution_count": null,
   "metadata": {
    "execution": {
     "iopub.execute_input": "2023-05-10T08:54:58.207379Z",
     "iopub.status.busy": "2023-05-10T08:54:58.207070Z",
     "iopub.status.idle": "2023-05-10T08:54:58.748402Z",
     "shell.execute_reply": "2023-05-10T08:54:58.747730Z",
     "shell.execute_reply.started": "2023-05-10T08:54:58.207359Z"
    },
    "tags": []
   },
   "outputs": [],
   "source": [
    "%timeit nn_numba(x, y)"
   ]
  },
  {
   "cell_type": "code",
   "execution_count": null,
   "metadata": {
    "execution": {
     "iopub.execute_input": "2023-05-10T08:55:05.375079Z",
     "iopub.status.busy": "2023-05-10T08:55:05.374701Z",
     "iopub.status.idle": "2023-05-10T08:55:05.850663Z",
     "shell.execute_reply": "2023-05-10T08:55:05.849986Z",
     "shell.execute_reply.started": "2023-05-10T08:55:05.375053Z"
    },
    "tags": []
   },
   "outputs": [],
   "source": [
    "%timeit mm_numpy_numba(x, y)"
   ]
  },
  {
   "cell_type": "code",
   "execution_count": null,
   "metadata": {
    "execution": {
     "iopub.execute_input": "2023-05-10T08:55:18.518820Z",
     "iopub.status.busy": "2023-05-10T08:55:18.518450Z",
     "iopub.status.idle": "2023-05-10T08:55:18.525525Z",
     "shell.execute_reply": "2023-05-10T08:55:18.524935Z",
     "shell.execute_reply.started": "2023-05-10T08:55:18.518796Z"
    },
    "tags": []
   },
   "outputs": [],
   "source": [
    "threadsperblock = (16, 16)\n",
    "blockspergrid_x = int(math.ceil(x.shape[0] / threadsperblock[0]))\n",
    "blockspergrid_y = int(math.ceil(y.shape[1] / threadsperblock[1]))\n",
    "blockspergrid = (blockspergrid_x, blockspergrid_y)\n",
    "\n",
    "d_x = cuda.to_device(x)\n",
    "d_y = cuda.to_device(y)\n",
    "z = np.zeros(x.shape[0] * y.shape[1]).reshape(x.shape[0], y.shape[1])\n",
    "d_z = cuda.to_device(z)"
   ]
  },
  {
   "cell_type": "code",
   "execution_count": null,
   "metadata": {
    "execution": {
     "iopub.execute_input": "2023-05-10T08:55:20.804702Z",
     "iopub.status.busy": "2023-05-10T08:55:20.804333Z",
     "iopub.status.idle": "2023-05-10T08:55:30.213911Z",
     "shell.execute_reply": "2023-05-10T08:55:30.213155Z",
     "shell.execute_reply.started": "2023-05-10T08:55:20.804679Z"
    },
    "tags": []
   },
   "outputs": [],
   "source": [
    "%timeit mm_cuda[blockspergrid, threadsperblock](d_x, d_y, d_z)"
   ]
  },
  {
   "cell_type": "code",
   "execution_count": null,
   "metadata": {
    "execution": {
     "iopub.execute_input": "2023-05-10T08:55:30.215632Z",
     "iopub.status.busy": "2023-05-10T08:55:30.215319Z",
     "iopub.status.idle": "2023-05-10T08:55:30.328418Z",
     "shell.execute_reply": "2023-05-10T08:55:30.327840Z",
     "shell.execute_reply.started": "2023-05-10T08:55:30.215608Z"
    },
    "tags": []
   },
   "outputs": [],
   "source": [
    "a = %timeit -n 100 -r 10 -o mm_cuda[blockspergrid, threadsperblock](d_x, d_y, d_z)"
   ]
  },
  {
   "cell_type": "markdown",
   "metadata": {},
   "source": [
    "# Немного про распараллеливание кода"
   ]
  },
  {
   "cell_type": "code",
   "execution_count": null,
   "metadata": {
    "execution": {
     "iopub.execute_input": "2023-05-10T08:55:37.832684Z",
     "iopub.status.busy": "2023-05-10T08:55:37.832292Z",
     "iopub.status.idle": "2023-05-10T08:55:37.862352Z",
     "shell.execute_reply": "2023-05-10T08:55:37.861706Z",
     "shell.execute_reply.started": "2023-05-10T08:55:37.832659Z"
    },
    "tags": []
   },
   "outputs": [],
   "source": [
    "from joblib import Parallel, delayed"
   ]
  },
  {
   "cell_type": "markdown",
   "metadata": {},
   "source": [
    "### backend: str, ParallelBackendBase instance or None, default: ‘loky’\n",
    "Specify the parallelization backend implementation. Supported backends are:\n",
    "\n",
    "“loky” used by default, can induce some communication and memory overhead when exchanging input and output data with the worker Python processes. On some rare systems (such as Pyiodide), the loky backend may not be available.\n",
    "\n",
    "“multiprocessing” previous process-based backend based on multiprocessing.Pool. Less robust than loky.\n",
    "\n",
    "“threading” is a very low-overhead backend but it suffers from the Python Global Interpreter Lock if the called function relies a lot on Python objects. “threading” is mostly useful when the execution bottleneck is a compiled extension that explicitly releases the GIL (for instance a Cython loop wrapped in a “with nogil” block or an expensive call to a library such as NumPy).\n",
    "\n",
    "finally, you can register backends by calling register_parallel_backend(). This will allow you to implement a backend of your liking."
   ]
  },
  {
   "cell_type": "markdown",
   "metadata": {},
   "source": [
    "### batch_size: int or ‘auto’, default: ‘auto’\n",
    "\n",
    "The number of atomic tasks to dispatch at once to each worker. When individual evaluations are very fast, dispatching calls to workers can be slower than sequential computation because of the overhead. Batching fast computations together can mitigate this. The 'auto' strategy keeps track of the time it takes for a batch to complete, and dynamically adjusts the batch size to keep the time on the order of half a second, using a heuristic. The initial batch size is 1. batch_size=\"auto\" with backend=\"threading\" will dispatch batches of a single task at a time as the threading backend has very little overhead and using larger batch size has not proved to bring any gain in that case."
   ]
  },
  {
   "cell_type": "markdown",
   "metadata": {},
   "source": [
    "Рассмотрим простой пример, но он позволит понять основной принцип"
   ]
  },
  {
   "cell_type": "code",
   "execution_count": null,
   "metadata": {
    "execution": {
     "iopub.execute_input": "2023-05-10T08:55:58.903233Z",
     "iopub.status.busy": "2023-05-10T08:55:58.902853Z",
     "iopub.status.idle": "2023-05-10T08:55:59.066558Z",
     "shell.execute_reply": "2023-05-10T08:55:59.065958Z",
     "shell.execute_reply.started": "2023-05-10T08:55:58.903209Z"
    },
    "tags": []
   },
   "outputs": [],
   "source": [
    "x = np.random.random_sample(20000000)"
   ]
  },
  {
   "cell_type": "code",
   "execution_count": null,
   "metadata": {
    "execution": {
     "iopub.execute_input": "2023-05-10T08:55:59.827775Z",
     "iopub.status.busy": "2023-05-10T08:55:59.827416Z",
     "iopub.status.idle": "2023-05-10T08:55:59.831761Z",
     "shell.execute_reply": "2023-05-10T08:55:59.831166Z",
     "shell.execute_reply.started": "2023-05-10T08:55:59.827751Z"
    },
    "tags": []
   },
   "outputs": [],
   "source": [
    "vector = np.random.random_sample(100)\n",
    "\n",
    "def preprocess_one(val):\n",
    "    val = np.sum(np.multiply(vector, val))\n",
    "    return val ** 2\n",
    "\n",
    "def preprocess_array(values):\n",
    "    return [preprocess_one(val) for val in values]"
   ]
  },
  {
   "cell_type": "code",
   "execution_count": null,
   "metadata": {
    "execution": {
     "iopub.execute_input": "2023-05-10T08:56:02.007223Z",
     "iopub.status.busy": "2023-05-10T08:56:02.006828Z",
     "iopub.status.idle": "2023-05-10T08:58:27.268291Z",
     "shell.execute_reply": "2023-05-10T08:58:27.267461Z",
     "shell.execute_reply.started": "2023-05-10T08:56:02.007198Z"
    },
    "jupyter": {
     "outputs_hidden": true
    },
    "tags": []
   },
   "outputs": [],
   "source": [
    "%time preprocess_array(x)"
   ]
  },
  {
   "cell_type": "code",
   "execution_count": null,
   "metadata": {
    "execution": {
     "iopub.execute_input": "2023-05-10T08:58:36.396732Z",
     "iopub.status.busy": "2023-05-10T08:58:36.396322Z",
     "iopub.status.idle": "2023-05-10T09:00:02.958003Z",
     "shell.execute_reply": "2023-05-10T09:00:02.957006Z",
     "shell.execute_reply.started": "2023-05-10T08:58:36.396707Z"
    },
    "tags": []
   },
   "outputs": [],
   "source": [
    "with Parallel(n_jobs=2, verbose=10) as parallel:\n",
    "     results = parallel(delayed(preprocess_one)(val) for val in x)"
   ]
  },
  {
   "cell_type": "markdown",
   "metadata": {},
   "source": [
    "Что-то это было слишком долго...Почему так? Причин несколько: у нас есть затраты на распраллеливание, слишком быстро проходит этап расчета одного воркера и еще и на лету делаются батчи"
   ]
  },
  {
   "cell_type": "code",
   "execution_count": null,
   "metadata": {
    "execution": {
     "iopub.execute_input": "2023-05-10T09:00:11.488491Z",
     "iopub.status.busy": "2023-05-10T09:00:11.488005Z",
     "iopub.status.idle": "2023-05-10T09:00:11.493530Z",
     "shell.execute_reply": "2023-05-10T09:00:11.492784Z",
     "shell.execute_reply.started": "2023-05-10T09:00:11.488453Z"
    },
    "tags": []
   },
   "outputs": [],
   "source": [
    "batch_size = 30000\n",
    "batches = [x[i:i+batch_size] for i in range(0, len(x), batch_size)]"
   ]
  },
  {
   "cell_type": "code",
   "execution_count": null,
   "metadata": {
    "execution": {
     "iopub.execute_input": "2023-05-10T09:00:12.959495Z",
     "iopub.status.busy": "2023-05-10T09:00:12.959092Z",
     "iopub.status.idle": "2023-05-10T09:01:55.338738Z",
     "shell.execute_reply": "2023-05-10T09:01:55.337795Z",
     "shell.execute_reply.started": "2023-05-10T09:00:12.959471Z"
    },
    "tags": []
   },
   "outputs": [],
   "source": [
    "with Parallel(n_jobs=2, verbose=10) as parallel:\n",
    "     results = parallel(delayed(preprocess_array)(val) for val in batches)"
   ]
  },
  {
   "cell_type": "markdown",
   "metadata": {},
   "source": [
    "Уже лучше, видим, что есть затраты на распараллеливание"
   ]
  },
  {
   "cell_type": "code",
   "execution_count": null,
   "metadata": {
    "execution": {
     "iopub.execute_input": "2023-05-10T09:02:11.170712Z",
     "iopub.status.busy": "2023-05-10T09:02:11.170298Z",
     "iopub.status.idle": "2023-05-10T09:02:40.057276Z",
     "shell.execute_reply": "2023-05-10T09:02:40.056489Z",
     "shell.execute_reply.started": "2023-05-10T09:02:11.170683Z"
    },
    "tags": []
   },
   "outputs": [],
   "source": [
    "with Parallel(n_jobs=8, verbose=10) as parallel:\n",
    "     results = parallel(delayed(preprocess_array)(val) for val in batches)"
   ]
  },
  {
   "cell_type": "markdown",
   "metadata": {},
   "source": [
    "Попробуем убрать лог"
   ]
  },
  {
   "cell_type": "code",
   "execution_count": null,
   "metadata": {
    "execution": {
     "iopub.execute_input": "2023-05-10T09:02:49.943482Z",
     "iopub.status.busy": "2023-05-10T09:02:49.943063Z",
     "iopub.status.idle": "2023-05-10T09:03:20.506336Z",
     "shell.execute_reply": "2023-05-10T09:03:20.505596Z",
     "shell.execute_reply.started": "2023-05-10T09:02:49.943455Z"
    },
    "tags": []
   },
   "outputs": [],
   "source": [
    "%%time\n",
    "\n",
    "with Parallel(n_jobs=8) as parallel:\n",
    "     results = parallel(delayed(preprocess_array)(val) for val in batches)"
   ]
  },
  {
   "cell_type": "markdown",
   "metadata": {},
   "source": [
    "Давайте оценим все сразу, вместе с подготовкой батчей"
   ]
  },
  {
   "cell_type": "code",
   "execution_count": null,
   "metadata": {
    "execution": {
     "iopub.execute_input": "2023-05-10T09:03:35.766575Z",
     "iopub.status.busy": "2023-05-10T09:03:35.766192Z",
     "iopub.status.idle": "2023-05-10T09:04:04.021143Z",
     "shell.execute_reply": "2023-05-10T09:04:04.020328Z",
     "shell.execute_reply.started": "2023-05-10T09:03:35.766550Z"
    },
    "tags": []
   },
   "outputs": [],
   "source": [
    "%%time\n",
    "\n",
    "batch_size = 30000\n",
    "batches = [x[i:i+batch_size] for i in range(0, len(x), batch_size)]\n",
    "\n",
    "res = []\n",
    "\n",
    "with Parallel(n_jobs=8) as parallel:\n",
    "     results = parallel(delayed(preprocess_array)(val) for val in batches)\n",
    "        \n",
    "for part in results:\n",
    "    res.extend(part)"
   ]
  },
  {
   "cell_type": "markdown",
   "metadata": {},
   "source": [
    "Плохой пример"
   ]
  },
  {
   "cell_type": "code",
   "execution_count": null,
   "metadata": {
    "execution": {
     "iopub.execute_input": "2023-05-10T09:04:15.995176Z",
     "iopub.status.busy": "2023-05-10T09:04:15.994744Z",
     "iopub.status.idle": "2023-05-10T09:04:15.999386Z",
     "shell.execute_reply": "2023-05-10T09:04:15.998704Z",
     "shell.execute_reply.started": "2023-05-10T09:04:15.995149Z"
    },
    "tags": []
   },
   "outputs": [],
   "source": [
    "def preprocess_one_bad(val):\n",
    "    return val ** 2\n",
    "\n",
    "def preprocess_array_bad(values):\n",
    "    return [preprocess_one_bad(val) for val in values]"
   ]
  },
  {
   "cell_type": "code",
   "execution_count": null,
   "metadata": {
    "execution": {
     "iopub.execute_input": "2023-05-10T09:04:16.848462Z",
     "iopub.status.busy": "2023-05-10T09:04:16.848078Z",
     "iopub.status.idle": "2023-05-10T09:05:07.099181Z",
     "shell.execute_reply": "2023-05-10T09:05:07.098430Z",
     "shell.execute_reply.started": "2023-05-10T09:04:16.848437Z"
    },
    "tags": []
   },
   "outputs": [],
   "source": [
    "%timeit preprocess_array_bad(x)"
   ]
  },
  {
   "cell_type": "code",
   "execution_count": null,
   "metadata": {
    "execution": {
     "iopub.execute_input": "2023-05-10T09:05:10.191000Z",
     "iopub.status.busy": "2023-05-10T09:05:10.190604Z",
     "iopub.status.idle": "2023-05-10T09:05:22.137503Z",
     "shell.execute_reply": "2023-05-10T09:05:22.136644Z",
     "shell.execute_reply.started": "2023-05-10T09:05:10.190976Z"
    },
    "tags": []
   },
   "outputs": [],
   "source": [
    "%%time\n",
    "\n",
    "batch_size = 30000\n",
    "batches = [x[i:i+batch_size] for i in range(0, len(x), batch_size)]\n",
    "\n",
    "res = []\n",
    "\n",
    "with Parallel(n_jobs=8) as parallel:\n",
    "     results = parallel(delayed(preprocess_array_bad)(val) for val in batches)\n",
    "        \n",
    "for part in results:\n",
    "    res.extend(part)"
   ]
  },
  {
   "cell_type": "markdown",
   "metadata": {},
   "source": [
    "Также можно использовать более низкоуровневые варианты через библиотеки multiprocessing, concurrent"
   ]
  },
  {
   "cell_type": "markdown",
   "metadata": {},
   "source": [
    "# Домашнее задание"
   ]
  },
  {
   "cell_type": "markdown",
   "metadata": {},
   "source": [
    "### Первая часть\n",
    "\n",
    "Задание будет простым: нужно реализовать функции для поэлементного сложения двух матриц:\n",
    "\n",
    "    1) На чистом python\n",
    "    2) python + @njit\n",
    "    3) numpy\n",
    "    4) numpy + @njit\n",
    "    5) @cuda.jit\n",
    "    \n",
    "Также необходимо замерить время выполнения\n",
    "\n",
    "### Вторая часть\n",
    "\n",
    "Попробуйте для параллельного расчета preprocess_array разные комбинации количетва ядер и размера батча. Постройте график зависмости времени расчета (в простом варианте можно несколько графиков при фиксации одного из параметров)."
   ]
  }
 ],
 "metadata": {
  "kernelspec": {
   "display_name": "Python 3",
   "language": "python",
   "name": "python3"
  },
  "language_info": {
   "codemirror_mode": {
    "name": "ipython",
    "version": 3
   },
   "file_extension": ".py",
   "mimetype": "text/x-python",
   "name": "python",
   "nbconvert_exporter": "python",
   "pygments_lexer": "ipython3",
   "version": "3.8.8"
  }
 },
 "nbformat": 4,
 "nbformat_minor": 4
}
