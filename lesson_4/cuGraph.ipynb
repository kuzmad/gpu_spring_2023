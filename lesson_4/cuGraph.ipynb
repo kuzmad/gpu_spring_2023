{
 "cells": [
  {
   "cell_type": "code",
   "execution_count": null,
   "metadata": {
    "execution": {
     "iopub.execute_input": "2023-05-12T06:36:49.054756Z",
     "iopub.status.busy": "2023-05-12T06:36:49.054271Z",
     "iopub.status.idle": "2023-05-12T06:36:51.011433Z",
     "shell.execute_reply": "2023-05-12T06:36:51.010525Z",
     "shell.execute_reply.started": "2023-05-12T06:36:49.054673Z"
    },
    "tags": []
   },
   "outputs": [],
   "source": [
    "import cudf\n",
    "import cugraph as cg\n",
    "\n",
    "import networkx as nx\n",
    "import pandas as pd\n",
    "import matplotlib.pyplot as plt\n",
    "%matplotlib inline"
   ]
  },
  {
   "cell_type": "markdown",
   "metadata": {},
   "source": [
    "## Networkx"
   ]
  },
  {
   "cell_type": "markdown",
   "metadata": {},
   "source": [
    "Создадим простой граф при помощи networkx"
   ]
  },
  {
   "cell_type": "code",
   "execution_count": null,
   "metadata": {
    "execution": {
     "iopub.execute_input": "2023-05-12T06:36:54.934649Z",
     "iopub.status.busy": "2023-05-12T06:36:54.933876Z",
     "iopub.status.idle": "2023-05-12T06:36:54.939090Z",
     "shell.execute_reply": "2023-05-12T06:36:54.938172Z",
     "shell.execute_reply.started": "2023-05-12T06:36:54.934621Z"
    },
    "tags": []
   },
   "outputs": [],
   "source": [
    "G = nx.Graph()"
   ]
  },
  {
   "cell_type": "markdown",
   "metadata": {},
   "source": [
    "добавим 1 ноду к графу"
   ]
  },
  {
   "cell_type": "code",
   "execution_count": null,
   "metadata": {
    "execution": {
     "iopub.execute_input": "2023-05-12T06:36:56.513028Z",
     "iopub.status.busy": "2023-05-12T06:36:56.512570Z",
     "iopub.status.idle": "2023-05-12T06:36:56.516657Z",
     "shell.execute_reply": "2023-05-12T06:36:56.515968Z",
     "shell.execute_reply.started": "2023-05-12T06:36:56.513001Z"
    },
    "tags": []
   },
   "outputs": [],
   "source": [
    "G.add_node(1)"
   ]
  },
  {
   "cell_type": "code",
   "execution_count": null,
   "metadata": {
    "execution": {
     "iopub.execute_input": "2023-05-12T06:36:57.122301Z",
     "iopub.status.busy": "2023-05-12T06:36:57.121873Z",
     "iopub.status.idle": "2023-05-12T06:36:57.128722Z",
     "shell.execute_reply": "2023-05-12T06:36:57.128064Z",
     "shell.execute_reply.started": "2023-05-12T06:36:57.122278Z"
    },
    "tags": []
   },
   "outputs": [],
   "source": [
    "G.nodes"
   ]
  },
  {
   "cell_type": "markdown",
   "metadata": {},
   "source": [
    "Можно также добавить несколько нод сразу"
   ]
  },
  {
   "cell_type": "code",
   "execution_count": null,
   "metadata": {
    "execution": {
     "iopub.execute_input": "2023-05-12T06:36:58.801565Z",
     "iopub.status.busy": "2023-05-12T06:36:58.801170Z",
     "iopub.status.idle": "2023-05-12T06:36:58.806239Z",
     "shell.execute_reply": "2023-05-12T06:36:58.805576Z",
     "shell.execute_reply.started": "2023-05-12T06:36:58.801544Z"
    },
    "tags": []
   },
   "outputs": [],
   "source": [
    "G.add_nodes_from([2, 3])\n",
    "G.nodes"
   ]
  },
  {
   "cell_type": "markdown",
   "metadata": {},
   "source": [
    "Добавим также связи между узлами"
   ]
  },
  {
   "cell_type": "code",
   "execution_count": null,
   "metadata": {
    "execution": {
     "iopub.execute_input": "2023-05-12T06:37:00.674329Z",
     "iopub.status.busy": "2023-05-12T06:37:00.673812Z",
     "iopub.status.idle": "2023-05-12T06:37:00.678939Z",
     "shell.execute_reply": "2023-05-12T06:37:00.677960Z",
     "shell.execute_reply.started": "2023-05-12T06:37:00.674287Z"
    },
    "tags": []
   },
   "outputs": [],
   "source": [
    "G.add_edges_from([(1, 2), (1, 3)])"
   ]
  },
  {
   "cell_type": "code",
   "execution_count": null,
   "metadata": {
    "execution": {
     "iopub.execute_input": "2023-05-12T06:37:01.447369Z",
     "iopub.status.busy": "2023-05-12T06:37:01.446926Z",
     "iopub.status.idle": "2023-05-12T06:37:01.452169Z",
     "shell.execute_reply": "2023-05-12T06:37:01.451513Z",
     "shell.execute_reply.started": "2023-05-12T06:37:01.447344Z"
    },
    "tags": []
   },
   "outputs": [],
   "source": [
    "G.edges"
   ]
  },
  {
   "cell_type": "markdown",
   "metadata": {},
   "source": [
    "## cuGraph"
   ]
  },
  {
   "cell_type": "markdown",
   "metadata": {},
   "source": [
    "Давайте повторим это все в cugraph"
   ]
  },
  {
   "cell_type": "markdown",
   "metadata": {},
   "source": [
    "cg.Graph() - ненаправленный граф, cg.DiGraph() - направленный граф"
   ]
  },
  {
   "cell_type": "code",
   "execution_count": null,
   "metadata": {
    "execution": {
     "iopub.execute_input": "2023-05-12T06:37:15.262630Z",
     "iopub.status.busy": "2023-05-12T06:37:15.262184Z",
     "iopub.status.idle": "2023-05-12T06:37:15.266633Z",
     "shell.execute_reply": "2023-05-12T06:37:15.265672Z",
     "shell.execute_reply.started": "2023-05-12T06:37:15.262604Z"
    },
    "tags": []
   },
   "outputs": [],
   "source": [
    "G_gpu = cg.Graph()"
   ]
  },
  {
   "cell_type": "markdown",
   "metadata": {},
   "source": [
    "add_node к сожалению нет, но есть add_nodes_from"
   ]
  },
  {
   "cell_type": "code",
   "execution_count": null,
   "metadata": {
    "execution": {
     "iopub.execute_input": "2023-05-12T06:37:18.471813Z",
     "iopub.status.busy": "2023-05-12T06:37:18.471359Z",
     "iopub.status.idle": "2023-05-12T06:37:20.700884Z",
     "shell.execute_reply": "2023-05-12T06:37:20.699995Z",
     "shell.execute_reply.started": "2023-05-12T06:37:18.471787Z"
    },
    "tags": []
   },
   "outputs": [],
   "source": [
    "G_gpu.add_nodes_from([1])\n",
    "G_gpu.nodes()"
   ]
  },
  {
   "cell_type": "markdown",
   "metadata": {
    "execution": {
     "iopub.execute_input": "2023-05-12T06:38:31.515354Z",
     "iopub.status.busy": "2023-05-12T06:38:31.514769Z",
     "iopub.status.idle": "2023-05-12T06:38:31.520269Z",
     "shell.execute_reply": "2023-05-12T06:38:31.519462Z",
     "shell.execute_reply.started": "2023-05-12T06:38:31.515321Z"
    },
    "tags": []
   },
   "source": [
    "В этой версии какой-то баг и таким способом добавить ноды к графу нельзя, нужно через dataframe"
   ]
  },
  {
   "cell_type": "code",
   "execution_count": null,
   "metadata": {
    "execution": {
     "iopub.execute_input": "2023-05-12T06:42:09.645319Z",
     "iopub.status.busy": "2023-05-12T06:42:09.644884Z",
     "iopub.status.idle": "2023-05-12T06:42:09.661057Z",
     "shell.execute_reply": "2023-05-12T06:42:09.660419Z",
     "shell.execute_reply.started": "2023-05-12T06:42:09.645292Z"
    },
    "tags": []
   },
   "outputs": [],
   "source": [
    "edge_list = cudf.DataFrame({\n",
    "    'source': [1, 2],\n",
    "    'destination': [2, 3]\n",
    "})\n",
    "\n",
    "G_gpu = cg.Graph()\n",
    "G_gpu.from_cudf_edgelist(edge_list, source='source', destination='destination')"
   ]
  },
  {
   "cell_type": "code",
   "execution_count": null,
   "metadata": {
    "execution": {
     "iopub.execute_input": "2023-05-12T06:42:10.332317Z",
     "iopub.status.busy": "2023-05-12T06:42:10.331843Z",
     "iopub.status.idle": "2023-05-12T06:42:10.339281Z",
     "shell.execute_reply": "2023-05-12T06:42:10.338687Z",
     "shell.execute_reply.started": "2023-05-12T06:42:10.332290Z"
    },
    "tags": []
   },
   "outputs": [],
   "source": [
    "G_gpu.nodes()"
   ]
  },
  {
   "cell_type": "markdown",
   "metadata": {},
   "source": [
    "Нюанс, ноды перезаписываются, так как считается, что мы передаем все необходимые ноды"
   ]
  },
  {
   "cell_type": "markdown",
   "metadata": {},
   "source": [
    "Чтобы добавить что-то новое придется заново инициализировать граф"
   ]
  },
  {
   "cell_type": "markdown",
   "metadata": {},
   "source": [
    "Можно через pandas, numpy, cudf, dask-cudf"
   ]
  },
  {
   "cell_type": "code",
   "execution_count": null,
   "metadata": {
    "execution": {
     "iopub.execute_input": "2023-05-12T06:43:21.212009Z",
     "iopub.status.busy": "2023-05-12T06:43:21.211550Z",
     "iopub.status.idle": "2023-05-12T06:43:21.216667Z",
     "shell.execute_reply": "2023-05-12T06:43:21.216019Z",
     "shell.execute_reply.started": "2023-05-12T06:43:21.211980Z"
    },
    "tags": []
   },
   "outputs": [],
   "source": [
    "edge_list = cudf.DataFrame({\n",
    "    'source': [1, 1],\n",
    "    'destination': [2, 3]\n",
    "})"
   ]
  },
  {
   "cell_type": "code",
   "execution_count": null,
   "metadata": {
    "execution": {
     "iopub.execute_input": "2023-05-12T06:43:22.432636Z",
     "iopub.status.busy": "2023-05-12T06:43:22.432225Z",
     "iopub.status.idle": "2023-05-12T06:43:22.446092Z",
     "shell.execute_reply": "2023-05-12T06:43:22.445473Z",
     "shell.execute_reply.started": "2023-05-12T06:43:22.432611Z"
    },
    "tags": []
   },
   "outputs": [],
   "source": [
    "G_gpu = cg.Graph()\n",
    "G_gpu.from_cudf_edgelist(edge_list, source='source', destination='destination')"
   ]
  },
  {
   "cell_type": "code",
   "execution_count": null,
   "metadata": {
    "execution": {
     "iopub.execute_input": "2023-05-12T06:43:22.966518Z",
     "iopub.status.busy": "2023-05-12T06:43:22.966089Z",
     "iopub.status.idle": "2023-05-12T06:43:22.973055Z",
     "shell.execute_reply": "2023-05-12T06:43:22.972470Z",
     "shell.execute_reply.started": "2023-05-12T06:43:22.966491Z"
    },
    "tags": []
   },
   "outputs": [],
   "source": [
    "G_gpu.nodes()"
   ]
  },
  {
   "cell_type": "code",
   "execution_count": null,
   "metadata": {
    "execution": {
     "iopub.execute_input": "2023-05-12T06:43:24.145374Z",
     "iopub.status.busy": "2023-05-12T06:43:24.144932Z",
     "iopub.status.idle": "2023-05-12T06:43:24.458074Z",
     "shell.execute_reply": "2023-05-12T06:43:24.457371Z",
     "shell.execute_reply.started": "2023-05-12T06:43:24.145346Z"
    },
    "tags": []
   },
   "outputs": [],
   "source": [
    "G_gpu.edges()"
   ]
  },
  {
   "cell_type": "markdown",
   "metadata": {},
   "source": [
    "Например, если захотим добавить что-то новое, то можно сделать так:"
   ]
  },
  {
   "cell_type": "code",
   "execution_count": null,
   "metadata": {
    "execution": {
     "iopub.execute_input": "2023-05-12T06:43:33.719823Z",
     "iopub.status.busy": "2023-05-12T06:43:33.719372Z",
     "iopub.status.idle": "2023-05-12T06:43:33.725851Z",
     "shell.execute_reply": "2023-05-12T06:43:33.725166Z",
     "shell.execute_reply.started": "2023-05-12T06:43:33.719795Z"
    },
    "tags": []
   },
   "outputs": [],
   "source": [
    "appended_values = cudf.DataFrame({\n",
    "    'source': [2],\n",
    "    'destination': [3]\n",
    "})\n",
    "edge_list = edge_list.append(appended_values, ignore_index=True)"
   ]
  },
  {
   "cell_type": "code",
   "execution_count": null,
   "metadata": {
    "execution": {
     "iopub.execute_input": "2023-05-12T06:43:37.775426Z",
     "iopub.status.busy": "2023-05-12T06:43:37.774976Z",
     "iopub.status.idle": "2023-05-12T06:43:37.788706Z",
     "shell.execute_reply": "2023-05-12T06:43:37.787908Z",
     "shell.execute_reply.started": "2023-05-12T06:43:37.775400Z"
    },
    "tags": []
   },
   "outputs": [],
   "source": [
    "edge_list"
   ]
  },
  {
   "cell_type": "code",
   "execution_count": null,
   "metadata": {
    "execution": {
     "iopub.execute_input": "2023-05-12T06:43:40.616176Z",
     "iopub.status.busy": "2023-05-12T06:43:40.615704Z",
     "iopub.status.idle": "2023-05-12T06:43:40.645283Z",
     "shell.execute_reply": "2023-05-12T06:43:40.644377Z",
     "shell.execute_reply.started": "2023-05-12T06:43:40.616147Z"
    },
    "tags": []
   },
   "outputs": [],
   "source": [
    "G_gpu = cg.Graph()\n",
    "G_gpu.from_cudf_edgelist(edge_list, source='source', destination='destination')\n",
    "G_gpu.edges()"
   ]
  },
  {
   "cell_type": "markdown",
   "metadata": {},
   "source": [
    "## Давайте загрузим известный датасет карате клуб и попробуем поанализировать его в разных фреймворках"
   ]
  },
  {
   "cell_type": "markdown",
   "metadata": {},
   "source": [
    "## Networkx"
   ]
  },
  {
   "cell_type": "markdown",
   "metadata": {},
   "source": [
    "https://raw.githubusercontent.com/rapidsai/notebooks/branch-0.8/cugraph/data/karate-data.csv"
   ]
  },
  {
   "cell_type": "code",
   "execution_count": null,
   "metadata": {
    "execution": {
     "iopub.execute_input": "2023-05-12T06:44:29.080073Z",
     "iopub.status.busy": "2023-05-12T06:44:29.079603Z",
     "iopub.status.idle": "2023-05-12T06:44:29.086591Z",
     "shell.execute_reply": "2023-05-12T06:44:29.085892Z",
     "shell.execute_reply.started": "2023-05-12T06:44:29.080045Z"
    },
    "tags": []
   },
   "outputs": [],
   "source": [
    "edges = pd.read_csv('karate-data.csv', sep='\\t', names=['source', 'destination'])"
   ]
  },
  {
   "cell_type": "code",
   "execution_count": null,
   "metadata": {
    "execution": {
     "iopub.execute_input": "2023-05-12T06:44:29.743512Z",
     "iopub.status.busy": "2023-05-12T06:44:29.743060Z",
     "iopub.status.idle": "2023-05-12T06:44:29.752301Z",
     "shell.execute_reply": "2023-05-12T06:44:29.751627Z",
     "shell.execute_reply.started": "2023-05-12T06:44:29.743485Z"
    },
    "tags": []
   },
   "outputs": [],
   "source": [
    "edges"
   ]
  },
  {
   "cell_type": "code",
   "execution_count": null,
   "metadata": {
    "execution": {
     "iopub.execute_input": "2023-05-12T06:44:32.172960Z",
     "iopub.status.busy": "2023-05-12T06:44:32.172511Z",
     "iopub.status.idle": "2023-05-12T06:44:32.178160Z",
     "shell.execute_reply": "2023-05-12T06:44:32.177241Z",
     "shell.execute_reply.started": "2023-05-12T06:44:32.172935Z"
    },
    "tags": []
   },
   "outputs": [],
   "source": [
    "G = nx.Graph()\n",
    "G = nx.from_pandas_edgelist(edges, source='source', target='destination')"
   ]
  },
  {
   "cell_type": "code",
   "execution_count": null,
   "metadata": {
    "execution": {
     "iopub.execute_input": "2023-05-12T06:44:34.589248Z",
     "iopub.status.busy": "2023-05-12T06:44:34.588796Z",
     "iopub.status.idle": "2023-05-12T06:44:34.795918Z",
     "shell.execute_reply": "2023-05-12T06:44:34.795253Z",
     "shell.execute_reply.started": "2023-05-12T06:44:34.589220Z"
    },
    "tags": []
   },
   "outputs": [],
   "source": [
    "nx.draw(G, with_labels=True)"
   ]
  },
  {
   "cell_type": "markdown",
   "metadata": {},
   "source": [
    "Давайте поисследуем сам граф"
   ]
  },
  {
   "cell_type": "markdown",
   "metadata": {},
   "source": [
    "Средняя степень узлов сети и общие характеритики"
   ]
  },
  {
   "cell_type": "code",
   "execution_count": null,
   "metadata": {
    "execution": {
     "iopub.execute_input": "2023-05-12T06:44:37.725564Z",
     "iopub.status.busy": "2023-05-12T06:44:37.725005Z",
     "iopub.status.idle": "2023-05-12T06:44:37.730142Z",
     "shell.execute_reply": "2023-05-12T06:44:37.729322Z",
     "shell.execute_reply.started": "2023-05-12T06:44:37.725525Z"
    },
    "tags": []
   },
   "outputs": [],
   "source": [
    "def mean_nodes_degree(g):\n",
    "    return 2 * len(g.edges) / len(g.nodes)"
   ]
  },
  {
   "cell_type": "code",
   "execution_count": null,
   "metadata": {
    "execution": {
     "iopub.execute_input": "2023-05-12T06:44:38.419352Z",
     "iopub.status.busy": "2023-05-12T06:44:38.418915Z",
     "iopub.status.idle": "2023-05-12T06:44:38.423309Z",
     "shell.execute_reply": "2023-05-12T06:44:38.422580Z",
     "shell.execute_reply.started": "2023-05-12T06:44:38.419326Z"
    },
    "tags": []
   },
   "outputs": [],
   "source": [
    "def get_statistics(g):\n",
    "    print(f'Number of nodes = {len(g.nodes)}')\n",
    "    print(f'Number of edges = {len(g.edges)}')"
   ]
  },
  {
   "cell_type": "code",
   "execution_count": null,
   "metadata": {
    "execution": {
     "iopub.execute_input": "2023-05-12T06:44:38.979965Z",
     "iopub.status.busy": "2023-05-12T06:44:38.979523Z",
     "iopub.status.idle": "2023-05-12T06:44:38.983848Z",
     "shell.execute_reply": "2023-05-12T06:44:38.983177Z",
     "shell.execute_reply.started": "2023-05-12T06:44:38.979939Z"
    },
    "tags": []
   },
   "outputs": [],
   "source": [
    "get_statistics(G)"
   ]
  },
  {
   "cell_type": "code",
   "execution_count": null,
   "metadata": {
    "execution": {
     "iopub.execute_input": "2023-05-12T06:44:41.888007Z",
     "iopub.status.busy": "2023-05-12T06:44:41.887380Z",
     "iopub.status.idle": "2023-05-12T06:44:41.893291Z",
     "shell.execute_reply": "2023-05-12T06:44:41.892612Z",
     "shell.execute_reply.started": "2023-05-12T06:44:41.887968Z"
    },
    "tags": []
   },
   "outputs": [],
   "source": [
    "mean_nodes_degree(G)"
   ]
  },
  {
   "cell_type": "code",
   "execution_count": null,
   "metadata": {
    "execution": {
     "iopub.execute_input": "2023-05-12T06:44:43.727708Z",
     "iopub.status.busy": "2023-05-12T06:44:43.727246Z",
     "iopub.status.idle": "2023-05-12T06:44:43.732267Z",
     "shell.execute_reply": "2023-05-12T06:44:43.731697Z",
     "shell.execute_reply.started": "2023-05-12T06:44:43.727681Z"
    },
    "tags": []
   },
   "outputs": [],
   "source": [
    "G.degree"
   ]
  },
  {
   "cell_type": "markdown",
   "metadata": {},
   "source": [
    "Каждый узел важен для сети по разному и для определения важности есть меры центральности. Мы рассмотрим центральность по степени и центральность по посредничеству"
   ]
  },
  {
   "cell_type": "code",
   "execution_count": null,
   "metadata": {
    "execution": {
     "iopub.execute_input": "2023-05-12T06:44:46.540387Z",
     "iopub.status.busy": "2023-05-12T06:44:46.539725Z",
     "iopub.status.idle": "2023-05-12T06:44:46.544283Z",
     "shell.execute_reply": "2023-05-12T06:44:46.543671Z",
     "shell.execute_reply.started": "2023-05-12T06:44:46.540360Z"
    },
    "tags": []
   },
   "outputs": [],
   "source": [
    "def get_centrality_by_degree(g):\n",
    "    centrality = nx.algorithms.centrality.degree_centrality(g)\n",
    "    return sorted(list(centrality.items()), key=lambda x: x[1], reverse=True)"
   ]
  },
  {
   "cell_type": "code",
   "execution_count": null,
   "metadata": {
    "execution": {
     "iopub.execute_input": "2023-05-12T06:44:49.067422Z",
     "iopub.status.busy": "2023-05-12T06:44:49.066758Z",
     "iopub.status.idle": "2023-05-12T06:44:49.072787Z",
     "shell.execute_reply": "2023-05-12T06:44:49.072210Z",
     "shell.execute_reply.started": "2023-05-12T06:44:49.067395Z"
    },
    "tags": []
   },
   "outputs": [],
   "source": [
    "get_centrality_by_degree(G)"
   ]
  },
  {
   "cell_type": "code",
   "execution_count": null,
   "metadata": {
    "execution": {
     "iopub.execute_input": "2023-05-12T06:44:51.337079Z",
     "iopub.status.busy": "2023-05-12T06:44:51.336636Z",
     "iopub.status.idle": "2023-05-12T06:44:51.341064Z",
     "shell.execute_reply": "2023-05-12T06:44:51.340455Z",
     "shell.execute_reply.started": "2023-05-12T06:44:51.337052Z"
    },
    "tags": []
   },
   "outputs": [],
   "source": [
    "def get_centrality_by_betweenness(g):\n",
    "    centrality = nx.algorithms.centrality.betweenness_centrality(g)\n",
    "    return sorted(list(centrality.items()), key=lambda x: x[1], reverse=True)"
   ]
  },
  {
   "cell_type": "code",
   "execution_count": null,
   "metadata": {
    "execution": {
     "iopub.execute_input": "2023-05-12T06:44:51.969950Z",
     "iopub.status.busy": "2023-05-12T06:44:51.969503Z",
     "iopub.status.idle": "2023-05-12T06:44:51.978255Z",
     "shell.execute_reply": "2023-05-12T06:44:51.977683Z",
     "shell.execute_reply.started": "2023-05-12T06:44:51.969922Z"
    },
    "tags": []
   },
   "outputs": [],
   "source": [
    "get_centrality_by_betweenness(G)"
   ]
  },
  {
   "cell_type": "markdown",
   "metadata": {},
   "source": [
    "PageRank"
   ]
  },
  {
   "cell_type": "code",
   "execution_count": null,
   "metadata": {
    "execution": {
     "iopub.execute_input": "2023-05-12T06:44:54.554247Z",
     "iopub.status.busy": "2023-05-12T06:44:54.553803Z",
     "iopub.status.idle": "2023-05-12T06:44:54.563558Z",
     "shell.execute_reply": "2023-05-12T06:44:54.562971Z",
     "shell.execute_reply.started": "2023-05-12T06:44:54.554221Z"
    },
    "tags": []
   },
   "outputs": [],
   "source": [
    "nx.pagerank(G,alpha=0.9)"
   ]
  },
  {
   "cell_type": "markdown",
   "metadata": {},
   "source": [
    "Пора сделать аналогичное в cuGraph"
   ]
  },
  {
   "cell_type": "markdown",
   "metadata": {},
   "source": [
    "## CuGraph"
   ]
  },
  {
   "cell_type": "code",
   "execution_count": null,
   "metadata": {
    "execution": {
     "iopub.execute_input": "2023-05-12T06:45:05.407324Z",
     "iopub.status.busy": "2023-05-12T06:45:05.406914Z",
     "iopub.status.idle": "2023-05-12T06:45:05.414808Z",
     "shell.execute_reply": "2023-05-12T06:45:05.414182Z",
     "shell.execute_reply.started": "2023-05-12T06:45:05.407301Z"
    },
    "tags": []
   },
   "outputs": [],
   "source": [
    "edges_gpu = cudf.read_csv('karate-data.csv', sep='\\t', names=['source', 'destination'])"
   ]
  },
  {
   "cell_type": "code",
   "execution_count": null,
   "metadata": {
    "execution": {
     "iopub.execute_input": "2023-05-12T06:45:06.729454Z",
     "iopub.status.busy": "2023-05-12T06:45:06.728999Z",
     "iopub.status.idle": "2023-05-12T06:45:06.771284Z",
     "shell.execute_reply": "2023-05-12T06:45:06.770519Z",
     "shell.execute_reply.started": "2023-05-12T06:45:06.729426Z"
    },
    "tags": []
   },
   "outputs": [],
   "source": [
    "edges_gpu"
   ]
  },
  {
   "cell_type": "code",
   "execution_count": null,
   "metadata": {
    "execution": {
     "iopub.execute_input": "2023-05-12T06:45:10.970006Z",
     "iopub.status.busy": "2023-05-12T06:45:10.969541Z",
     "iopub.status.idle": "2023-05-12T06:45:10.984486Z",
     "shell.execute_reply": "2023-05-12T06:45:10.983829Z",
     "shell.execute_reply.started": "2023-05-12T06:45:10.969979Z"
    },
    "tags": []
   },
   "outputs": [],
   "source": [
    "G_gpu = cg.Graph()\n",
    "G_gpu.from_cudf_edgelist(edges_gpu, source='source', destination='destination')"
   ]
  },
  {
   "cell_type": "markdown",
   "metadata": {},
   "source": [
    "Посчитаем статистики, как и в networkx"
   ]
  },
  {
   "cell_type": "code",
   "execution_count": null,
   "metadata": {
    "execution": {
     "iopub.execute_input": "2023-05-12T06:45:12.408218Z",
     "iopub.status.busy": "2023-05-12T06:45:12.407758Z",
     "iopub.status.idle": "2023-05-12T06:45:12.411840Z",
     "shell.execute_reply": "2023-05-12T06:45:12.411212Z",
     "shell.execute_reply.started": "2023-05-12T06:45:12.408192Z"
    },
    "tags": []
   },
   "outputs": [],
   "source": [
    "def mean_nodes_degree(g):\n",
    "    return 2 * len(g.edges()) / len(g.nodes())"
   ]
  },
  {
   "cell_type": "code",
   "execution_count": null,
   "metadata": {
    "execution": {
     "iopub.execute_input": "2023-05-12T06:45:13.226622Z",
     "iopub.status.busy": "2023-05-12T06:45:13.226183Z",
     "iopub.status.idle": "2023-05-12T06:45:13.230304Z",
     "shell.execute_reply": "2023-05-12T06:45:13.229676Z",
     "shell.execute_reply.started": "2023-05-12T06:45:13.226595Z"
    },
    "tags": []
   },
   "outputs": [],
   "source": [
    "def get_statistics(g):\n",
    "    print(f'Number of nodes = {len(g.nodes())}')\n",
    "    print(f'Number of edges = {len(g.edges())}')"
   ]
  },
  {
   "cell_type": "code",
   "execution_count": null,
   "metadata": {
    "execution": {
     "iopub.execute_input": "2023-05-12T06:45:14.070589Z",
     "iopub.status.busy": "2023-05-12T06:45:14.070128Z",
     "iopub.status.idle": "2023-05-12T06:45:14.080182Z",
     "shell.execute_reply": "2023-05-12T06:45:14.079569Z",
     "shell.execute_reply.started": "2023-05-12T06:45:14.070563Z"
    },
    "tags": []
   },
   "outputs": [],
   "source": [
    "get_statistics(G_gpu)"
   ]
  },
  {
   "cell_type": "code",
   "execution_count": null,
   "metadata": {
    "execution": {
     "iopub.execute_input": "2023-05-12T06:45:16.709950Z",
     "iopub.status.busy": "2023-05-12T06:45:16.709500Z",
     "iopub.status.idle": "2023-05-12T06:45:16.720218Z",
     "shell.execute_reply": "2023-05-12T06:45:16.719639Z",
     "shell.execute_reply.started": "2023-05-12T06:45:16.709924Z"
    },
    "tags": []
   },
   "outputs": [],
   "source": [
    "mean_nodes_degree(G_gpu)"
   ]
  },
  {
   "cell_type": "markdown",
   "metadata": {},
   "source": [
    "Надо быть внимательным, так как cugraph считает, что связь между нодами дает не 1 степень, а 2 (in и out)"
   ]
  },
  {
   "cell_type": "code",
   "execution_count": null,
   "metadata": {
    "execution": {
     "iopub.execute_input": "2023-05-12T06:45:23.788699Z",
     "iopub.status.busy": "2023-05-12T06:45:23.788266Z",
     "iopub.status.idle": "2023-05-12T06:45:23.805562Z",
     "shell.execute_reply": "2023-05-12T06:45:23.804994Z",
     "shell.execute_reply.started": "2023-05-12T06:45:23.788673Z"
    },
    "tags": []
   },
   "outputs": [],
   "source": [
    "G_gpu.degree()"
   ]
  },
  {
   "cell_type": "markdown",
   "metadata": {},
   "source": [
    "Меры центральности"
   ]
  },
  {
   "cell_type": "markdown",
   "metadata": {},
   "source": [
    "Центральность по степени не запрогали за нас, сделаем сами=)"
   ]
  },
  {
   "cell_type": "code",
   "execution_count": null,
   "metadata": {
    "execution": {
     "iopub.execute_input": "2023-05-12T06:45:27.053055Z",
     "iopub.status.busy": "2023-05-12T06:45:27.052615Z",
     "iopub.status.idle": "2023-05-12T06:45:27.057161Z",
     "shell.execute_reply": "2023-05-12T06:45:27.056554Z",
     "shell.execute_reply.started": "2023-05-12T06:45:27.053028Z"
    },
    "tags": []
   },
   "outputs": [],
   "source": [
    "def get_centrality_by_degree(g):\n",
    "    centrality = g.degree()\n",
    "    centrality['degree_centrality'] = centrality['degree'] / (len(g.nodes())-1) / 2\n",
    "    centrality = centrality.sort_values(by='degree_centrality', ascending=False)\n",
    "    return centrality"
   ]
  },
  {
   "cell_type": "code",
   "execution_count": null,
   "metadata": {
    "execution": {
     "iopub.execute_input": "2023-05-12T06:45:29.970608Z",
     "iopub.status.busy": "2023-05-12T06:45:29.970150Z",
     "iopub.status.idle": "2023-05-12T06:45:29.993241Z",
     "shell.execute_reply": "2023-05-12T06:45:29.992627Z",
     "shell.execute_reply.started": "2023-05-12T06:45:29.970581Z"
    },
    "tags": []
   },
   "outputs": [],
   "source": [
    "get_centrality_by_degree(G_gpu)"
   ]
  },
  {
   "cell_type": "code",
   "execution_count": null,
   "metadata": {
    "execution": {
     "iopub.execute_input": "2023-05-12T06:45:32.722873Z",
     "iopub.status.busy": "2023-05-12T06:45:32.722434Z",
     "iopub.status.idle": "2023-05-12T06:45:32.726658Z",
     "shell.execute_reply": "2023-05-12T06:45:32.725997Z",
     "shell.execute_reply.started": "2023-05-12T06:45:32.722838Z"
    },
    "tags": []
   },
   "outputs": [],
   "source": [
    "def get_centrality_by_betweenness(g):\n",
    "    centrality = cg.centrality.betweenness_centrality(g)\n",
    "    centrality = centrality.sort_values(by='betweenness_centrality', ascending=False)\n",
    "    return centrality"
   ]
  },
  {
   "cell_type": "code",
   "execution_count": null,
   "metadata": {
    "execution": {
     "iopub.execute_input": "2023-05-12T06:45:33.627094Z",
     "iopub.status.busy": "2023-05-12T06:45:33.626582Z",
     "iopub.status.idle": "2023-05-12T06:45:33.876625Z",
     "shell.execute_reply": "2023-05-12T06:45:33.876074Z",
     "shell.execute_reply.started": "2023-05-12T06:45:33.627063Z"
    },
    "tags": []
   },
   "outputs": [],
   "source": [
    "get_centrality_by_betweenness(G_gpu)"
   ]
  },
  {
   "cell_type": "markdown",
   "metadata": {},
   "source": [
    "PageRank"
   ]
  },
  {
   "cell_type": "code",
   "execution_count": null,
   "metadata": {
    "execution": {
     "iopub.execute_input": "2023-05-12T06:46:22.947083Z",
     "iopub.status.busy": "2023-05-12T06:46:22.946671Z",
     "iopub.status.idle": "2023-05-12T06:46:22.971352Z",
     "shell.execute_reply": "2023-05-12T06:46:22.970640Z",
     "shell.execute_reply.started": "2023-05-12T06:46:22.947058Z"
    },
    "tags": []
   },
   "outputs": [],
   "source": [
    "cg.link_analysis.pagerank(G_gpu)"
   ]
  },
  {
   "cell_type": "markdown",
   "metadata": {},
   "source": [
    "Много чего нет в cuGraph, но есть и преимущества)\n",
    "Например, в Networkx не реализованы алгоритмы кластеризации (их мало), а многие из существующих есть в cuGraph"
   ]
  },
  {
   "cell_type": "markdown",
   "metadata": {},
   "source": [
    "Метод louvain на основе меры модулярности"
   ]
  },
  {
   "cell_type": "code",
   "execution_count": null,
   "metadata": {
    "execution": {
     "iopub.execute_input": "2023-05-12T06:46:33.470310Z",
     "iopub.status.busy": "2023-05-12T06:46:33.469872Z",
     "iopub.status.idle": "2023-05-12T06:46:33.474187Z",
     "shell.execute_reply": "2023-05-12T06:46:33.473480Z",
     "shell.execute_reply.started": "2023-05-12T06:46:33.470285Z"
    },
    "tags": []
   },
   "outputs": [],
   "source": [
    "def louvain_clusters(g):\n",
    "    result = cg.community.louvain(g)\n",
    "    modularity = result[1]\n",
    "    clusters = result[0]\n",
    "    return modularity, clusters"
   ]
  },
  {
   "cell_type": "code",
   "execution_count": null,
   "metadata": {
    "execution": {
     "iopub.execute_input": "2023-05-12T06:46:34.541441Z",
     "iopub.status.busy": "2023-05-12T06:46:34.541000Z",
     "iopub.status.idle": "2023-05-12T06:46:34.554865Z",
     "shell.execute_reply": "2023-05-12T06:46:34.554098Z",
     "shell.execute_reply.started": "2023-05-12T06:46:34.541413Z"
    },
    "tags": []
   },
   "outputs": [],
   "source": [
    "modularity, clusters = louvain_clusters(G_gpu)"
   ]
  },
  {
   "cell_type": "code",
   "execution_count": null,
   "metadata": {
    "execution": {
     "iopub.execute_input": "2023-05-12T06:46:35.495581Z",
     "iopub.status.busy": "2023-05-12T06:46:35.495144Z",
     "iopub.status.idle": "2023-05-12T06:46:35.500071Z",
     "shell.execute_reply": "2023-05-12T06:46:35.499485Z",
     "shell.execute_reply.started": "2023-05-12T06:46:35.495555Z"
    },
    "tags": []
   },
   "outputs": [],
   "source": [
    "modularity"
   ]
  },
  {
   "cell_type": "code",
   "execution_count": null,
   "metadata": {
    "execution": {
     "iopub.execute_input": "2023-05-12T06:46:36.856198Z",
     "iopub.status.busy": "2023-05-12T06:46:36.855621Z",
     "iopub.status.idle": "2023-05-12T06:46:36.864541Z",
     "shell.execute_reply": "2023-05-12T06:46:36.863792Z",
     "shell.execute_reply.started": "2023-05-12T06:46:36.856158Z"
    },
    "tags": []
   },
   "outputs": [],
   "source": [
    "clusters = clusters.to_pandas()\n",
    "clusters = clusters.sort_values(by='vertex')"
   ]
  },
  {
   "cell_type": "code",
   "execution_count": null,
   "metadata": {
    "execution": {
     "iopub.execute_input": "2023-05-12T06:46:37.833072Z",
     "iopub.status.busy": "2023-05-12T06:46:37.832569Z",
     "iopub.status.idle": "2023-05-12T06:46:37.839702Z",
     "shell.execute_reply": "2023-05-12T06:46:37.839047Z",
     "shell.execute_reply.started": "2023-05-12T06:46:37.833042Z"
    },
    "tags": []
   },
   "outputs": [],
   "source": [
    "clusters = pd.DataFrame(G.nodes).merge(clusters, left_on=0, right_on='vertex')"
   ]
  },
  {
   "cell_type": "markdown",
   "metadata": {},
   "source": [
    "Отрисуем граф при помощи Networkx"
   ]
  },
  {
   "cell_type": "code",
   "execution_count": null,
   "metadata": {
    "execution": {
     "iopub.execute_input": "2023-05-12T06:46:40.526390Z",
     "iopub.status.busy": "2023-05-12T06:46:40.525967Z",
     "iopub.status.idle": "2023-05-12T06:46:40.646083Z",
     "shell.execute_reply": "2023-05-12T06:46:40.645446Z",
     "shell.execute_reply.started": "2023-05-12T06:46:40.526365Z"
    },
    "tags": []
   },
   "outputs": [],
   "source": [
    "nx.draw(G,node_color=clusters['partition'],node_size=200)"
   ]
  },
  {
   "cell_type": "markdown",
   "metadata": {},
   "source": [
    "## Multi-GPU"
   ]
  },
  {
   "cell_type": "markdown",
   "metadata": {},
   "source": [
    "Это нам уже знакомо. Используем dask-cudf и радуемся тому, что теперь все можно делать на нескольких GPU"
   ]
  },
  {
   "cell_type": "code",
   "execution_count": null,
   "metadata": {
    "execution": {
     "iopub.execute_input": "2023-05-12T06:47:30.618928Z",
     "iopub.status.busy": "2023-05-12T06:47:30.618485Z",
     "iopub.status.idle": "2023-05-12T06:47:30.622911Z",
     "shell.execute_reply": "2023-05-12T06:47:30.622082Z",
     "shell.execute_reply.started": "2023-05-12T06:47:30.618900Z"
    },
    "tags": []
   },
   "outputs": [],
   "source": [
    "import subprocess\n",
    "from dask_cuda import LocalCUDACluster\n",
    "from dask.distributed import Client, progress\n",
    "import dask_cudf\n",
    "import dask.dataframe as dd"
   ]
  },
  {
   "cell_type": "code",
   "execution_count": null,
   "metadata": {
    "execution": {
     "iopub.execute_input": "2023-05-12T06:47:31.391769Z",
     "iopub.status.busy": "2023-05-12T06:47:31.391183Z",
     "iopub.status.idle": "2023-05-12T06:47:34.540276Z",
     "shell.execute_reply": "2023-05-12T06:47:34.539464Z",
     "shell.execute_reply.started": "2023-05-12T06:47:31.391727Z"
    },
    "tags": []
   },
   "outputs": [],
   "source": [
    "cluster = LocalCUDACluster()\n",
    "client = Client(cluster)\n",
    "client"
   ]
  },
  {
   "cell_type": "code",
   "execution_count": null,
   "metadata": {
    "execution": {
     "iopub.execute_input": "2023-05-12T06:48:38.171465Z",
     "iopub.status.busy": "2023-05-12T06:48:38.170436Z",
     "iopub.status.idle": "2023-05-12T06:48:38.192429Z",
     "shell.execute_reply": "2023-05-12T06:48:38.191569Z",
     "shell.execute_reply.started": "2023-05-12T06:48:38.171421Z"
    },
    "tags": []
   },
   "outputs": [],
   "source": [
    "edges_gpu = dask_cudf.read_csv('karate-data.csv', sep='\\t', names=['source', 'destination'])"
   ]
  },
  {
   "cell_type": "code",
   "execution_count": null,
   "metadata": {
    "execution": {
     "iopub.execute_input": "2023-05-12T06:48:38.976937Z",
     "iopub.status.busy": "2023-05-12T06:48:38.976378Z",
     "iopub.status.idle": "2023-05-12T06:48:40.387277Z",
     "shell.execute_reply": "2023-05-12T06:48:40.386428Z",
     "shell.execute_reply.started": "2023-05-12T06:48:38.976896Z"
    },
    "tags": []
   },
   "outputs": [],
   "source": [
    "G_gpu = cg.Graph()\n",
    "G_gpu.from_cudf_edgelist(edges_gpu, source='source', destination='destination')"
   ]
  },
  {
   "cell_type": "code",
   "execution_count": null,
   "metadata": {
    "execution": {
     "iopub.execute_input": "2023-05-12T06:48:40.389044Z",
     "iopub.status.busy": "2023-05-12T06:48:40.388602Z",
     "iopub.status.idle": "2023-05-12T06:48:40.394161Z",
     "shell.execute_reply": "2023-05-12T06:48:40.393440Z",
     "shell.execute_reply.started": "2023-05-12T06:48:40.389019Z"
    },
    "tags": []
   },
   "outputs": [],
   "source": [
    "type(G_gpu.nodes())"
   ]
  },
  {
   "cell_type": "code",
   "execution_count": null,
   "metadata": {
    "execution": {
     "iopub.execute_input": "2023-05-12T06:48:42.310378Z",
     "iopub.status.busy": "2023-05-12T06:48:42.309930Z",
     "iopub.status.idle": "2023-05-12T06:48:42.365269Z",
     "shell.execute_reply": "2023-05-12T06:48:42.364588Z",
     "shell.execute_reply.started": "2023-05-12T06:48:42.310350Z"
    },
    "tags": []
   },
   "outputs": [],
   "source": [
    "get_centrality_by_betweenness(G_gpu)"
   ]
  },
  {
   "cell_type": "markdown",
   "metadata": {},
   "source": [
    "Ниже представлен алгоритм Гирвана-Ньюмена по поиску сообществ. Его идея:\n",
    "\n",
    "    1) Находим такое ребро, через которое проходит наибольшее количество кратчайших путей\n",
    "    2) Удаляем данное ребро из графа\n",
    "    3) После удаления ребра проверяем, не появились ли у нас изолированные сообщества\n",
    "    4) Повторяем алгоритм до получения нужного количества сообществ"
   ]
  },
  {
   "cell_type": "markdown",
   "metadata": {},
   "source": [
    "# Girvan-Newman (NetworkX)"
   ]
  },
  {
   "cell_type": "code",
   "execution_count": null,
   "metadata": {
    "execution": {
     "iopub.execute_input": "2023-05-12T06:49:00.611581Z",
     "iopub.status.busy": "2023-05-12T06:49:00.610789Z",
     "iopub.status.idle": "2023-05-12T06:49:00.616731Z",
     "shell.execute_reply": "2023-05-12T06:49:00.616099Z",
     "shell.execute_reply.started": "2023-05-12T06:49:00.611541Z"
    },
    "tags": []
   },
   "outputs": [],
   "source": [
    "def most_central_edge(G):\n",
    "    centrality = nx.algorithms.centrality.edge_betweenness_centrality(G)\n",
    "    return max(centrality, key=centrality.get)"
   ]
  },
  {
   "cell_type": "code",
   "execution_count": null,
   "metadata": {
    "execution": {
     "iopub.execute_input": "2023-05-12T06:49:01.549028Z",
     "iopub.status.busy": "2023-05-12T06:49:01.548565Z",
     "iopub.status.idle": "2023-05-12T06:49:01.554144Z",
     "shell.execute_reply": "2023-05-12T06:49:01.553439Z",
     "shell.execute_reply.started": "2023-05-12T06:49:01.549001Z"
    },
    "tags": []
   },
   "outputs": [],
   "source": [
    "def get_n_cluster(G, n_clusters):\n",
    "    G_new = G.copy()\n",
    "    while len(list(nx.connected_components(G_new))) < n_clusters:\n",
    "        edge_to_remove = most_central_edge(G_new)\n",
    "        G_new.remove_edge(edge_to_remove[0], edge_to_remove[1])\n",
    "    return list(nx.connected_components(G_new))"
   ]
  },
  {
   "cell_type": "code",
   "execution_count": null,
   "metadata": {
    "execution": {
     "iopub.execute_input": "2023-05-12T06:49:02.594182Z",
     "iopub.status.busy": "2023-05-12T06:49:02.593421Z",
     "iopub.status.idle": "2023-05-12T06:49:02.598404Z",
     "shell.execute_reply": "2023-05-12T06:49:02.597801Z",
     "shell.execute_reply.started": "2023-05-12T06:49:02.594154Z"
    },
    "tags": []
   },
   "outputs": [],
   "source": [
    "def get_color_map(G, connected_components):\n",
    "    b = {}\n",
    "    for i, values in enumerate(connected_components):\n",
    "        for value in values:\n",
    "            b[value] = i\n",
    "    color_map = []\n",
    "    for node in G.nodes():\n",
    "        color_map.append(b[node])\n",
    "    return color_map"
   ]
  },
  {
   "cell_type": "code",
   "execution_count": null,
   "metadata": {
    "execution": {
     "iopub.execute_input": "2023-05-12T06:49:04.993167Z",
     "iopub.status.busy": "2023-05-12T06:49:04.992665Z",
     "iopub.status.idle": "2023-05-12T06:49:05.480329Z",
     "shell.execute_reply": "2023-05-12T06:49:05.479541Z",
     "shell.execute_reply.started": "2023-05-12T06:49:04.993136Z"
    },
    "tags": []
   },
   "outputs": [],
   "source": [
    "clusters = get_n_cluster(G, 4)\n",
    "nx.draw(G,node_size=200, with_labels=True, node_color=get_color_map(G, clusters))"
   ]
  },
  {
   "cell_type": "markdown",
   "metadata": {},
   "source": [
    "# Домашнее задание\n",
    "\n",
    "В NetworkX есть алгоритм определения центральности через собственные вектора nx.algorithms.centrality.eigenvector_centrality(G). Сейчас мы рассмотрим реализацию данного алгоритма.\n",
    "Заданием будет следующее:\n",
    "\n",
    "    1) Переписать реализацию под GPU (cupy, numba, cudf, cugraph...)\n",
    "    2) Для графа карате клуба вычислить degree centrality, betweenness centrality, eigenvector centrality и pagerank.\n",
    "    3) Сравнить 4 характеристики между собой, на сколько они похожи \\ отличаются и в чем"
   ]
  },
  {
   "cell_type": "code",
   "execution_count": null,
   "metadata": {
    "execution": {
     "iopub.execute_input": "2023-05-12T06:49:29.522960Z",
     "iopub.status.busy": "2023-05-12T06:49:29.522243Z",
     "iopub.status.idle": "2023-05-12T06:49:29.532238Z",
     "shell.execute_reply": "2023-05-12T06:49:29.531331Z",
     "shell.execute_reply.started": "2023-05-12T06:49:29.522922Z"
    },
    "tags": []
   },
   "outputs": [],
   "source": [
    "nx.algorithms.centrality.eigenvector_centrality(G)"
   ]
  },
  {
   "cell_type": "code",
   "execution_count": null,
   "metadata": {
    "execution": {
     "iopub.execute_input": "2023-05-12T06:49:32.202090Z",
     "iopub.status.busy": "2023-05-12T06:49:32.201597Z",
     "iopub.status.idle": "2023-05-12T06:49:32.207740Z",
     "shell.execute_reply": "2023-05-12T06:49:32.207068Z",
     "shell.execute_reply.started": "2023-05-12T06:49:32.202048Z"
    },
    "tags": []
   },
   "outputs": [],
   "source": [
    "import numpy as np\n",
    "def eigen_centrality(G):\n",
    "    #переведем в матрицу numpy\n",
    "    M = nx.to_numpy_matrix(G)\n",
    "    #получим собственные вектора и собственные значения\n",
    "    eigenvalue, eigenvector = np.linalg.eig(M)\n",
    "    #берем вектор, соответсвующий наибольшему собственному значению\n",
    "    largest = np.array(eigenvector[:, 0].flatten().real)[0]\n",
    "    #нормируем\n",
    "    norm = np.sign(largest.sum()) * np.linalg.norm(largest)\n",
    "    eigen = largest / norm\n",
    "    return dict(zip(G, eigen))"
   ]
  },
  {
   "cell_type": "code",
   "execution_count": null,
   "metadata": {
    "execution": {
     "iopub.execute_input": "2023-05-12T06:49:33.204783Z",
     "iopub.status.busy": "2023-05-12T06:49:33.204348Z",
     "iopub.status.idle": "2023-05-12T06:49:33.211568Z",
     "shell.execute_reply": "2023-05-12T06:49:33.210895Z",
     "shell.execute_reply.started": "2023-05-12T06:49:33.204758Z"
    },
    "tags": []
   },
   "outputs": [],
   "source": [
    "eigen_centrality(G)"
   ]
  },
  {
   "cell_type": "markdown",
   "metadata": {},
   "source": [
    "Немного помощи с ДЗ"
   ]
  },
  {
   "cell_type": "code",
   "execution_count": null,
   "metadata": {
    "execution": {
     "iopub.execute_input": "2023-04-27T14:04:47.644771Z",
     "iopub.status.busy": "2023-04-27T14:04:47.644354Z",
     "iopub.status.idle": "2023-04-27T14:04:48.021921Z",
     "shell.execute_reply": "2023-04-27T14:04:48.021063Z",
     "shell.execute_reply.started": "2023-04-27T14:04:47.644752Z"
    },
    "tags": []
   },
   "outputs": [],
   "source": [
    "#если не добавить веса, то будет все ломаться\n",
    "edges_gpu['weights'] = 1"
   ]
  },
  {
   "cell_type": "code",
   "execution_count": null,
   "metadata": {
    "execution": {
     "iopub.execute_input": "2023-04-27T14:04:48.685108Z",
     "iopub.status.busy": "2023-04-27T14:04:48.684413Z",
     "iopub.status.idle": "2023-04-27T14:04:49.809212Z",
     "shell.execute_reply": "2023-04-27T14:04:49.808476Z",
     "shell.execute_reply.started": "2023-04-27T14:04:48.685086Z"
    },
    "scrolled": true,
    "tags": []
   },
   "outputs": [],
   "source": [
    "#результаты будут отличаться от networkx в том случае, если граф взять ненаправленным. Тут возьмите направленный!\n",
    "#влияет на матрицу смежности, собственные вектора получите, но они будут другими\n",
    "G_gpu = cg.DiGraph()\n",
    "G_gpu.from_cudf_edgelist(edges_gpu, source='source', destination='destination', edge_attr='weights')"
   ]
  },
  {
   "cell_type": "markdown",
   "metadata": {},
   "source": [
    "P.S. будьте внимательны с тем, где находится наибольшее собственное значение"
   ]
  }
 ],
 "metadata": {
  "kernelspec": {
   "display_name": "Python 3",
   "language": "python",
   "name": "python3"
  },
  "language_info": {
   "codemirror_mode": {
    "name": "ipython",
    "version": 3
   },
   "file_extension": ".py",
   "mimetype": "text/x-python",
   "name": "python",
   "nbconvert_exporter": "python",
   "pygments_lexer": "ipython3",
   "version": "3.8.8"
  }
 },
 "nbformat": 4,
 "nbformat_minor": 4
}
